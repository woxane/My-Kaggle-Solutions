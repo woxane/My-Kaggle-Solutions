{
 "cells": [
  {
   "cell_type": "markdown",
   "id": "a267a9ed-abd2-4a9d-aa7a-c2854b936d12",
   "metadata": {
    "jp-MarkdownHeadingCollapsed": true
   },
   "source": [
    "## Data"
   ]
  },
  {
   "cell_type": "code",
   "execution_count": 29,
   "id": "503062f8-2014-4409-b3f0-31453b82bb70",
   "metadata": {},
   "outputs": [],
   "source": [
    "import pandas as pd"
   ]
  },
  {
   "cell_type": "code",
   "execution_count": 113,
   "id": "78b4e23c-18d4-4f24-b7ef-220b09742105",
   "metadata": {},
   "outputs": [],
   "source": [
    "df = pd.read_csv('data/train.csv')\n",
    "df_preprocessed = pd.get_dummies(df, drop_first=True, dtype=int).astype(float)\n",
    "X = df_preprocessed.drop(['accident_risk', 'id'], axis=1)\n",
    "y = df_preprocessed['accident_risk']\n",
    "\n",
    "test_df = pd.read_csv('data/test.csv')"
   ]
  },
  {
   "cell_type": "markdown",
   "id": "b0d61550-5d09-478d-b7d5-832da6700535",
   "metadata": {
    "jp-MarkdownHeadingCollapsed": true
   },
   "source": [
    "## Create output"
   ]
  },
  {
   "cell_type": "code",
   "execution_count": 111,
   "id": "fc38f149-e168-4d8a-b05f-16c66a2b1412",
   "metadata": {},
   "outputs": [],
   "source": [
    "def submission_generator(trained_model, test_df):\n",
    "    preprocessed_df = pd.get_dummies(test_df, drop_first=True, dtype=int).astype(float).drop('id', axis=1)\n",
    "\n",
    "    return pd.concat([test_df['id'], pd.Series(clf.predict(test_df_p))], axis=1).rename({0: 'accident_risk'}, axis=1)"
   ]
  },
  {
   "cell_type": "markdown",
   "id": "164c3e66-b324-42ff-95cc-24ebda8c1efd",
   "metadata": {
    "jp-MarkdownHeadingCollapsed": true
   },
   "source": [
    "## Evaluation Model"
   ]
  },
  {
   "cell_type": "code",
   "execution_count": 33,
   "id": "89c9401f-a55d-4be4-a3e9-7fd2dd119f14",
   "metadata": {},
   "outputs": [],
   "source": [
    "from sklearn.model_selection import KFold\n",
    "from sklearn.metrics import root_mean_squared_error\n",
    "\n",
    "kf = KFold(5, shuffle=True)\n",
    "\n",
    "def evaluate_model(model_object, X, verbose=True, **kwargs):\n",
    "    rmses = []\n",
    "    for i, (train_index, test_index) in enumerate(kf.split(X)):\n",
    "        train_data = X.iloc[train_index]\n",
    "        test_data = X.iloc[test_index]\n",
    "\n",
    "        train_output = y.iloc[train_index]\n",
    "        test_output = y.iloc[test_index]\n",
    "\n",
    "        model = model_object(**kwargs)\n",
    "        model.fit(train_data, train_output)\n",
    "\n",
    "        y_pred = model.predict(test_data)\n",
    "\n",
    "        rmse = root_mean_squared_error(y_pred, test_output)\n",
    "        if verbose:\n",
    "            print(f\"fold: {i}, rmse: {rmse:.6f}\")\n",
    "        rmses.append(rmse)\n",
    "\n",
    "    return np.mean(rmses)"
   ]
  },
  {
   "cell_type": "markdown",
   "id": "00c57c03-a13a-46c1-a771-e90ee1ccd360",
   "metadata": {
    "jp-MarkdownHeadingCollapsed": true
   },
   "source": [
    "## Models"
   ]
  },
  {
   "cell_type": "markdown",
   "id": "93e7d72d-1e69-4204-9c01-f15788dc3b99",
   "metadata": {
    "jp-MarkdownHeadingCollapsed": true
   },
   "source": [
    "### Linear Regression"
   ]
  },
  {
   "cell_type": "code",
   "execution_count": 1,
   "id": "a422e287-e4af-4a54-9941-0168c56cbb78",
   "metadata": {},
   "outputs": [],
   "source": [
    "from sklearn.model_selection import train_test_split\n",
    "from sklearn.model_selection import KFold\n",
    "from sklearn.linear_model import LinearRegression\n",
    "from sklearn.metrics import root_mean_squared_error"
   ]
  },
  {
   "cell_type": "code",
   "execution_count": 9,
   "id": "c1a8072d-e2f2-45d4-a93a-0a0d239a560f",
   "metadata": {},
   "outputs": [],
   "source": [
    "linear_regression = LinearRegression()\n",
    "linear_regression.fit(X_train, y_train)\n",
    "\n",
    "y_pred = linear_regression.predict(X_test)"
   ]
  },
  {
   "cell_type": "code",
   "execution_count": 11,
   "id": "e3316830-e620-4dbb-a390-8cf88e44c008",
   "metadata": {},
   "outputs": [
    {
     "data": {
      "text/plain": [
       "0.07330965157891249"
      ]
     },
     "execution_count": 11,
     "metadata": {},
     "output_type": "execute_result"
    }
   ],
   "source": [
    "root_mean_squared_error(y_pred, y_test)"
   ]
  },
  {
   "cell_type": "code",
   "execution_count": 13,
   "id": "8e007abb-81c9-458b-ad4a-07c82508f122",
   "metadata": {},
   "outputs": [
    {
     "name": "stdout",
     "output_type": "stream",
     "text": [
      "fold: 0, rmse: 0.07342207604557457\n",
      "fold: 1, rmse: 0.07333548214978462\n",
      "fold: 2, rmse: 0.07347474666973686\n",
      "fold: 3, rmse: 0.07360227905727774\n",
      "fold: 4, rmse: 0.07364548672122433\n"
     ]
    }
   ],
   "source": [
    "kf = KFold(5, shuffle=True)\n",
    "kf.get_n_splits(X)\n",
    "\n",
    "for i, (train_index, test_index) in enumerate(kf.split(X)):\n",
    "    linear_regression.fit(X.iloc[train_index], y.iloc[train_index])\n",
    "    y_pred = linear_regression.predict(X.iloc[test_index])\n",
    "    rmse = root_mean_squared_error(y.iloc[test_index], y_pred)\n",
    "    print(f\"fold: {i}, rmse: {rmse}\")"
   ]
  },
  {
   "cell_type": "markdown",
   "id": "72869407-13c7-4f7e-a2e0-9be64aeb3732",
   "metadata": {
    "jp-MarkdownHeadingCollapsed": true
   },
   "source": [
    "### Decision Tree"
   ]
  },
  {
   "cell_type": "code",
   "execution_count": 31,
   "id": "58480f33-8b8a-4648-99fc-3cfdc04e11ec",
   "metadata": {},
   "outputs": [],
   "source": [
    "from sklearn.tree import DecisionTreeRegressor, plot_tree\n",
    "import numpy as np"
   ]
  },
  {
   "cell_type": "code",
   "execution_count": 41,
   "id": "f051c96c-06d3-4f13-ad15-952dadbf127a",
   "metadata": {
    "scrolled": true
   },
   "outputs": [
    {
     "name": "stdout",
     "output_type": "stream",
     "text": [
      "max_depth: 2, min_samples_split: 2, rmse: 0.118667\n",
      "max_depth: 2, min_samples_split: 22, rmse: 0.118668\n",
      "max_depth: 2, min_samples_split: 42, rmse: 0.118667\n",
      "max_depth: 2, min_samples_split: 62, rmse: 0.118668\n",
      "max_depth: 2, min_samples_split: 82, rmse: 0.118668\n",
      "max_depth: 2, min_samples_split: 102, rmse: 0.118667\n",
      "max_depth: 2, min_samples_split: 122, rmse: 0.118668\n",
      "max_depth: 2, min_samples_split: 142, rmse: 0.118668\n",
      "max_depth: 2, min_samples_split: 162, rmse: 0.118668\n",
      "max_depth: 2, min_samples_split: 182, rmse: 0.118667\n",
      "max_depth: 2, min_samples_split: 202, rmse: 0.118667\n",
      "max_depth: 2, min_samples_split: 222, rmse: 0.118668\n",
      "max_depth: 2, min_samples_split: 242, rmse: 0.118667\n",
      "max_depth: 2, min_samples_split: 262, rmse: 0.118668\n",
      "max_depth: 2, min_samples_split: 282, rmse: 0.118668\n",
      "max_depth: 2, min_samples_split: 302, rmse: 0.118667\n",
      "max_depth: 2, min_samples_split: 322, rmse: 0.118668\n",
      "max_depth: 2, min_samples_split: 342, rmse: 0.118668\n",
      "max_depth: 2, min_samples_split: 362, rmse: 0.118668\n",
      "max_depth: 2, min_samples_split: 382, rmse: 0.118668\n",
      "max_depth: 2, min_samples_split: 402, rmse: 0.118668\n",
      "max_depth: 2, min_samples_split: 422, rmse: 0.118667\n",
      "max_depth: 2, min_samples_split: 442, rmse: 0.118667\n",
      "max_depth: 2, min_samples_split: 462, rmse: 0.118667\n",
      "max_depth: 2, min_samples_split: 482, rmse: 0.118668\n",
      "max_depth: 7, min_samples_split: 2, rmse: 0.057934\n",
      "max_depth: 7, min_samples_split: 22, rmse: 0.057953\n",
      "max_depth: 7, min_samples_split: 42, rmse: 0.057948\n",
      "max_depth: 7, min_samples_split: 62, rmse: 0.057967\n",
      "max_depth: 7, min_samples_split: 82, rmse: 0.057947\n",
      "max_depth: 7, min_samples_split: 102, rmse: 0.057948\n",
      "max_depth: 7, min_samples_split: 122, rmse: 0.057971\n",
      "max_depth: 7, min_samples_split: 142, rmse: 0.057954\n",
      "max_depth: 7, min_samples_split: 162, rmse: 0.057956\n",
      "max_depth: 7, min_samples_split: 182, rmse: 0.057941\n",
      "max_depth: 7, min_samples_split: 202, rmse: 0.057950\n",
      "max_depth: 7, min_samples_split: 222, rmse: 0.057940\n",
      "max_depth: 7, min_samples_split: 242, rmse: 0.057948\n",
      "max_depth: 7, min_samples_split: 262, rmse: 0.057938\n",
      "max_depth: 7, min_samples_split: 282, rmse: 0.057953\n",
      "max_depth: 7, min_samples_split: 302, rmse: 0.057958\n",
      "max_depth: 7, min_samples_split: 322, rmse: 0.057950\n",
      "max_depth: 7, min_samples_split: 342, rmse: 0.057954\n",
      "max_depth: 7, min_samples_split: 362, rmse: 0.057949\n",
      "max_depth: 7, min_samples_split: 382, rmse: 0.057954\n",
      "max_depth: 7, min_samples_split: 402, rmse: 0.057959\n",
      "max_depth: 7, min_samples_split: 422, rmse: 0.057943\n",
      "max_depth: 7, min_samples_split: 442, rmse: 0.057943\n",
      "max_depth: 7, min_samples_split: 462, rmse: 0.057942\n",
      "max_depth: 7, min_samples_split: 482, rmse: 0.057946\n",
      "max_depth: 12, min_samples_split: 2, rmse: 0.056975\n",
      "max_depth: 12, min_samples_split: 22, rmse: 0.056723\n",
      "max_depth: 12, min_samples_split: 42, rmse: 0.056686\n",
      "max_depth: 12, min_samples_split: 62, rmse: 0.056632\n",
      "max_depth: 12, min_samples_split: 82, rmse: 0.056582\n",
      "max_depth: 12, min_samples_split: 102, rmse: 0.056588\n",
      "max_depth: 12, min_samples_split: 122, rmse: 0.056550\n",
      "max_depth: 12, min_samples_split: 142, rmse: 0.056523\n",
      "max_depth: 12, min_samples_split: 162, rmse: 0.056524\n",
      "max_depth: 12, min_samples_split: 182, rmse: 0.056489\n",
      "max_depth: 12, min_samples_split: 202, rmse: 0.056441\n",
      "max_depth: 12, min_samples_split: 222, rmse: 0.056459\n",
      "max_depth: 12, min_samples_split: 242, rmse: 0.056453\n",
      "max_depth: 12, min_samples_split: 262, rmse: 0.056464\n",
      "max_depth: 12, min_samples_split: 282, rmse: 0.056459\n",
      "max_depth: 12, min_samples_split: 302, rmse: 0.056457\n",
      "max_depth: 12, min_samples_split: 322, rmse: 0.056424\n",
      "max_depth: 12, min_samples_split: 342, rmse: 0.056456\n",
      "max_depth: 12, min_samples_split: 362, rmse: 0.056395\n",
      "max_depth: 12, min_samples_split: 382, rmse: 0.056445\n",
      "max_depth: 12, min_samples_split: 402, rmse: 0.056414\n",
      "max_depth: 12, min_samples_split: 422, rmse: 0.056382\n",
      "max_depth: 12, min_samples_split: 442, rmse: 0.056430\n",
      "max_depth: 12, min_samples_split: 462, rmse: 0.056396\n",
      "max_depth: 12, min_samples_split: 482, rmse: 0.056408\n",
      "max_depth: 17, min_samples_split: 2, rmse: 0.067241\n",
      "max_depth: 17, min_samples_split: 22, rmse: 0.060529\n",
      "max_depth: 17, min_samples_split: 42, rmse: 0.058783\n",
      "max_depth: 17, min_samples_split: 62, rmse: 0.058098\n",
      "max_depth: 17, min_samples_split: 82, rmse: 0.057595\n",
      "max_depth: 17, min_samples_split: 102, rmse: 0.057302\n",
      "max_depth: 17, min_samples_split: 122, rmse: 0.057149\n",
      "max_depth: 17, min_samples_split: 142, rmse: 0.057002\n",
      "max_depth: 17, min_samples_split: 162, rmse: 0.056928\n",
      "max_depth: 17, min_samples_split: 182, rmse: 0.056825\n",
      "max_depth: 17, min_samples_split: 202, rmse: 0.056730\n",
      "max_depth: 17, min_samples_split: 222, rmse: 0.056699\n",
      "max_depth: 17, min_samples_split: 242, rmse: 0.056630\n",
      "max_depth: 17, min_samples_split: 262, rmse: 0.056621\n",
      "max_depth: 17, min_samples_split: 282, rmse: 0.056595\n",
      "max_depth: 17, min_samples_split: 302, rmse: 0.056565\n",
      "max_depth: 17, min_samples_split: 322, rmse: 0.056530\n",
      "max_depth: 17, min_samples_split: 342, rmse: 0.056506\n",
      "max_depth: 17, min_samples_split: 362, rmse: 0.056492\n",
      "max_depth: 17, min_samples_split: 382, rmse: 0.056470\n",
      "max_depth: 17, min_samples_split: 402, rmse: 0.056472\n",
      "max_depth: 17, min_samples_split: 422, rmse: 0.056442\n",
      "max_depth: 17, min_samples_split: 442, rmse: 0.056416\n",
      "max_depth: 17, min_samples_split: 462, rmse: 0.056462\n",
      "max_depth: 17, min_samples_split: 482, rmse: 0.056430\n",
      "max_depth: 22, min_samples_split: 2, rmse: 0.081784\n",
      "max_depth: 22, min_samples_split: 22, rmse: 0.061637\n",
      "max_depth: 22, min_samples_split: 42, rmse: 0.059058\n",
      "max_depth: 22, min_samples_split: 62, rmse: 0.058139\n",
      "max_depth: 22, min_samples_split: 82, rmse: 0.057690\n",
      "max_depth: 22, min_samples_split: 102, rmse: 0.057369\n",
      "max_depth: 22, min_samples_split: 122, rmse: 0.057158\n",
      "max_depth: 22, min_samples_split: 142, rmse: 0.057001\n",
      "max_depth: 22, min_samples_split: 162, rmse: 0.056866\n",
      "max_depth: 22, min_samples_split: 182, rmse: 0.056813\n",
      "max_depth: 22, min_samples_split: 202, rmse: 0.056747\n",
      "max_depth: 22, min_samples_split: 222, rmse: 0.056673\n",
      "max_depth: 22, min_samples_split: 242, rmse: 0.056641\n",
      "max_depth: 22, min_samples_split: 262, rmse: 0.056628\n",
      "max_depth: 22, min_samples_split: 282, rmse: 0.056537\n",
      "max_depth: 22, min_samples_split: 302, rmse: 0.056527\n",
      "max_depth: 22, min_samples_split: 322, rmse: 0.056531\n",
      "max_depth: 22, min_samples_split: 342, rmse: 0.056501\n",
      "max_depth: 22, min_samples_split: 362, rmse: 0.056500\n",
      "max_depth: 22, min_samples_split: 382, rmse: 0.056441\n",
      "max_depth: 22, min_samples_split: 402, rmse: 0.056462\n",
      "max_depth: 22, min_samples_split: 422, rmse: 0.056459\n",
      "max_depth: 22, min_samples_split: 442, rmse: 0.056460\n",
      "max_depth: 22, min_samples_split: 462, rmse: 0.056438\n",
      "max_depth: 22, min_samples_split: 482, rmse: 0.056445\n",
      "max_depth: 27, min_samples_split: 2, rmse: 0.082990\n",
      "max_depth: 27, min_samples_split: 22, rmse: 0.061675\n",
      "max_depth: 27, min_samples_split: 42, rmse: 0.059071\n",
      "max_depth: 27, min_samples_split: 62, rmse: 0.058137\n",
      "max_depth: 27, min_samples_split: 82, rmse: 0.057648\n",
      "max_depth: 27, min_samples_split: 102, rmse: 0.057325\n",
      "max_depth: 27, min_samples_split: 122, rmse: 0.057148\n",
      "max_depth: 27, min_samples_split: 142, rmse: 0.056968\n",
      "max_depth: 27, min_samples_split: 162, rmse: 0.056892\n",
      "max_depth: 27, min_samples_split: 182, rmse: 0.056805\n",
      "max_depth: 27, min_samples_split: 202, rmse: 0.056719\n",
      "max_depth: 27, min_samples_split: 222, rmse: 0.056700\n",
      "max_depth: 27, min_samples_split: 242, rmse: 0.056650\n",
      "max_depth: 27, min_samples_split: 262, rmse: 0.056578\n",
      "max_depth: 27, min_samples_split: 282, rmse: 0.056599\n",
      "max_depth: 27, min_samples_split: 302, rmse: 0.056534\n",
      "max_depth: 27, min_samples_split: 322, rmse: 0.056529\n",
      "max_depth: 27, min_samples_split: 342, rmse: 0.056504\n",
      "max_depth: 27, min_samples_split: 362, rmse: 0.056495\n",
      "max_depth: 27, min_samples_split: 382, rmse: 0.056461\n",
      "max_depth: 27, min_samples_split: 402, rmse: 0.056485\n",
      "max_depth: 27, min_samples_split: 422, rmse: 0.056445\n",
      "max_depth: 27, min_samples_split: 442, rmse: 0.056424\n",
      "max_depth: 27, min_samples_split: 462, rmse: 0.056431\n",
      "max_depth: 27, min_samples_split: 482, rmse: 0.056404\n",
      "max_depth: 32, min_samples_split: 2, rmse: 0.082931\n",
      "max_depth: 32, min_samples_split: 22, rmse: 0.061578\n",
      "max_depth: 32, min_samples_split: 42, rmse: 0.059155\n",
      "max_depth: 32, min_samples_split: 62, rmse: 0.058136\n",
      "max_depth: 32, min_samples_split: 82, rmse: 0.057668\n",
      "max_depth: 32, min_samples_split: 102, rmse: 0.057350\n",
      "max_depth: 32, min_samples_split: 122, rmse: 0.057144\n",
      "max_depth: 32, min_samples_split: 142, rmse: 0.056989\n",
      "max_depth: 32, min_samples_split: 162, rmse: 0.056887\n",
      "max_depth: 32, min_samples_split: 182, rmse: 0.056795\n",
      "max_depth: 32, min_samples_split: 202, rmse: 0.056751\n",
      "max_depth: 32, min_samples_split: 222, rmse: 0.056698\n",
      "max_depth: 32, min_samples_split: 242, rmse: 0.056655\n",
      "max_depth: 32, min_samples_split: 262, rmse: 0.056650\n",
      "max_depth: 32, min_samples_split: 282, rmse: 0.056549\n",
      "max_depth: 32, min_samples_split: 302, rmse: 0.056551\n",
      "max_depth: 32, min_samples_split: 322, rmse: 0.056512\n",
      "max_depth: 32, min_samples_split: 342, rmse: 0.056492\n",
      "max_depth: 32, min_samples_split: 362, rmse: 0.056489\n",
      "max_depth: 32, min_samples_split: 382, rmse: 0.056467\n",
      "max_depth: 32, min_samples_split: 402, rmse: 0.056462\n",
      "max_depth: 32, min_samples_split: 422, rmse: 0.056473\n",
      "max_depth: 32, min_samples_split: 442, rmse: 0.056419\n",
      "max_depth: 32, min_samples_split: 462, rmse: 0.056428\n",
      "max_depth: 32, min_samples_split: 482, rmse: 0.056450\n",
      "max_depth: 37, min_samples_split: 2, rmse: 0.083020\n",
      "max_depth: 37, min_samples_split: 22, rmse: 0.061623\n",
      "max_depth: 37, min_samples_split: 42, rmse: 0.059043\n",
      "max_depth: 37, min_samples_split: 62, rmse: 0.058103\n",
      "max_depth: 37, min_samples_split: 82, rmse: 0.057634\n",
      "max_depth: 37, min_samples_split: 102, rmse: 0.057362\n",
      "max_depth: 37, min_samples_split: 122, rmse: 0.057161\n",
      "max_depth: 37, min_samples_split: 142, rmse: 0.057008\n",
      "max_depth: 37, min_samples_split: 162, rmse: 0.056846\n",
      "max_depth: 37, min_samples_split: 182, rmse: 0.056786\n",
      "max_depth: 37, min_samples_split: 202, rmse: 0.056765\n",
      "max_depth: 37, min_samples_split: 222, rmse: 0.056707\n",
      "max_depth: 37, min_samples_split: 242, rmse: 0.056656\n",
      "max_depth: 37, min_samples_split: 262, rmse: 0.056612\n",
      "max_depth: 37, min_samples_split: 282, rmse: 0.056569\n",
      "max_depth: 37, min_samples_split: 302, rmse: 0.056532\n",
      "max_depth: 37, min_samples_split: 322, rmse: 0.056542\n",
      "max_depth: 37, min_samples_split: 342, rmse: 0.056504\n",
      "max_depth: 37, min_samples_split: 362, rmse: 0.056499\n",
      "max_depth: 37, min_samples_split: 382, rmse: 0.056463\n",
      "max_depth: 37, min_samples_split: 402, rmse: 0.056469\n",
      "max_depth: 37, min_samples_split: 422, rmse: 0.056477\n",
      "max_depth: 37, min_samples_split: 442, rmse: 0.056442\n",
      "max_depth: 37, min_samples_split: 462, rmse: 0.056431\n",
      "max_depth: 37, min_samples_split: 482, rmse: 0.056447\n"
     ]
    }
   ],
   "source": [
    "max_depths = np.arange(2, 40, 5)\n",
    "min_samples_splits = np.arange(2, 500, 20)\n",
    "\n",
    "rmses = np.zeros((len(max_depths), len(min_samples_splits)))\n",
    "\n",
    "for i, max_depth in enumerate(max_depths):\n",
    "    for j, min_samples_split in enumerate(min_samples_splits):\n",
    "        cv_rmse = evaluate_model(DecisionTreeRegressor,\n",
    "                                 max_depth=max_depth,\n",
    "                                 min_samples_split=min_samples_split)\n",
    "        print(f\"max_depth: {max_depth}, min_samples_split: {min_samples_split}, rmse: {cv_rmse:.6f}\")\n",
    "        rmses[i, j] = cv_rmse"
   ]
  },
  {
   "cell_type": "code",
   "execution_count": 47,
   "id": "84f45847-bb17-4c1d-bc9a-b2cf6b86cc9f",
   "metadata": {},
   "outputs": [
    {
     "data": {
      "image/png": "[encoded data removed]",
      "text/plain": [
       "<Figure size 1000x600 with 2 Axes>"
      ]
     },
     "metadata": {},
     "output_type": "display_data"
    }
   ],
   "source": [
    "import matplotlib.pyplot as plt\n",
    "import seaborn as sns\n",
    "\n",
    "plt.figure(figsize=(10, 6))\n",
    "sns.heatmap(rmses, \n",
    "            xticklabels=min_samples_splits,\n",
    "            yticklabels=max_depths,\n",
    "            cmap=\"viridis\", \n",
    "            fmt=\".2f\")\n",
    "\n",
    "plt.xlabel(\"min_samples_split\")\n",
    "plt.ylabel(\"max_depth\")\n",
    "plt.title(\"Decision Tree CV RMSE Heatmap\")\n",
    "plt.show()"
   ]
  },
  {
   "cell_type": "code",
   "execution_count": 63,
   "id": "ec10a381-2252-47ea-ab70-704f82454109",
   "metadata": {},
   "outputs": [
    {
     "data": {
      "text/plain": [
       "(2, 21)"
      ]
     },
     "execution_count": 63,
     "metadata": {},
     "output_type": "execute_result"
    }
   ],
   "source": [
    "np.unravel_index(np.argmin(rmses), rmses.shape)"
   ]
  },
  {
   "cell_type": "code",
   "execution_count": 69,
   "id": "c1eb70dc-b63f-411a-8ea6-386f5a4cc245",
   "metadata": {},
   "outputs": [
    {
     "data": {
      "text/plain": [
       "0.05638241152007821"
      ]
     },
     "execution_count": 69,
     "metadata": {},
     "output_type": "execute_result"
    }
   ],
   "source": [
    "rmses[2][21]"
   ]
  },
  {
   "cell_type": "markdown",
   "id": "4707c247-34b1-400d-8087-9e7864df3eff",
   "metadata": {
    "jp-MarkdownHeadingCollapsed": true
   },
   "source": [
    "### Random Forst"
   ]
  },
  {
   "cell_type": "code",
   "execution_count": 72,
   "id": "5a425ab1-f18d-40f6-92b7-544d155394f7",
   "metadata": {},
   "outputs": [],
   "source": [
    "from sklearn.ensemble import RandomForestRegressor"
   ]
  },
  {
   "cell_type": "code",
   "execution_count": 89,
   "id": "0b863417-834c-4a1f-b21c-7322a044b995",
   "metadata": {},
   "outputs": [
    {
     "name": "stdout",
     "output_type": "stream",
     "text": [
      "fold: 0, rmse: 0.059148\n",
      "fold: 1, rmse: 0.059490\n",
      "fold: 2, rmse: 0.058975\n",
      "fold: 3, rmse: 0.058966\n",
      "fold: 4, rmse: 0.058859\n"
     ]
    },
    {
     "data": {
      "text/plain": [
       "0.05908786009723153"
      ]
     },
     "execution_count": 89,
     "metadata": {},
     "output_type": "execute_result"
    }
   ],
   "source": [
    "evaluate_model(RandomForestRegressor, max_features='sqrt')"
   ]
  },
  {
   "cell_type": "markdown",
   "id": "d108d450-816f-4442-ba98-055f431b4ebb",
   "metadata": {
    "jp-MarkdownHeadingCollapsed": true
   },
   "source": [
    "### Random Forst + noise, feature selection"
   ]
  },
  {
   "cell_type": "markdown",
   "id": "2b3ba743-4fa0-482a-932c-9d31e1e172ab",
   "metadata": {
    "jp-MarkdownHeadingCollapsed": true
   },
   "source": [
    "#### Feature Selection"
   ]
  },
  {
   "cell_type": "code",
   "execution_count": 7,
   "id": "1cd8b166-9e5e-4184-bd23-e040b01b972c",
   "metadata": {},
   "outputs": [],
   "source": [
    "from sklearn.ensemble import RandomForestRegressor\n",
    "from sklearn.model_selection import train_test_split\n",
    "from sklearn.metrics import root_mean_squared_error\n",
    "\n",
    "import seaborn as sns\n",
    "import numpy as np"
   ]
  },
  {
   "cell_type": "code",
   "execution_count": 9,
   "id": "30d2bce6-fd80-4583-a858-88ddedde5a29",
   "metadata": {},
   "outputs": [],
   "source": [
    "X_copy = X.copy()\n",
    "X_copy['noise'] = np.random.normal(0, 0.5, X.iloc[:, 0].shape)\n",
    "\n",
    "X_noise_train, X_noise_test, y_noise_train, y_noise_test = train_test_split(X_copy, y, test_size=0.3)"
   ]
  },
  {
   "cell_type": "code",
   "execution_count": 11,
   "id": "983b8b32-7704-4459-bdf5-2b2e51e7378e",
   "metadata": {},
   "outputs": [
    {
     "data": {
      "text/plain": [
       "0.05772420102039242"
      ]
     },
     "execution_count": 11,
     "metadata": {},
     "output_type": "execute_result"
    }
   ],
   "source": [
    "clf = RandomForestRegressor(max_features='sqrt')\n",
    "clf.fit(X_noise_train, y_noise_train)\n",
    "y_noise_pred = clf.predict(X_noise_test)\n",
    "root_mean_squared_error(y_noise_test, y_noise_pred)"
   ]
  },
  {
   "cell_type": "code",
   "execution_count": 13,
   "id": "257d69e3-5de3-49e2-a81a-0b920bf37e06",
   "metadata": {},
   "outputs": [
    {
     "data": {
      "text/plain": [
       "<Axes: xlabel='feature_importances', ylabel='feature_names'>"
      ]
     },
     "execution_count": 13,
     "metadata": {},
     "output_type": "execute_result"
    },
    {
     "data": {
      "image/png": "[encoded data removed]",
      "text/plain": [
       "<Figure size 640x480 with 1 Axes>"
      ]
     },
     "metadata": {},
     "output_type": "display_data"
    }
   ],
   "source": [
    "data = {\n",
    "    \"feature_importances\": clf.feature_importances_,\n",
    "    \"feature_names\": clf.feature_names_in_,\n",
    "}\n",
    "sns.barplot(data=data, x='feature_importances', y='feature_names')"
   ]
  },
  {
   "cell_type": "code",
   "execution_count": 15,
   "id": "f6470d04-1175-45ba-84aa-b7d244f65d28",
   "metadata": {},
   "outputs": [
    {
     "data": {
      "text/html": [
       "<div>\n",
       "<style scoped>\n",
       "    .dataframe tbody tr th:only-of-type {\n",
       "        vertical-align: middle;\n",
       "    }\n",
       "\n",
       "    .dataframe tbody tr th {\n",
       "        vertical-align: top;\n",
       "    }\n",
       "\n",
       "    .dataframe thead th {\n",
       "        text-align: right;\n",
       "    }\n",
       "</style>\n",
       "<table border=\"1\" class=\"dataframe\">\n",
       "  <thead>\n",
       "    <tr style=\"text-align: right;\">\n",
       "      <th></th>\n",
       "      <th>feature_importances</th>\n",
       "    </tr>\n",
       "    <tr>\n",
       "      <th>feature_names</th>\n",
       "      <th></th>\n",
       "    </tr>\n",
       "  </thead>\n",
       "  <tbody>\n",
       "    <tr>\n",
       "      <th>curvature</th>\n",
       "      <td>0.304897</td>\n",
       "    </tr>\n",
       "    <tr>\n",
       "      <th>speed_limit</th>\n",
       "      <td>0.252762</td>\n",
       "    </tr>\n",
       "    <tr>\n",
       "      <th>num_reported_accidents</th>\n",
       "      <td>0.069109</td>\n",
       "    </tr>\n",
       "    <tr>\n",
       "      <th>lighting_night</th>\n",
       "      <td>0.207965</td>\n",
       "    </tr>\n",
       "  </tbody>\n",
       "</table>\n",
       "</div>"
      ],
      "text/plain": [
       "                        feature_importances\n",
       "feature_names                              \n",
       "curvature                          0.304897\n",
       "speed_limit                        0.252762\n",
       "num_reported_accidents             0.069109\n",
       "lighting_night                     0.207965"
      ]
     },
     "execution_count": 15,
     "metadata": {},
     "output_type": "execute_result"
    }
   ],
   "source": [
    "df_fi = pd.DataFrame(data)\n",
    "df_fi = df_fi.set_index('feature_names')\n",
    "selected_features = df_fi[df_fi > df_fi.loc['noise'].iloc[0]].dropna()\n",
    "selected_features"
   ]
  },
  {
   "cell_type": "markdown",
   "id": "bfd4656f-df55-4149-99ff-9b92cbc3e627",
   "metadata": {
    "jp-MarkdownHeadingCollapsed": true
   },
   "source": [
    "#### Random Forest and Selected features"
   ]
  },
  {
   "cell_type": "code",
   "execution_count": 17,
   "id": "72b7811b-f57f-4997-9106-fbcc36fdbdbc",
   "metadata": {},
   "outputs": [],
   "source": [
    "from sklearn.ensemble import RandomForestRegressor\n",
    "from sklearn.model_selection import train_test_split\n",
    "from sklearn.metrics import root_mean_squared_error\n",
    "\n",
    "import seaborn as sns\n",
    "import numpy as np"
   ]
  },
  {
   "cell_type": "code",
   "execution_count": 19,
   "id": "bf2da193-5f42-456d-8b49-813e11194672",
   "metadata": {},
   "outputs": [],
   "source": [
    "selected_feature_names = selected_features.index\n",
    "\n",
    "X_selected = X.loc[:, selected_feature_names]"
   ]
  },
  {
   "cell_type": "code",
   "execution_count": 21,
   "id": "bf70e658-127e-4f36-934e-35f4ae42c1de",
   "metadata": {},
   "outputs": [
    {
     "name": "stdout",
     "output_type": "stream",
     "text": [
      "fold: 0, rmse: 0.070764\n",
      "fold: 1, rmse: 0.070396\n",
      "fold: 2, rmse: 0.070678\n",
      "fold: 3, rmse: 0.070872\n",
      "fold: 4, rmse: 0.070716\n"
     ]
    },
    {
     "data": {
      "text/plain": [
       "0.07068511307153134"
      ]
     },
     "execution_count": 21,
     "metadata": {},
     "output_type": "execute_result"
    }
   ],
   "source": [
    "evaluate_model(RandomForestRegressor, X_selected, max_features='sqrt')"
   ]
  },
  {
   "cell_type": "markdown",
   "id": "6021e22e-bf84-4c2b-b3ef-5c15585ba23d",
   "metadata": {
    "jp-MarkdownHeadingCollapsed": true
   },
   "source": [
    "### SVM + w/selection_features"
   ]
  },
  {
   "cell_type": "code",
   "execution_count": 249,
   "id": "35f80314-d58f-4ced-ae92-46f0731487b1",
   "metadata": {},
   "outputs": [],
   "source": [
    "from sklearn.svm import SVR"
   ]
  },
  {
   "cell_type": "code",
   "execution_count": null,
   "id": "60f86b38-3557-45e8-871d-1913023e848b",
   "metadata": {},
   "outputs": [],
   "source": [
    "evaluate_model(SVR, X)"
   ]
  },
  {
   "cell_type": "markdown",
   "id": "ca91441b-ace2-46e1-bd80-47b41f33f836",
   "metadata": {
    "jp-MarkdownHeadingCollapsed": true
   },
   "source": [
    "### XGBoost"
   ]
  },
  {
   "cell_type": "code",
   "execution_count": 33,
   "id": "d3d876c5-f7e6-4b56-8c22-d6c7dc370d68",
   "metadata": {},
   "outputs": [],
   "source": [
    "from xgboost import XGBRegressor\n",
    "\n",
    "from sklearn.model_selection import train_test_split\n",
    "from sklearn.metrics import root_mean_squared_error"
   ]
  },
  {
   "cell_type": "code",
   "execution_count": 47,
   "id": "574284b4-eda0-400c-96a9-f41a9900d9c6",
   "metadata": {},
   "outputs": [
    {
     "name": "stdout",
     "output_type": "stream",
     "text": [
      "fold: 0, rmse: 0.057106\n",
      "fold: 1, rmse: 0.056844\n",
      "fold: 2, rmse: 0.056968\n",
      "fold: 3, rmse: 0.056442\n",
      "fold: 4, rmse: 0.056935\n"
     ]
    },
    {
     "data": {
      "text/plain": [
       "0.05685897968259945"
      ]
     },
     "execution_count": 47,
     "metadata": {},
     "output_type": "execute_result"
    }
   ],
   "source": [
    "evaluate_model(XGBRegressor, X, n_estimators=1000)"
   ]
  },
  {
   "cell_type": "markdown",
   "id": "bbbbe659-6091-4bc0-ac7d-d3b78f90b79e",
   "metadata": {
    "jp-MarkdownHeadingCollapsed": true
   },
   "source": [
    "### Lightgbm"
   ]
  },
  {
   "cell_type": "code",
   "execution_count": 50,
   "id": "283e3eb7-c6c2-4ba3-af71-5270ec50e8b3",
   "metadata": {},
   "outputs": [],
   "source": [
    "from lightgbm import LGBMRegressor"
   ]
  },
  {
   "cell_type": "code",
   "execution_count": 54,
   "id": "7a667ca1-da04-45f7-b1c1-035cc47513d1",
   "metadata": {},
   "outputs": [
    {
     "name": "stdout",
     "output_type": "stream",
     "text": [
      "[LightGBM] [Info] Auto-choosing row-wise multi-threading, the overhead of testing was 0.003545 seconds.\n",
      "You can set `force_row_wise=true` to remove the overhead.\n",
      "And if memory is not enough, you can set `force_col_wise=true`.\n",
      "[LightGBM] [Info] Total Bins 176\n",
      "[LightGBM] [Info] Number of data points in the train set: 414203, number of used features: 16\n",
      "[LightGBM] [Info] Start training from score 0.352580\n",
      "fold: 0, rmse: 0.056453\n",
      "[LightGBM] [Info] Auto-choosing row-wise multi-threading, the overhead of testing was 0.004594 seconds.\n",
      "You can set `force_row_wise=true` to remove the overhead.\n",
      "And if memory is not enough, you can set `force_col_wise=true`.\n",
      "[LightGBM] [Info] Total Bins 175\n",
      "[LightGBM] [Info] Number of data points in the train set: 414203, number of used features: 16\n",
      "[LightGBM] [Info] Start training from score 0.352248\n",
      "fold: 1, rmse: 0.056515\n",
      "[LightGBM] [Info] Auto-choosing row-wise multi-threading, the overhead of testing was 0.003865 seconds.\n",
      "You can set `force_row_wise=true` to remove the overhead.\n",
      "And if memory is not enough, you can set `force_col_wise=true`.\n",
      "[LightGBM] [Info] Total Bins 165\n",
      "[LightGBM] [Info] Number of data points in the train set: 414203, number of used features: 16\n",
      "[LightGBM] [Info] Start training from score 0.352505\n",
      "fold: 2, rmse: 0.056520\n",
      "[LightGBM] [Info] Auto-choosing row-wise multi-threading, the overhead of testing was 0.003737 seconds.\n",
      "You can set `force_row_wise=true` to remove the overhead.\n",
      "And if memory is not enough, you can set `force_col_wise=true`.\n",
      "[LightGBM] [Info] Total Bins 170\n",
      "[LightGBM] [Info] Number of data points in the train set: 414203, number of used features: 16\n",
      "[LightGBM] [Info] Start training from score 0.352283\n",
      "fold: 3, rmse: 0.056680\n",
      "[LightGBM] [Info] Auto-choosing row-wise multi-threading, the overhead of testing was 0.003436 seconds.\n",
      "You can set `force_row_wise=true` to remove the overhead.\n",
      "And if memory is not enough, you can set `force_col_wise=true`.\n",
      "[LightGBM] [Info] Total Bins 171\n",
      "[LightGBM] [Info] Number of data points in the train set: 414204, number of used features: 16\n",
      "[LightGBM] [Info] Start training from score 0.352272\n",
      "fold: 4, rmse: 0.056641\n"
     ]
    },
    {
     "data": {
      "text/plain": [
       "0.05656192750201241"
      ]
     },
     "execution_count": 54,
     "metadata": {},
     "output_type": "execute_result"
    }
   ],
   "source": [
    "evaluate_model(LGBMRegressor, X, n_estimators=500, learning_rate=0.01)"
   ]
  },
  {
   "cell_type": "markdown",
   "id": "6b9f70d7-d5da-4cd5-b08d-dd3aa1a220a2",
   "metadata": {},
   "source": [
    "## Parameter tuning (Optuna)"
   ]
  },
  {
   "cell_type": "code",
   "execution_count": 1,
   "id": "3d6044c0-ff75-4396-888a-dd3c3b7a5fa2",
   "metadata": {},
   "outputs": [],
   "source": [
    "import optuna"
   ]
  },
  {
   "cell_type": "markdown",
   "id": "04637e2b-c59d-484a-a810-751e2f40d6af",
   "metadata": {
    "jp-MarkdownHeadingCollapsed": true
   },
   "source": [
    "### Linear Regression"
   ]
  },
  {
   "cell_type": "code",
   "execution_count": 8,
   "id": "3ee32096-ca4a-4a2b-bccf-931e7b801263",
   "metadata": {},
   "outputs": [],
   "source": [
    "from sklearn.linear_model import LinearRegression"
   ]
  },
  {
   "cell_type": "markdown",
   "id": "85f7ffd3-578a-4b36-9334-8224ff757519",
   "metadata": {
    "jp-MarkdownHeadingCollapsed": true
   },
   "source": [
    "### Decision Tree"
   ]
  },
  {
   "cell_type": "code",
   "execution_count": 19,
   "id": "5f4436be-2c7f-4bc5-9041-5d250a9e6209",
   "metadata": {},
   "outputs": [],
   "source": [
    "from sklearn.tree import DecisionTreeRegressor\n",
    "from sklearn.model_selection import KFold\n",
    "from sklearn.metrics import root_mean_squared_error\n",
    "\n",
    "import numpy as np"
   ]
  },
  {
   "cell_type": "markdown",
   "id": "8fee9bf4-2e66-4fb4-b27d-21ff12ec400b",
   "metadata": {
    "jp-MarkdownHeadingCollapsed": true
   },
   "source": [
    "#### Optuna"
   ]
  },
  {
   "cell_type": "code",
   "execution_count": 21,
   "id": "ffddfd29-befb-43c8-8835-925f44f326fa",
   "metadata": {},
   "outputs": [],
   "source": [
    "kf = KFold(5, shuffle=True)"
   ]
  },
  {
   "cell_type": "code",
   "execution_count": 43,
   "id": "b560c518-386f-4739-9337-1b69aaeab2a9",
   "metadata": {},
   "outputs": [],
   "source": [
    "def objective(trial):\n",
    "    max_depth = trial.suggest_int('max_depth', 2, 1000)\n",
    "    min_samples_split =  trial.suggest_int('min_samples_split', 2, 500)\n",
    "    min_samples_leaf = trial.suggest_int('min_samples_leaf', 1, 200)\n",
    "\n",
    "    clf = DecisionTreeRegressor(\n",
    "        max_depth=max_depth,\n",
    "        min_samples_split=min_samples_split,\n",
    "        min_samples_leaf=min_samples_leaf,\n",
    "    )\n",
    "    \n",
    "    rmses = []\n",
    "    for train_index, test_index in kf.split(X):\n",
    "        X_train = X.iloc[train_index]\n",
    "        y_train = y.iloc[train_index]\n",
    "        X_test = X.iloc[test_index]\n",
    "        y_test = y.iloc[test_index]\n",
    "\n",
    "        clf.fit(X_train, y_train)\n",
    "        y_pred = clf.predict(X_test)\n",
    "\n",
    "        rmse = root_mean_squared_error(y_pred, y_test)\n",
    "        rmses.append(rmse)\n",
    "\n",
    "    return np.mean(rmses)"
   ]
  },
  {
   "cell_type": "code",
   "execution_count": 47,
   "id": "32a3d0ab-275d-456e-a0c8-38a018af218e",
   "metadata": {
    "scrolled": true
   },
   "outputs": [
    {
     "name": "stderr",
     "output_type": "stream",
     "text": [
      "[I 2025-10-21 18:33:07,478] A new study created in memory with name: no-name-58dab873-7586-4277-98c4-370422071089\n",
      "[I 2025-10-21 18:33:10,821] Trial 0 finished with value: 0.056667099244816485 and parameters: {'max_depth': 655, 'min_samples_split': 480, 'min_samples_leaf': 179}. Best is trial 0 with value: 0.056667099244816485.\n",
      "[I 2025-10-21 18:33:14,403] Trial 1 finished with value: 0.056642423432641045 and parameters: {'max_depth': 841, 'min_samples_split': 459, 'min_samples_leaf': 64}. Best is trial 1 with value: 0.056642423432641045.\n",
      "[I 2025-10-21 18:33:18,291] Trial 2 finished with value: 0.05713840811356443 and parameters: {'max_depth': 301, 'min_samples_split': 132, 'min_samples_leaf': 16}. Best is trial 1 with value: 0.056642423432641045.\n",
      "[I 2025-10-21 18:33:21,949] Trial 3 finished with value: 0.05679002100605024 and parameters: {'max_depth': 332, 'min_samples_split': 261, 'min_samples_leaf': 139}. Best is trial 1 with value: 0.056642423432641045.\n",
      "[I 2025-10-21 18:33:25,739] Trial 4 finished with value: 0.05677455401825765 and parameters: {'max_depth': 445, 'min_samples_split': 303, 'min_samples_leaf': 99}. Best is trial 1 with value: 0.056642423432641045.\n",
      "[I 2025-10-21 18:33:29,083] Trial 5 finished with value: 0.05669662879189415 and parameters: {'max_depth': 179, 'min_samples_split': 215, 'min_samples_leaf': 198}. Best is trial 1 with value: 0.056642423432641045.\n",
      "[I 2025-10-21 18:33:32,738] Trial 6 finished with value: 0.056992291345776394 and parameters: {'max_depth': 890, 'min_samples_split': 167, 'min_samples_leaf': 82}. Best is trial 1 with value: 0.056642423432641045.\n",
      "[I 2025-10-21 18:33:36,067] Trial 7 finished with value: 0.05663786317308915 and parameters: {'max_depth': 151, 'min_samples_split': 482, 'min_samples_leaf': 80}. Best is trial 7 with value: 0.05663786317308915.\n",
      "[I 2025-10-21 18:33:39,419] Trial 8 finished with value: 0.056723346388090824 and parameters: {'max_depth': 614, 'min_samples_split': 346, 'min_samples_leaf': 168}. Best is trial 7 with value: 0.05663786317308915.\n",
      "[I 2025-10-21 18:33:42,856] Trial 9 finished with value: 0.05671855018057152 and parameters: {'max_depth': 815, 'min_samples_split': 141, 'min_samples_leaf': 167}. Best is trial 7 with value: 0.05663786317308915.\n",
      "[I 2025-10-21 18:33:46,786] Trial 10 finished with value: 0.05761149331876745 and parameters: {'max_depth': 94, 'min_samples_split': 41, 'min_samples_leaf': 37}. Best is trial 7 with value: 0.05663786317308915.\n",
      "[I 2025-10-21 18:33:50,124] Trial 11 finished with value: 0.05664073987015763 and parameters: {'max_depth': 20, 'min_samples_split': 491, 'min_samples_leaf': 61}. Best is trial 7 with value: 0.05663786317308915.\n",
      "[I 2025-10-21 18:33:53,606] Trial 12 finished with value: 0.05664045791074988 and parameters: {'max_depth': 19, 'min_samples_split': 409, 'min_samples_leaf': 57}. Best is trial 7 with value: 0.05663786317308915.\n",
      "[I 2025-10-21 18:33:57,156] Trial 13 finished with value: 0.0567259982295687 and parameters: {'max_depth': 182, 'min_samples_split': 370, 'min_samples_leaf': 123}. Best is trial 7 with value: 0.05663786317308915.\n",
      "[I 2025-10-21 18:33:58,586] Trial 14 finished with value: 0.07670806788752485 and parameters: {'max_depth': 4, 'min_samples_split': 405, 'min_samples_leaf': 2}. Best is trial 7 with value: 0.05663786317308915.\n",
      "[I 2025-10-21 18:34:02,057] Trial 15 finished with value: 0.05661951432588934 and parameters: {'max_depth': 262, 'min_samples_split': 425, 'min_samples_leaf': 45}. Best is trial 15 with value: 0.05661951432588934.\n",
      "[I 2025-10-21 18:34:05,461] Trial 16 finished with value: 0.056568223899178094 and parameters: {'max_depth': 305, 'min_samples_split': 438, 'min_samples_leaf': 31}. Best is trial 16 with value: 0.056568223899178094.\n",
      "[I 2025-10-21 18:34:09,548] Trial 17 finished with value: 0.056651427944646116 and parameters: {'max_depth': 346, 'min_samples_split': 306, 'min_samples_leaf': 32}. Best is trial 16 with value: 0.056568223899178094.\n",
      "[I 2025-10-21 18:34:13,180] Trial 18 finished with value: 0.0565874955678326 and parameters: {'max_depth': 485, 'min_samples_split': 423, 'min_samples_leaf': 38}. Best is trial 16 with value: 0.056568223899178094.\n",
      "[I 2025-10-21 18:34:16,920] Trial 19 finished with value: 0.056482329944290956 and parameters: {'max_depth': 510, 'min_samples_split': 345, 'min_samples_leaf': 1}. Best is trial 19 with value: 0.056482329944290956.\n",
      "[I 2025-10-21 18:34:20,982] Trial 20 finished with value: 0.05649491967360878 and parameters: {'max_depth': 597, 'min_samples_split': 353, 'min_samples_leaf': 2}. Best is trial 19 with value: 0.056482329944290956.\n",
      "[I 2025-10-21 18:34:24,989] Trial 21 finished with value: 0.05652239284740035 and parameters: {'max_depth': 613, 'min_samples_split': 343, 'min_samples_leaf': 1}. Best is trial 19 with value: 0.056482329944290956.\n",
      "[I 2025-10-21 18:34:28,737] Trial 22 finished with value: 0.05652359134917835 and parameters: {'max_depth': 622, 'min_samples_split': 339, 'min_samples_leaf': 4}. Best is trial 19 with value: 0.056482329944290956.\n",
      "[I 2025-10-21 18:34:32,526] Trial 23 finished with value: 0.056710709898948185 and parameters: {'max_depth': 725, 'min_samples_split': 258, 'min_samples_leaf': 19}. Best is trial 19 with value: 0.056482329944290956.\n",
      "[I 2025-10-21 18:34:36,210] Trial 24 finished with value: 0.056539243833459006 and parameters: {'max_depth': 546, 'min_samples_split': 298, 'min_samples_leaf': 2}. Best is trial 19 with value: 0.056482329944290956.\n",
      "[I 2025-10-21 18:34:39,730] Trial 25 finished with value: 0.056554739209361084 and parameters: {'max_depth': 436, 'min_samples_split': 375, 'min_samples_leaf': 18}. Best is trial 19 with value: 0.056482329944290956.\n",
      "[I 2025-10-21 18:34:43,462] Trial 26 finished with value: 0.05675991314265272 and parameters: {'max_depth': 733, 'min_samples_split': 227, 'min_samples_leaf': 14}. Best is trial 19 with value: 0.056482329944290956.\n",
      "[I 2025-10-21 18:34:46,972] Trial 27 finished with value: 0.056714578319070584 and parameters: {'max_depth': 974, 'min_samples_split': 336, 'min_samples_leaf': 51}. Best is trial 19 with value: 0.056482329944290956.\n",
      "[I 2025-10-21 18:34:50,511] Trial 28 finished with value: 0.05657558699232956 and parameters: {'max_depth': 561, 'min_samples_split': 365, 'min_samples_leaf': 23}. Best is trial 19 with value: 0.056482329944290956.\n",
      "[I 2025-10-21 18:34:54,063] Trial 29 finished with value: 0.056791827555047955 and parameters: {'max_depth': 706, 'min_samples_split': 282, 'min_samples_leaf': 77}. Best is trial 19 with value: 0.056482329944290956.\n",
      "[I 2025-10-21 18:34:57,643] Trial 30 finished with value: 0.05681569055096823 and parameters: {'max_depth': 418, 'min_samples_split': 189, 'min_samples_leaf': 125}. Best is trial 19 with value: 0.056482329944290956.\n",
      "[I 2025-10-21 18:35:01,270] Trial 31 finished with value: 0.05653255144224504 and parameters: {'max_depth': 626, 'min_samples_split': 323, 'min_samples_leaf': 1}. Best is trial 19 with value: 0.056482329944290956.\n",
      "[I 2025-10-21 18:35:04,799] Trial 32 finished with value: 0.05649544461235845 and parameters: {'max_depth': 567, 'min_samples_split': 387, 'min_samples_leaf': 8}. Best is trial 19 with value: 0.056482329944290956.\n",
      "[I 2025-10-21 18:35:08,317] Trial 33 finished with value: 0.05653401028421996 and parameters: {'max_depth': 523, 'min_samples_split': 385, 'min_samples_leaf': 14}. Best is trial 19 with value: 0.056482329944290956.\n",
      "[I 2025-10-21 18:35:11,813] Trial 34 finished with value: 0.05654177367404371 and parameters: {'max_depth': 674, 'min_samples_split': 448, 'min_samples_leaf': 27}. Best is trial 19 with value: 0.056482329944290956.\n",
      "[I 2025-10-21 18:35:15,494] Trial 35 finished with value: 0.05665980673694786 and parameters: {'max_depth': 574, 'min_samples_split': 272, 'min_samples_leaf': 12}. Best is trial 19 with value: 0.056482329944290956.\n",
      "[I 2025-10-21 18:35:18,960] Trial 36 finished with value: 0.05660125190307441 and parameters: {'max_depth': 787, 'min_samples_split': 462, 'min_samples_leaf': 46}. Best is trial 19 with value: 0.056482329944290956.\n",
      "[I 2025-10-21 18:35:22,512] Trial 37 finished with value: 0.056684404198925134 and parameters: {'max_depth': 367, 'min_samples_split': 397, 'min_samples_leaf': 71}. Best is trial 19 with value: 0.056482329944290956.\n",
      "[I 2025-10-21 18:35:26,183] Trial 38 finished with value: 0.0569082403109807 and parameters: {'max_depth': 494, 'min_samples_split': 3, 'min_samples_leaf': 103}. Best is trial 19 with value: 0.056482329944290956.\n",
      "[I 2025-10-21 18:35:29,889] Trial 39 finished with value: 0.056708136712335565 and parameters: {'max_depth': 670, 'min_samples_split': 242, 'min_samples_leaf': 12}. Best is trial 19 with value: 0.056482329944290956.\n",
      "[I 2025-10-21 18:35:33,427] Trial 40 finished with value: 0.05672723365717654 and parameters: {'max_depth': 409, 'min_samples_split': 355, 'min_samples_leaf': 99}. Best is trial 19 with value: 0.056482329944290956.\n",
      "[I 2025-10-21 18:35:37,079] Trial 41 finished with value: 0.05652203757585959 and parameters: {'max_depth': 601, 'min_samples_split': 324, 'min_samples_leaf': 5}. Best is trial 19 with value: 0.056482329944290956.\n",
      "[I 2025-10-21 18:35:40,706] Trial 42 finished with value: 0.056621139020428965 and parameters: {'max_depth': 586, 'min_samples_split': 314, 'min_samples_leaf': 24}. Best is trial 19 with value: 0.056482329944290956.\n",
      "[I 2025-10-21 18:35:44,385] Trial 43 finished with value: 0.056576912183342355 and parameters: {'max_depth': 768, 'min_samples_split': 286, 'min_samples_leaf': 7}. Best is trial 19 with value: 0.056482329944290956.\n",
      "[I 2025-10-21 18:35:47,970] Trial 44 finished with value: 0.05664431825027394 and parameters: {'max_depth': 654, 'min_samples_split': 335, 'min_samples_leaf': 39}. Best is trial 19 with value: 0.056482329944290956.\n",
      "[I 2025-10-21 18:35:51,723] Trial 45 finished with value: 0.05655510942891277 and parameters: {'max_depth': 477, 'min_samples_split': 387, 'min_samples_leaf': 25}. Best is trial 19 with value: 0.056482329944290956.\n",
      "[I 2025-10-21 18:35:55,162] Trial 46 finished with value: 0.05669835627597571 and parameters: {'max_depth': 607, 'min_samples_split': 361, 'min_samples_leaf': 196}. Best is trial 19 with value: 0.056482329944290956.\n",
      "[I 2025-10-21 18:35:58,774] Trial 47 finished with value: 0.056548862767636675 and parameters: {'max_depth': 893, 'min_samples_split': 319, 'min_samples_leaf': 11}. Best is trial 19 with value: 0.056482329944290956.\n",
      "[I 2025-10-21 18:36:02,309] Trial 48 finished with value: 0.056436533549953406 and parameters: {'max_depth': 522, 'min_samples_split': 469, 'min_samples_leaf': 1}. Best is trial 48 with value: 0.056436533549953406.\n",
      "[I 2025-10-21 18:36:05,845] Trial 49 finished with value: 0.05654843592477514 and parameters: {'max_depth': 532, 'min_samples_split': 498, 'min_samples_leaf': 33}. Best is trial 48 with value: 0.056436533549953406.\n",
      "[I 2025-10-21 18:36:09,341] Trial 50 finished with value: 0.05651676147575777 and parameters: {'max_depth': 459, 'min_samples_split': 471, 'min_samples_leaf': 20}. Best is trial 48 with value: 0.056436533549953406.\n",
      "[I 2025-10-21 18:36:12,886] Trial 51 finished with value: 0.05649999787156858 and parameters: {'max_depth': 388, 'min_samples_split': 474, 'min_samples_leaf': 19}. Best is trial 48 with value: 0.056436533549953406.\n",
      "[I 2025-10-21 18:36:16,400] Trial 52 finished with value: 0.05650944218766888 and parameters: {'max_depth': 242, 'min_samples_split': 476, 'min_samples_leaf': 21}. Best is trial 48 with value: 0.056436533549953406.\n",
      "[I 2025-10-21 18:36:19,980] Trial 53 finished with value: 0.05648660749266262 and parameters: {'max_depth': 253, 'min_samples_split': 435, 'min_samples_leaf': 10}. Best is trial 48 with value: 0.056436533549953406.\n",
      "[I 2025-10-21 18:36:23,549] Trial 54 finished with value: 0.05669267907701013 and parameters: {'max_depth': 389, 'min_samples_split': 425, 'min_samples_leaf': 148}. Best is trial 48 with value: 0.056436533549953406.\n",
      "[I 2025-10-21 18:36:27,060] Trial 55 finished with value: 0.056476963339452665 and parameters: {'max_depth': 271, 'min_samples_split': 455, 'min_samples_leaf': 8}. Best is trial 48 with value: 0.056436533549953406.\n",
      "[I 2025-10-21 18:36:30,495] Trial 56 finished with value: 0.05659891391970996 and parameters: {'max_depth': 90, 'min_samples_split': 444, 'min_samples_leaf': 43}. Best is trial 48 with value: 0.056436533549953406.\n",
      "[I 2025-10-21 18:36:33,988] Trial 57 finished with value: 0.05649257790964636 and parameters: {'max_depth': 280, 'min_samples_split': 415, 'min_samples_leaf': 8}. Best is trial 48 with value: 0.056436533549953406.\n",
      "[I 2025-10-21 18:36:37,428] Trial 58 finished with value: 0.05655370062856311 and parameters: {'max_depth': 251, 'min_samples_split': 426, 'min_samples_leaf': 29}. Best is trial 48 with value: 0.056436533549953406.\n",
      "[I 2025-10-21 18:36:40,856] Trial 59 finished with value: 0.05662840621882439 and parameters: {'max_depth': 196, 'min_samples_split': 404, 'min_samples_leaf': 55}. Best is trial 48 with value: 0.056436533549953406.\n",
      "[I 2025-10-21 18:36:44,326] Trial 60 finished with value: 0.05647591849927388 and parameters: {'max_depth': 314, 'min_samples_split': 452, 'min_samples_leaf': 8}. Best is trial 48 with value: 0.056436533549953406.\n",
      "[I 2025-10-21 18:36:47,865] Trial 61 finished with value: 0.05649448285982657 and parameters: {'max_depth': 303, 'min_samples_split': 455, 'min_samples_leaf': 9}. Best is trial 48 with value: 0.056436533549953406.\n",
      "[I 2025-10-21 18:36:51,326] Trial 62 finished with value: 0.05647846855183112 and parameters: {'max_depth': 304, 'min_samples_split': 455, 'min_samples_leaf': 9}. Best is trial 48 with value: 0.056436533549953406.\n",
      "[I 2025-10-21 18:36:54,739] Trial 63 finished with value: 0.05652582599085275 and parameters: {'max_depth': 334, 'min_samples_split': 500, 'min_samples_leaf': 16}. Best is trial 48 with value: 0.056436533549953406.\n",
      "[I 2025-10-21 18:36:58,175] Trial 64 finished with value: 0.0565693972760293 and parameters: {'max_depth': 134, 'min_samples_split': 438, 'min_samples_leaf': 34}. Best is trial 48 with value: 0.056436533549953406.\n",
      "[I 2025-10-21 18:37:01,645] Trial 65 finished with value: 0.056404489125154236 and parameters: {'max_depth': 205, 'min_samples_split': 485, 'min_samples_leaf': 1}. Best is trial 65 with value: 0.056404489125154236.\n",
      "[I 2025-10-21 18:37:05,169] Trial 66 finished with value: 0.056532065067151985 and parameters: {'max_depth': 216, 'min_samples_split': 462, 'min_samples_leaf': 28}. Best is trial 65 with value: 0.056404489125154236.\n",
      "[I 2025-10-21 18:37:09,420] Trial 67 finished with value: 0.05749173008464793 and parameters: {'max_depth': 158, 'min_samples_split': 92, 'min_samples_leaf': 1}. Best is trial 65 with value: 0.056404489125154236.\n",
      "[I 2025-10-21 18:37:12,836] Trial 68 finished with value: 0.05666392954805634 and parameters: {'max_depth': 90, 'min_samples_split': 482, 'min_samples_leaf': 89}. Best is trial 65 with value: 0.056404489125154236.\n",
      "[I 2025-10-21 18:37:16,252] Trial 69 finished with value: 0.05652431547725082 and parameters: {'max_depth': 209, 'min_samples_split': 486, 'min_samples_leaf': 18}. Best is trial 65 with value: 0.056404489125154236.\n",
      "[I 2025-10-21 18:37:19,749] Trial 70 finished with value: 0.05649783060853266 and parameters: {'max_depth': 326, 'min_samples_split': 440, 'min_samples_leaf': 9}. Best is trial 65 with value: 0.056404489125154236.\n",
      "[I 2025-10-21 18:37:23,305] Trial 71 finished with value: 0.05649166363121507 and parameters: {'max_depth': 256, 'min_samples_split': 414, 'min_samples_leaf': 7}. Best is trial 65 with value: 0.056404489125154236.\n",
      "[I 2025-10-21 18:37:26,830] Trial 72 finished with value: 0.056502529940480405 and parameters: {'max_depth': 268, 'min_samples_split': 456, 'min_samples_leaf': 15}. Best is trial 65 with value: 0.056404489125154236.\n",
      "[I 2025-10-21 18:37:30,411] Trial 73 finished with value: 0.05648041141368326 and parameters: {'max_depth': 125, 'min_samples_split': 426, 'min_samples_leaf': 6}. Best is trial 65 with value: 0.056404489125154236.\n",
      "[I 2025-10-21 18:37:33,936] Trial 74 finished with value: 0.05642124765146343 and parameters: {'max_depth': 135, 'min_samples_split': 466, 'min_samples_leaf': 1}. Best is trial 65 with value: 0.056404489125154236.\n",
      "[I 2025-10-21 18:37:37,465] Trial 75 finished with value: 0.056438805315727314 and parameters: {'max_depth': 35, 'min_samples_split': 467, 'min_samples_leaf': 3}. Best is trial 65 with value: 0.056404489125154236.\n",
      "[I 2025-10-21 18:37:41,050] Trial 76 finished with value: 0.056545105862286504 and parameters: {'max_depth': 126, 'min_samples_split': 463, 'min_samples_leaf': 23}. Best is trial 65 with value: 0.056404489125154236.\n",
      "[I 2025-10-21 18:37:44,644] Trial 77 finished with value: 0.05644468230076426 and parameters: {'max_depth': 49, 'min_samples_split': 485, 'min_samples_leaf': 1}. Best is trial 65 with value: 0.056404489125154236.\n",
      "[I 2025-10-21 18:37:48,226] Trial 78 finished with value: 0.05650721687982112 and parameters: {'max_depth': 56, 'min_samples_split': 488, 'min_samples_leaf': 15}. Best is trial 65 with value: 0.056404489125154236.\n",
      "[I 2025-10-21 18:37:51,834] Trial 79 finished with value: 0.05642012303686017 and parameters: {'max_depth': 35, 'min_samples_split': 473, 'min_samples_leaf': 1}. Best is trial 65 with value: 0.056404489125154236.\n",
      "[I 2025-10-21 18:37:55,521] Trial 80 finished with value: 0.05641474785624333 and parameters: {'max_depth': 46, 'min_samples_split': 470, 'min_samples_leaf': 1}. Best is trial 65 with value: 0.056404489125154236.\n",
      "[I 2025-10-21 18:37:59,177] Trial 81 finished with value: 0.05644808123600127 and parameters: {'max_depth': 46, 'min_samples_split': 472, 'min_samples_leaf': 1}. Best is trial 65 with value: 0.056404489125154236.\n",
      "[I 2025-10-21 18:38:02,773] Trial 82 finished with value: 0.05644174339767666 and parameters: {'max_depth': 36, 'min_samples_split': 476, 'min_samples_leaf': 1}. Best is trial 65 with value: 0.056404489125154236.\n",
      "[I 2025-10-21 18:38:06,393] Trial 83 finished with value: 0.056455581977366345 and parameters: {'max_depth': 44, 'min_samples_split': 471, 'min_samples_leaf': 1}. Best is trial 65 with value: 0.056404489125154236.\n",
      "[I 2025-10-21 18:38:07,188] Trial 84 finished with value: 0.11866727042554222 and parameters: {'max_depth': 2, 'min_samples_split': 490, 'min_samples_leaf': 1}. Best is trial 65 with value: 0.056404489125154236.\n",
      "[I 2025-10-21 18:38:10,637] Trial 85 finished with value: 0.05647864581587629 and parameters: {'max_depth': 50, 'min_samples_split': 500, 'min_samples_leaf': 14}. Best is trial 65 with value: 0.056404489125154236.\n",
      "[I 2025-10-21 18:38:14,196] Trial 86 finished with value: 0.056443476529775036 and parameters: {'max_depth': 27, 'min_samples_split': 481, 'min_samples_leaf': 4}. Best is trial 65 with value: 0.056404489125154236.\n",
      "[I 2025-10-21 18:38:17,766] Trial 87 finished with value: 0.05649897247414024 and parameters: {'max_depth': 76, 'min_samples_split': 484, 'min_samples_leaf': 14}. Best is trial 65 with value: 0.056404489125154236.\n",
      "[I 2025-10-21 18:38:21,262] Trial 88 finished with value: 0.05643327872053242 and parameters: {'max_depth': 31, 'min_samples_split': 467, 'min_samples_leaf': 5}. Best is trial 65 with value: 0.056404489125154236.\n",
      "[I 2025-10-21 18:38:24,730] Trial 89 finished with value: 0.05650915652311376 and parameters: {'max_depth': 18, 'min_samples_split': 466, 'min_samples_leaf': 22}. Best is trial 65 with value: 0.056404489125154236.\n",
      "[I 2025-10-21 18:38:28,347] Trial 90 finished with value: 0.05646297840531174 and parameters: {'max_depth': 110, 'min_samples_split': 434, 'min_samples_leaf': 6}. Best is trial 65 with value: 0.056404489125154236.\n",
      "[I 2025-10-21 18:38:31,887] Trial 91 finished with value: 0.0564660459342969 and parameters: {'max_depth': 29, 'min_samples_split': 476, 'min_samples_leaf': 5}. Best is trial 65 with value: 0.056404489125154236.\n",
      "[I 2025-10-21 18:38:35,365] Trial 92 finished with value: 0.0565023011686388 and parameters: {'max_depth': 76, 'min_samples_split': 490, 'min_samples_leaf': 12}. Best is trial 65 with value: 0.056404489125154236.\n",
      "[I 2025-10-21 18:38:38,850] Trial 93 finished with value: 0.056533066702100586 and parameters: {'max_depth': 166, 'min_samples_split': 480, 'min_samples_leaf': 18}. Best is trial 65 with value: 0.056404489125154236.\n",
      "[I 2025-10-21 18:38:42,465] Trial 94 finished with value: 0.05646633633371775 and parameters: {'max_depth': 24, 'min_samples_split': 446, 'min_samples_leaf': 4}. Best is trial 65 with value: 0.056404489125154236.\n",
      "[I 2025-10-21 18:38:46,341] Trial 95 finished with value: 0.05652141068124147 and parameters: {'max_depth': 69, 'min_samples_split': 500, 'min_samples_leaf': 27}. Best is trial 65 with value: 0.056404489125154236.\n",
      "[I 2025-10-21 18:38:49,904] Trial 96 finished with value: 0.056423550393616795 and parameters: {'max_depth': 105, 'min_samples_split': 464, 'min_samples_leaf': 4}. Best is trial 65 with value: 0.056404489125154236.\n",
      "[I 2025-10-21 18:38:53,381] Trial 97 finished with value: 0.05669157935700786 and parameters: {'max_depth': 112, 'min_samples_split': 464, 'min_samples_leaf': 111}. Best is trial 65 with value: 0.056404489125154236.\n",
      "[I 2025-10-21 18:38:57,111] Trial 98 finished with value: 0.056513565227602355 and parameters: {'max_depth': 147, 'min_samples_split': 446, 'min_samples_leaf': 18}. Best is trial 65 with value: 0.056404489125154236.\n",
      "[I 2025-10-21 18:39:00,762] Trial 99 finished with value: 0.05651544121071354 and parameters: {'max_depth': 102, 'min_samples_split': 418, 'min_samples_leaf': 11}. Best is trial 65 with value: 0.056404489125154236.\n",
      "[I 2025-10-21 18:39:01,662] Trial 100 finished with value: 0.11866739192197565 and parameters: {'max_depth': 2, 'min_samples_split': 396, 'min_samples_leaf': 6}. Best is trial 65 with value: 0.056404489125154236.\n",
      "[I 2025-10-21 18:39:05,404] Trial 101 finished with value: 0.05643112176312295 and parameters: {'max_depth': 63, 'min_samples_split': 481, 'min_samples_leaf': 4}. Best is trial 65 with value: 0.056404489125154236.\n",
      "[I 2025-10-21 18:39:09,114] Trial 102 finished with value: 0.056505134902413066 and parameters: {'max_depth': 70, 'min_samples_split': 469, 'min_samples_leaf': 12}. Best is trial 65 with value: 0.056404489125154236.\n",
      "[I 2025-10-21 18:39:12,584] Trial 103 finished with value: 0.05668116611201653 and parameters: {'max_depth': 22, 'min_samples_split': 478, 'min_samples_leaf': 145}. Best is trial 65 with value: 0.056404489125154236.\n",
      "[I 2025-10-21 18:39:16,270] Trial 104 finished with value: 0.05648557045442881 and parameters: {'max_depth': 81, 'min_samples_split': 434, 'min_samples_leaf': 5}. Best is trial 65 with value: 0.056404489125154236.\n",
      "[I 2025-10-21 18:39:19,909] Trial 105 finished with value: 0.056448236352797 and parameters: {'max_depth': 29, 'min_samples_split': 451, 'min_samples_leaf': 4}. Best is trial 65 with value: 0.056404489125154236.\n",
      "[I 2025-10-21 18:39:23,549] Trial 106 finished with value: 0.05651226856338889 and parameters: {'max_depth': 182, 'min_samples_split': 495, 'min_samples_leaf': 22}. Best is trial 65 with value: 0.056404489125154236.\n",
      "[I 2025-10-21 18:39:27,002] Trial 107 finished with value: 0.05663057891624553 and parameters: {'max_depth': 101, 'min_samples_split': 465, 'min_samples_leaf': 65}. Best is trial 65 with value: 0.056404489125154236.\n",
      "[I 2025-10-21 18:39:30,579] Trial 108 finished with value: 0.05667955872890943 and parameters: {'max_depth': 65, 'min_samples_split': 458, 'min_samples_leaf': 161}. Best is trial 65 with value: 0.056404489125154236.\n",
      "[I 2025-10-21 18:39:34,172] Trial 109 finished with value: 0.056516811439132356 and parameters: {'max_depth': 125, 'min_samples_split': 432, 'min_samples_leaf': 15}. Best is trial 65 with value: 0.056404489125154236.\n",
      "[I 2025-10-21 18:39:37,753] Trial 110 finished with value: 0.05648566357874372 and parameters: {'max_depth': 46, 'min_samples_split': 478, 'min_samples_leaf': 11}. Best is trial 65 with value: 0.056404489125154236.\n",
      "[I 2025-10-21 18:39:41,385] Trial 111 finished with value: 0.05645114901206614 and parameters: {'max_depth': 37, 'min_samples_split': 492, 'min_samples_leaf': 1}. Best is trial 65 with value: 0.056404489125154236.\n",
      "[I 2025-10-21 18:39:45,057] Trial 112 finished with value: 0.05642649901586312 and parameters: {'max_depth': 92, 'min_samples_split': 483, 'min_samples_leaf': 4}. Best is trial 65 with value: 0.056404489125154236.\n",
      "[I 2025-10-21 18:39:48,852] Trial 113 finished with value: 0.056476812036255895 and parameters: {'max_depth': 147, 'min_samples_split': 448, 'min_samples_leaf': 9}. Best is trial 65 with value: 0.056404489125154236.\n",
      "[I 2025-10-21 18:39:52,696] Trial 114 finished with value: 0.056886699604550284 and parameters: {'max_depth': 95, 'min_samples_split': 181, 'min_samples_leaf': 18}. Best is trial 65 with value: 0.056404489125154236.\n",
      "[I 2025-10-21 18:39:56,153] Trial 115 finished with value: 0.056439142548606394 and parameters: {'max_depth': 13, 'min_samples_split': 469, 'min_samples_leaf': 5}. Best is trial 65 with value: 0.056404489125154236.\n",
      "[I 2025-10-21 18:39:57,603] Trial 116 finished with value: 0.07671535595893525 and parameters: {'max_depth': 4, 'min_samples_split': 94, 'min_samples_leaf': 11}. Best is trial 65 with value: 0.056404489125154236.\n",
      "[I 2025-10-21 18:40:01,445] Trial 117 finished with value: 0.05645596338919554 and parameters: {'max_depth': 67, 'min_samples_split': 461, 'min_samples_leaf': 5}. Best is trial 65 with value: 0.056404489125154236.\n",
      "[I 2025-10-21 18:40:05,187] Trial 118 finished with value: 0.056521494018059636 and parameters: {'max_depth': 167, 'min_samples_split': 471, 'min_samples_leaf': 15}. Best is trial 65 with value: 0.056404489125154236.\n",
      "[I 2025-10-21 18:40:08,760] Trial 119 finished with value: 0.05653904076950772 and parameters: {'max_depth': 121, 'min_samples_split': 444, 'min_samples_leaf': 25}. Best is trial 65 with value: 0.056404489125154236.\n",
      "[I 2025-10-21 18:40:12,370] Trial 120 finished with value: 0.05646357074343296 and parameters: {'max_depth': 226, 'min_samples_split': 491, 'min_samples_leaf': 8}. Best is trial 65 with value: 0.056404489125154236.\n",
      "[I 2025-10-21 18:40:16,017] Trial 121 finished with value: 0.05645751322226705 and parameters: {'max_depth': 19, 'min_samples_split': 475, 'min_samples_leaf': 5}. Best is trial 65 with value: 0.056404489125154236.\n",
      "[I 2025-10-21 18:40:19,693] Trial 122 finished with value: 0.056443456932806266 and parameters: {'max_depth': 88, 'min_samples_split': 484, 'min_samples_leaf': 4}. Best is trial 65 with value: 0.056404489125154236.\n",
      "[I 2025-10-21 18:40:23,309] Trial 123 finished with value: 0.056437806966274165 and parameters: {'max_depth': 91, 'min_samples_split': 457, 'min_samples_leaf': 1}. Best is trial 65 with value: 0.056404489125154236.\n",
      "[I 2025-10-21 18:40:27,066] Trial 124 finished with value: 0.05643986954950876 and parameters: {'max_depth': 56, 'min_samples_split': 457, 'min_samples_leaf': 1}. Best is trial 65 with value: 0.056404489125154236.\n",
      "[I 2025-10-21 18:40:30,693] Trial 125 finished with value: 0.056502904842148774 and parameters: {'max_depth': 150, 'min_samples_split': 453, 'min_samples_leaf': 11}. Best is trial 65 with value: 0.056404489125154236.\n",
      "[I 2025-10-21 18:40:34,303] Trial 126 finished with value: 0.0564851702226429 and parameters: {'max_depth': 61, 'min_samples_split': 406, 'min_samples_leaf': 8}. Best is trial 65 with value: 0.056404489125154236.\n",
      "[I 2025-10-21 18:40:38,332] Trial 127 finished with value: 0.05646937197897348 and parameters: {'max_depth': 507, 'min_samples_split': 425, 'min_samples_leaf': 1}. Best is trial 65 with value: 0.056404489125154236.\n",
      "[I 2025-10-21 18:40:42,057] Trial 128 finished with value: 0.05652793088920627 and parameters: {'max_depth': 137, 'min_samples_split': 461, 'min_samples_leaf': 16}. Best is trial 65 with value: 0.056404489125154236.\n",
      "[I 2025-10-21 18:40:45,925] Trial 129 finished with value: 0.0565555213685109 and parameters: {'max_depth': 105, 'min_samples_split': 440, 'min_samples_leaf': 21}. Best is trial 65 with value: 0.056404489125154236.\n",
      "[I 2025-10-21 18:40:49,849] Trial 130 finished with value: 0.05650373414400567 and parameters: {'max_depth': 186, 'min_samples_split': 457, 'min_samples_leaf': 12}. Best is trial 65 with value: 0.056404489125154236.\n",
      "[I 2025-10-21 18:40:53,473] Trial 131 finished with value: 0.056434374132889265 and parameters: {'max_depth': 47, 'min_samples_split': 470, 'min_samples_leaf': 4}. Best is trial 65 with value: 0.056404489125154236.\n",
      "[I 2025-10-21 18:40:57,093] Trial 132 finished with value: 0.056475718275635 and parameters: {'max_depth': 56, 'min_samples_split': 468, 'min_samples_leaf': 7}. Best is trial 65 with value: 0.056404489125154236.\n",
      "[I 2025-10-21 18:41:00,676] Trial 133 finished with value: 0.05641482373271687 and parameters: {'max_depth': 79, 'min_samples_split': 500, 'min_samples_leaf': 1}. Best is trial 65 with value: 0.056404489125154236.\n",
      "[I 2025-10-21 18:41:04,253] Trial 134 finished with value: 0.05644156329457276 and parameters: {'max_depth': 93, 'min_samples_split': 499, 'min_samples_leaf': 5}. Best is trial 65 with value: 0.056404489125154236.\n",
      "[I 2025-10-21 18:41:07,823] Trial 135 finished with value: 0.05647400793537104 and parameters: {'max_depth': 85, 'min_samples_split': 488, 'min_samples_leaf': 9}. Best is trial 65 with value: 0.056404489125154236.\n",
      "[I 2025-10-21 18:41:10,453] Trial 136 finished with value: 0.05689148047446589 and parameters: {'max_depth': 8, 'min_samples_split': 483, 'min_samples_leaf': 13}. Best is trial 65 with value: 0.056404489125154236.\n",
      "[I 2025-10-21 18:41:14,150] Trial 137 finished with value: 0.056433497059572124 and parameters: {'max_depth': 115, 'min_samples_split': 491, 'min_samples_leaf': 1}. Best is trial 65 with value: 0.056404489125154236.\n",
      "[I 2025-10-21 18:41:17,802] Trial 138 finished with value: 0.05668039966068892 and parameters: {'max_depth': 110, 'min_samples_split': 490, 'min_samples_leaf': 129}. Best is trial 65 with value: 0.056404489125154236.\n",
      "[I 2025-10-21 18:41:21,486] Trial 139 finished with value: 0.056705690614989465 and parameters: {'max_depth': 78, 'min_samples_split': 209, 'min_samples_leaf': 188}. Best is trial 65 with value: 0.056404489125154236.\n",
      "[I 2025-10-21 18:41:25,288] Trial 140 finished with value: 0.05644016193955111 and parameters: {'max_depth': 130, 'min_samples_split': 499, 'min_samples_leaf': 1}. Best is trial 65 with value: 0.056404489125154236.\n",
      "[I 2025-10-21 18:41:28,954] Trial 141 finished with value: 0.056478365250792896 and parameters: {'max_depth': 35, 'min_samples_split': 469, 'min_samples_leaf': 6}. Best is trial 65 with value: 0.056404489125154236.\n",
      "[I 2025-10-21 18:41:32,676] Trial 142 finished with value: 0.0564435183369328 and parameters: {'max_depth': 51, 'min_samples_split': 477, 'min_samples_leaf': 5}. Best is trial 65 with value: 0.056404489125154236.\n",
      "[I 2025-10-21 18:41:36,282] Trial 143 finished with value: 0.0564751391127418 and parameters: {'max_depth': 78, 'min_samples_split': 471, 'min_samples_leaf': 9}. Best is trial 65 with value: 0.056404489125154236.\n",
      "[I 2025-10-21 18:41:39,823] Trial 144 finished with value: 0.05643408062245779 and parameters: {'max_depth': 542, 'min_samples_split': 486, 'min_samples_leaf': 4}. Best is trial 65 with value: 0.056404489125154236.\n",
      "[I 2025-10-21 18:41:43,369] Trial 145 finished with value: 0.05651506511603076 and parameters: {'max_depth': 116, 'min_samples_split': 480, 'min_samples_leaf': 15}. Best is trial 65 with value: 0.056404489125154236.\n",
      "[I 2025-10-21 18:41:46,987] Trial 146 finished with value: 0.056425291845908734 and parameters: {'max_depth': 552, 'min_samples_split': 490, 'min_samples_leaf': 1}. Best is trial 65 with value: 0.056404489125154236.\n",
      "[I 2025-10-21 18:41:50,559] Trial 147 finished with value: 0.05640942601348542 and parameters: {'max_depth': 535, 'min_samples_split': 492, 'min_samples_leaf': 1}. Best is trial 65 with value: 0.056404489125154236.\n",
      "[I 2025-10-21 18:41:54,208] Trial 148 finished with value: 0.05646454351842328 and parameters: {'max_depth': 481, 'min_samples_split': 491, 'min_samples_leaf': 10}. Best is trial 65 with value: 0.056404489125154236.\n",
      "[I 2025-10-21 18:41:57,730] Trial 149 finished with value: 0.056633939803778385 and parameters: {'max_depth': 539, 'min_samples_split': 500, 'min_samples_leaf': 86}. Best is trial 65 with value: 0.056404489125154236.\n"
     ]
    }
   ],
   "source": [
    "study = optuna.create_study()\n",
    "study.optimize(objective, n_trials=150)"
   ]
  },
  {
   "cell_type": "markdown",
   "id": "e01051f7-d81f-4792-aac0-b68c9cad7ead",
   "metadata": {
    "jp-MarkdownHeadingCollapsed": true
   },
   "source": [
    "#### Full train"
   ]
  },
  {
   "cell_type": "code",
   "execution_count": 115,
   "id": "ed1bce34-757b-4985-acb9-3f084bcbee8b",
   "metadata": {},
   "outputs": [],
   "source": [
    "clf = DecisionTreeRegressor(**study.best_params)\n",
    "clf.fit(X, y)\n",
    "\n",
    "submission = submission_generator(clf, test_df)"
   ]
  },
  {
   "cell_type": "markdown",
   "id": "cce2a895-3843-44be-9a3b-d39cc22d5a25",
   "metadata": {
    "jp-MarkdownHeadingCollapsed": true
   },
   "source": [
    "### Random Forest"
   ]
  },
  {
   "cell_type": "code",
   "execution_count": 135,
   "id": "c3cd3aa1-feff-4c3c-9754-c3320490cb1f",
   "metadata": {},
   "outputs": [],
   "source": [
    "from sklearn.ensemble import RandomForestRegressor\n",
    "from sklearn.model_selection import KFold\n",
    "from sklearn.metrics import root_mean_squared_error"
   ]
  },
  {
   "cell_type": "markdown",
   "id": "6e8b7dd3-7be6-4766-9083-04ce5f09c634",
   "metadata": {},
   "source": [
    "#### Optuna"
   ]
  },
  {
   "cell_type": "code",
   "execution_count": 137,
   "id": "50d543e3-7d27-4f36-ab0b-00182dd42471",
   "metadata": {},
   "outputs": [],
   "source": [
    "kf = KFold(5, shuffle=True)"
   ]
  },
  {
   "cell_type": "code",
   "execution_count": 143,
   "id": "a08b2495-4e47-493b-b0e9-643cd081f66e",
   "metadata": {},
   "outputs": [],
   "source": [
    "def objective(trials):\n",
    "    n_estimators = trials.suggest_int('n_estimator', 5, 500)\n",
    "    max_depth = trials.suggest_int('max_depth', 2, 500)\n",
    "    min_samples_split = trials.suggest_int('min_samples_split', 1, 500)\n",
    "    min_samples_leaf = trials.suggest_int('min_samples_leaf', 1, 10)\n",
    "    max_features = trials.suggest_categorical('max_features', ['sqrt', 'log2'])\n",
    "\n",
    "    clf = RandomForestRegressor(\n",
    "        n_estimators=n_estimators,\n",
    "        max_depth=max_depth,\n",
    "        min_samples_split=min_samples_split,\n",
    "        min_samples_leaf=min_samples_leaf,\n",
    "        max_features=max_features,\n",
    "        \n",
    "    )\n",
    "    \n",
    "    rmses = []\n",
    "    for train_index, test_index in kf.split(X):\n",
    "        X_train = X.iloc[train_index]\n",
    "        y_train = y.iloc[train_index]\n",
    "        X_test = X.iloc[test_index]\n",
    "        y_test = y.iloc[test_index]\n",
    "\n",
    "        clf.fit(X_train, y_train)\n",
    "        y_pred = clf.predict(X_test)\n",
    "\n",
    "        rmse = root_mean_squared_error(y_pred, y_test)\n",
    "        rmses.append(rmse)\n",
    "\n",
    "    return np.mean(rmses)"
   ]
  },
  {
   "cell_type": "code",
   "execution_count": 145,
   "id": "8b955de1-0e42-4f21-a7a1-adf5c1563521",
   "metadata": {},
   "outputs": [
    {
     "name": "stderr",
     "output_type": "stream",
     "text": [
      "[I 2025-10-21 19:13:43,109] A new study created in memory with name: no-name-c2487df3-08ae-4d07-9a6d-941d4e5aa990\n",
      "[I 2025-10-21 19:14:41,721] Trial 0 finished with value: 0.05863571985038685 and parameters: {'n_estimator': 84, 'max_depth': 125, 'min_samples_split': 268, 'min_samples_leaf': 8, 'max_features': 'sqrt'}. Best is trial 0 with value: 0.05863571985038685.\n",
      "[I 2025-10-21 19:16:12,806] Trial 1 finished with value: 0.05855783229788797 and parameters: {'n_estimator': 127, 'max_depth': 222, 'min_samples_split': 260, 'min_samples_leaf': 8, 'max_features': 'log2'}. Best is trial 1 with value: 0.05855783229788797.\n"
     ]
    }
   ],
   "source": [
    "study = optuna.create_study()\n",
    "study.optimize(objective, n_trials=100)"
   ]
  },
  {
   "cell_type": "markdown",
   "id": "fa79d1c1-4ca2-482b-a7fb-b2ae8e2b042d",
   "metadata": {},
   "source": [
    "#### Full train"
   ]
  },
  {
   "cell_type": "markdown",
   "id": "459d13fe-33c2-4404-9d6d-a219f71ec35a",
   "metadata": {},
   "source": [
    "### LightGBM"
   ]
  },
  {
   "cell_type": "code",
   "execution_count": 150,
   "id": "b5254999-c5c1-4ed8-b9ca-63f312121b40",
   "metadata": {},
   "outputs": [],
   "source": [
    "from lightgbm import LGBMRegressor\n",
    "from sklearn.model_selection import KFold\n",
    "from sklearn.metrics import root_mean_squared_error"
   ]
  },
  {
   "cell_type": "markdown",
   "id": "fd1f6cb1-5721-45e1-ba6f-0f87625dcd51",
   "metadata": {},
   "source": [
    "#### Optuna"
   ]
  },
  {
   "cell_type": "code",
   "execution_count": 152,
   "id": "59e7d5dd-3ff7-4ece-a837-f7c09b2a480e",
   "metadata": {},
   "outputs": [],
   "source": [
    "kf = KFold(5, shuffle=True)"
   ]
  },
  {
   "cell_type": "code",
   "execution_count": 154,
   "id": "a29247d8-5ffd-42ab-a133-23dc7e9444f1",
   "metadata": {},
   "outputs": [],
   "source": [
    "def objective(trials):\n",
    "    num_leaves = trials.suggest_int('num_leaves', 4, 256)\n",
    "    max_depth = trials.suggest_int('max_depth', -1, 512)\n",
    "    learning_rate = trials.suggest_float('learning_rate', 0.003, 0.3)\n",
    "    n_estimators = trials.suggest_int('n_estimator', 24, 1024)\n",
    "\n",
    "    clf = LGBMRegressor(\n",
    "        num_leaves=num_leaves,\n",
    "        max_depth=max_depth,\n",
    "        learning_rate=learning_rate,\n",
    "        n_estimators=n_estimators,\n",
    "    )\n",
    "\n",
    "    rmses = []\n",
    "    for train_index, test_index in kf.split(X):\n",
    "        X_train = X.iloc[train_index]\n",
    "        y_train = y.iloc[train_index]\n",
    "        X_test = X.iloc[test_index]\n",
    "        y_test = y.iloc[test_index]\n",
    "\n",
    "        clf.fit(X_train, y_train)\n",
    "        y_pred = clf.predict(X_test)\n",
    "\n",
    "        rmse = root_mean_squared_error(y_pred, y_test)\n",
    "        rmses.append(rmse)\n",
    "\n",
    "    return np.mean(rmses)"
   ]
  },
  {
   "cell_type": "code",
   "execution_count": null,
   "id": "508c9438-a2ba-43f3-9682-b1ea4064a0fe",
   "metadata": {
    "scrolled": true
   },
   "outputs": [
    {
     "name": "stderr",
     "output_type": "stream",
     "text": [
      "[I 2025-10-21 19:25:24,988] A new study created in memory with name: no-name-a0318067-f316-46c9-a905-925ff101e236\n"
     ]
    },
    {
     "name": "stdout",
     "output_type": "stream",
     "text": [
      "[LightGBM] [Info] Auto-choosing row-wise multi-threading, the overhead of testing was 0.004294 seconds.\n",
      "You can set `force_row_wise=true` to remove the overhead.\n",
      "And if memory is not enough, you can set `force_col_wise=true`.\n",
      "[LightGBM] [Info] Total Bins 171\n",
      "[LightGBM] [Info] Number of data points in the train set: 414203, number of used features: 16\n",
      "[LightGBM] [Info] Start training from score 0.352436\n",
      "[LightGBM] [Info] Auto-choosing row-wise multi-threading, the overhead of testing was 0.003627 seconds.\n",
      "You can set `force_row_wise=true` to remove the overhead.\n",
      "And if memory is not enough, you can set `force_col_wise=true`.\n",
      "[LightGBM] [Info] Total Bins 175\n",
      "[LightGBM] [Info] Number of data points in the train set: 414203, number of used features: 16\n",
      "[LightGBM] [Info] Start training from score 0.352466\n",
      "[LightGBM] [Info] Auto-choosing row-wise multi-threading, the overhead of testing was 0.004388 seconds.\n",
      "You can set `force_row_wise=true` to remove the overhead.\n",
      "And if memory is not enough, you can set `force_col_wise=true`.\n",
      "[LightGBM] [Info] Total Bins 177\n",
      "[LightGBM] [Info] Number of data points in the train set: 414203, number of used features: 16\n",
      "[LightGBM] [Info] Start training from score 0.352325\n",
      "[LightGBM] [Info] Auto-choosing row-wise multi-threading, the overhead of testing was 0.004758 seconds.\n",
      "You can set `force_row_wise=true` to remove the overhead.\n",
      "And if memory is not enough, you can set `force_col_wise=true`.\n",
      "[LightGBM] [Info] Total Bins 172\n",
      "[LightGBM] [Info] Number of data points in the train set: 414203, number of used features: 16\n",
      "[LightGBM] [Info] Start training from score 0.352548\n",
      "[LightGBM] [Info] Auto-choosing row-wise multi-threading, the overhead of testing was 0.004200 seconds.\n",
      "You can set `force_row_wise=true` to remove the overhead.\n",
      "And if memory is not enough, you can set `force_col_wise=true`.\n",
      "[LightGBM] [Info] Total Bins 174\n",
      "[LightGBM] [Info] Number of data points in the train set: 414204, number of used features: 16\n",
      "[LightGBM] [Info] Start training from score 0.352113\n"
     ]
    },
    {
     "name": "stderr",
     "output_type": "stream",
     "text": [
      "[I 2025-10-21 19:25:39,324] Trial 0 finished with value: 0.05612007265756238 and parameters: {'num_leaves': 65, 'max_depth': 396, 'learning_rate': 0.08565903020702009, 'n_estimator': 487}. Best is trial 0 with value: 0.05612007265756238.\n"
     ]
    },
    {
     "name": "stdout",
     "output_type": "stream",
     "text": [
      "[LightGBM] [Info] Auto-choosing row-wise multi-threading, the overhead of testing was 0.005492 seconds.\n",
      "You can set `force_row_wise=true` to remove the overhead.\n",
      "And if memory is not enough, you can set `force_col_wise=true`.\n",
      "[LightGBM] [Info] Total Bins 178\n",
      "[LightGBM] [Info] Number of data points in the train set: 414203, number of used features: 16\n",
      "[LightGBM] [Info] Start training from score 0.352288\n",
      "[LightGBM] [Info] Auto-choosing row-wise multi-threading, the overhead of testing was 0.003867 seconds.\n",
      "You can set `force_row_wise=true` to remove the overhead.\n",
      "And if memory is not enough, you can set `force_col_wise=true`.\n",
      "[LightGBM] [Info] Total Bins 172\n",
      "[LightGBM] [Info] Number of data points in the train set: 414203, number of used features: 16\n",
      "[LightGBM] [Info] Start training from score 0.352410\n",
      "[LightGBM] [Info] Auto-choosing row-wise multi-threading, the overhead of testing was 0.004220 seconds.\n",
      "You can set `force_row_wise=true` to remove the overhead.\n",
      "And if memory is not enough, you can set `force_col_wise=true`.\n",
      "[LightGBM] [Info] Total Bins 175\n",
      "[LightGBM] [Info] Number of data points in the train set: 414203, number of used features: 16\n",
      "[LightGBM] [Info] Start training from score 0.352420\n",
      "[LightGBM] [Info] Auto-choosing row-wise multi-threading, the overhead of testing was 0.004558 seconds.\n",
      "You can set `force_row_wise=true` to remove the overhead.\n",
      "And if memory is not enough, you can set `force_col_wise=true`.\n",
      "[LightGBM] [Info] Total Bins 173\n",
      "[LightGBM] [Info] Number of data points in the train set: 414203, number of used features: 16\n",
      "[LightGBM] [Info] Start training from score 0.352339\n",
      "[LightGBM] [Info] Auto-choosing row-wise multi-threading, the overhead of testing was 0.004463 seconds.\n",
      "You can set `force_row_wise=true` to remove the overhead.\n",
      "And if memory is not enough, you can set `force_col_wise=true`.\n",
      "[LightGBM] [Info] Total Bins 176\n",
      "[LightGBM] [Info] Number of data points in the train set: 414204, number of used features: 16\n",
      "[LightGBM] [Info] Start training from score 0.352429\n"
     ]
    },
    {
     "name": "stderr",
     "output_type": "stream",
     "text": [
      "[I 2025-10-21 19:25:46,352] Trial 1 finished with value: 0.05616703072326375 and parameters: {'num_leaves': 28, 'max_depth': 15, 'learning_rate': 0.15212418720728402, 'n_estimator': 320}. Best is trial 0 with value: 0.05612007265756238.\n"
     ]
    },
    {
     "name": "stdout",
     "output_type": "stream",
     "text": [
      "[LightGBM] [Info] Auto-choosing row-wise multi-threading, the overhead of testing was 0.004438 seconds.\n",
      "You can set `force_row_wise=true` to remove the overhead.\n",
      "And if memory is not enough, you can set `force_col_wise=true`.\n",
      "[LightGBM] [Info] Total Bins 172\n",
      "[LightGBM] [Info] Number of data points in the train set: 414203, number of used features: 16\n",
      "[LightGBM] [Info] Start training from score 0.352343\n",
      "[LightGBM] [Info] Auto-choosing row-wise multi-threading, the overhead of testing was 0.004425 seconds.\n",
      "You can set `force_row_wise=true` to remove the overhead.\n",
      "And if memory is not enough, you can set `force_col_wise=true`.\n",
      "[LightGBM] [Info] Total Bins 175\n",
      "[LightGBM] [Info] Number of data points in the train set: 414203, number of used features: 16\n",
      "[LightGBM] [Info] Start training from score 0.352502\n",
      "[LightGBM] [Info] Auto-choosing row-wise multi-threading, the overhead of testing was 0.003474 seconds.\n",
      "You can set `force_row_wise=true` to remove the overhead.\n",
      "And if memory is not enough, you can set `force_col_wise=true`.\n",
      "[LightGBM] [Info] Total Bins 171\n",
      "[LightGBM] [Info] Number of data points in the train set: 414203, number of used features: 16\n",
      "[LightGBM] [Info] Start training from score 0.352335\n",
      "[LightGBM] [Info] Auto-choosing row-wise multi-threading, the overhead of testing was 0.003714 seconds.\n",
      "You can set `force_row_wise=true` to remove the overhead.\n",
      "And if memory is not enough, you can set `force_col_wise=true`.\n",
      "[LightGBM] [Info] Total Bins 172\n",
      "[LightGBM] [Info] Number of data points in the train set: 414203, number of used features: 16\n",
      "[LightGBM] [Info] Start training from score 0.352382\n",
      "[LightGBM] [Info] Auto-choosing row-wise multi-threading, the overhead of testing was 0.004083 seconds.\n",
      "You can set `force_row_wise=true` to remove the overhead.\n",
      "And if memory is not enough, you can set `force_col_wise=true`.\n",
      "[LightGBM] [Info] Total Bins 170\n",
      "[LightGBM] [Info] Number of data points in the train set: 414204, number of used features: 16\n",
      "[LightGBM] [Info] Start training from score 0.352325\n"
     ]
    },
    {
     "name": "stderr",
     "output_type": "stream",
     "text": [
      "[I 2025-10-21 19:25:53,017] Trial 2 finished with value: 0.05679087150170818 and parameters: {'num_leaves': 239, 'max_depth': 308, 'learning_rate': 0.29945545787910993, 'n_estimator': 163}. Best is trial 0 with value: 0.05612007265756238.\n"
     ]
    },
    {
     "name": "stdout",
     "output_type": "stream",
     "text": [
      "[LightGBM] [Info] Auto-choosing row-wise multi-threading, the overhead of testing was 0.004249 seconds.\n",
      "You can set `force_row_wise=true` to remove the overhead.\n",
      "And if memory is not enough, you can set `force_col_wise=true`.\n",
      "[LightGBM] [Info] Total Bins 171\n",
      "[LightGBM] [Info] Number of data points in the train set: 414203, number of used features: 16\n",
      "[LightGBM] [Info] Start training from score 0.352336\n",
      "[LightGBM] [Info] Auto-choosing row-wise multi-threading, the overhead of testing was 0.004116 seconds.\n",
      "You can set `force_row_wise=true` to remove the overhead.\n",
      "And if memory is not enough, you can set `force_col_wise=true`.\n",
      "[LightGBM] [Info] Total Bins 173\n",
      "[LightGBM] [Info] Number of data points in the train set: 414203, number of used features: 16\n",
      "[LightGBM] [Info] Start training from score 0.352684\n",
      "[LightGBM] [Info] Auto-choosing row-wise multi-threading, the overhead of testing was 0.005405 seconds.\n",
      "You can set `force_row_wise=true` to remove the overhead.\n",
      "And if memory is not enough, you can set `force_col_wise=true`.\n",
      "[LightGBM] [Info] Total Bins 172\n",
      "[LightGBM] [Info] Number of data points in the train set: 414203, number of used features: 16\n",
      "[LightGBM] [Info] Start training from score 0.352297\n",
      "[LightGBM] [Info] Auto-choosing row-wise multi-threading, the overhead of testing was 0.005080 seconds.\n",
      "You can set `force_row_wise=true` to remove the overhead.\n",
      "And if memory is not enough, you can set `force_col_wise=true`.\n",
      "[LightGBM] [Info] Total Bins 173\n",
      "[LightGBM] [Info] Number of data points in the train set: 414203, number of used features: 16\n",
      "[LightGBM] [Info] Start training from score 0.352345\n",
      "[LightGBM] [Info] Auto-choosing row-wise multi-threading, the overhead of testing was 0.004117 seconds.\n",
      "You can set `force_row_wise=true` to remove the overhead.\n",
      "And if memory is not enough, you can set `force_col_wise=true`.\n",
      "[LightGBM] [Info] Total Bins 177\n",
      "[LightGBM] [Info] Number of data points in the train set: 414204, number of used features: 16\n",
      "[LightGBM] [Info] Start training from score 0.352224\n"
     ]
    },
    {
     "name": "stderr",
     "output_type": "stream",
     "text": [
      "[I 2025-10-21 19:25:58,273] Trial 3 finished with value: 0.05618176314120562 and parameters: {'num_leaves': 61, 'max_depth': 362, 'learning_rate': 0.22360933531084823, 'n_estimator': 182}. Best is trial 0 with value: 0.05612007265756238.\n"
     ]
    },
    {
     "name": "stdout",
     "output_type": "stream",
     "text": [
      "[LightGBM] [Info] Auto-choosing row-wise multi-threading, the overhead of testing was 0.003819 seconds.\n",
      "You can set `force_row_wise=true` to remove the overhead.\n",
      "And if memory is not enough, you can set `force_col_wise=true`.\n",
      "[LightGBM] [Info] Total Bins 169\n",
      "[LightGBM] [Info] Number of data points in the train set: 414203, number of used features: 16\n",
      "[LightGBM] [Info] Start training from score 0.352473\n",
      "[LightGBM] [Info] Auto-choosing row-wise multi-threading, the overhead of testing was 0.003624 seconds.\n",
      "You can set `force_row_wise=true` to remove the overhead.\n",
      "And if memory is not enough, you can set `force_col_wise=true`.\n",
      "[LightGBM] [Info] Total Bins 171\n",
      "[LightGBM] [Info] Number of data points in the train set: 414203, number of used features: 16\n",
      "[LightGBM] [Info] Start training from score 0.352219\n",
      "[LightGBM] [Info] Auto-choosing row-wise multi-threading, the overhead of testing was 0.003854 seconds.\n",
      "You can set `force_row_wise=true` to remove the overhead.\n",
      "And if memory is not enough, you can set `force_col_wise=true`.\n",
      "[LightGBM] [Info] Total Bins 178\n",
      "[LightGBM] [Info] Number of data points in the train set: 414203, number of used features: 16\n",
      "[LightGBM] [Info] Start training from score 0.352538\n",
      "[LightGBM] [Info] Auto-choosing row-wise multi-threading, the overhead of testing was 0.003673 seconds.\n",
      "You can set `force_row_wise=true` to remove the overhead.\n",
      "And if memory is not enough, you can set `force_col_wise=true`.\n",
      "[LightGBM] [Info] Total Bins 170\n",
      "[LightGBM] [Info] Number of data points in the train set: 414203, number of used features: 16\n",
      "[LightGBM] [Info] Start training from score 0.352348\n",
      "[LightGBM] [Info] Auto-choosing row-wise multi-threading, the overhead of testing was 0.004416 seconds.\n",
      "You can set `force_row_wise=true` to remove the overhead.\n",
      "And if memory is not enough, you can set `force_col_wise=true`.\n",
      "[LightGBM] [Info] Total Bins 173\n",
      "[LightGBM] [Info] Number of data points in the train set: 414204, number of used features: 16\n",
      "[LightGBM] [Info] Start training from score 0.352309\n"
     ]
    },
    {
     "name": "stderr",
     "output_type": "stream",
     "text": [
      "[I 2025-10-21 19:26:16,539] Trial 4 finished with value: 0.05769329782020727 and parameters: {'num_leaves': 167, 'max_depth': 41, 'learning_rate': 0.2821377479349702, 'n_estimator': 574}. Best is trial 0 with value: 0.05612007265756238.\n"
     ]
    },
    {
     "name": "stdout",
     "output_type": "stream",
     "text": [
      "[LightGBM] [Info] Auto-choosing row-wise multi-threading, the overhead of testing was 0.005167 seconds.\n",
      "You can set `force_row_wise=true` to remove the overhead.\n",
      "And if memory is not enough, you can set `force_col_wise=true`.\n",
      "[LightGBM] [Info] Total Bins 174\n",
      "[LightGBM] [Info] Number of data points in the train set: 414203, number of used features: 16\n",
      "[LightGBM] [Info] Start training from score 0.352441\n",
      "[LightGBM] [Info] Auto-choosing row-wise multi-threading, the overhead of testing was 0.004175 seconds.\n",
      "You can set `force_row_wise=true` to remove the overhead.\n",
      "And if memory is not enough, you can set `force_col_wise=true`.\n",
      "[LightGBM] [Info] Total Bins 172\n",
      "[LightGBM] [Info] Number of data points in the train set: 414203, number of used features: 16\n",
      "[LightGBM] [Info] Start training from score 0.352340\n",
      "[LightGBM] [Info] Auto-choosing row-wise multi-threading, the overhead of testing was 0.004627 seconds.\n",
      "You can set `force_row_wise=true` to remove the overhead.\n",
      "And if memory is not enough, you can set `force_col_wise=true`.\n",
      "[LightGBM] [Info] Total Bins 173\n",
      "[LightGBM] [Info] Number of data points in the train set: 414203, number of used features: 16\n",
      "[LightGBM] [Info] Start training from score 0.352238\n",
      "[LightGBM] [Info] Auto-choosing row-wise multi-threading, the overhead of testing was 0.004860 seconds.\n",
      "You can set `force_row_wise=true` to remove the overhead.\n",
      "And if memory is not enough, you can set `force_col_wise=true`.\n",
      "[LightGBM] [Info] Total Bins 177\n",
      "[LightGBM] [Info] Number of data points in the train set: 414203, number of used features: 16\n",
      "[LightGBM] [Info] Start training from score 0.352414\n",
      "[LightGBM] [Info] Auto-choosing row-wise multi-threading, the overhead of testing was 0.004582 seconds.\n",
      "You can set `force_row_wise=true` to remove the overhead.\n",
      "And if memory is not enough, you can set `force_col_wise=true`.\n",
      "[LightGBM] [Info] Total Bins 174\n",
      "[LightGBM] [Info] Number of data points in the train set: 414204, number of used features: 16\n",
      "[LightGBM] [Info] Start training from score 0.352454\n"
     ]
    },
    {
     "name": "stderr",
     "output_type": "stream",
     "text": [
      "[I 2025-10-21 19:26:23,664] Trial 5 finished with value: 0.05613796515995886 and parameters: {'num_leaves': 58, 'max_depth': 310, 'learning_rate': 0.15268584075364164, 'n_estimator': 247}. Best is trial 0 with value: 0.05612007265756238.\n"
     ]
    },
    {
     "name": "stdout",
     "output_type": "stream",
     "text": [
      "[LightGBM] [Info] Auto-choosing row-wise multi-threading, the overhead of testing was 0.005681 seconds.\n",
      "You can set `force_row_wise=true` to remove the overhead.\n",
      "And if memory is not enough, you can set `force_col_wise=true`.\n",
      "[LightGBM] [Info] Total Bins 173\n",
      "[LightGBM] [Info] Number of data points in the train set: 414203, number of used features: 16\n",
      "[LightGBM] [Info] Start training from score 0.352513\n",
      "[LightGBM] [Info] Auto-choosing row-wise multi-threading, the overhead of testing was 0.003654 seconds.\n",
      "You can set `force_row_wise=true` to remove the overhead.\n",
      "And if memory is not enough, you can set `force_col_wise=true`.\n",
      "[LightGBM] [Info] Total Bins 175\n",
      "[LightGBM] [Info] Number of data points in the train set: 414203, number of used features: 16\n",
      "[LightGBM] [Info] Start training from score 0.352442\n",
      "[LightGBM] [Info] Auto-choosing row-wise multi-threading, the overhead of testing was 0.009290 seconds.\n",
      "You can set `force_row_wise=true` to remove the overhead.\n",
      "And if memory is not enough, you can set `force_col_wise=true`.\n",
      "[LightGBM] [Info] Total Bins 176\n",
      "[LightGBM] [Info] Number of data points in the train set: 414203, number of used features: 16\n",
      "[LightGBM] [Info] Start training from score 0.352249\n",
      "[LightGBM] [Info] Auto-choosing row-wise multi-threading, the overhead of testing was 0.003716 seconds.\n",
      "You can set `force_row_wise=true` to remove the overhead.\n",
      "And if memory is not enough, you can set `force_col_wise=true`.\n",
      "[LightGBM] [Info] Total Bins 171\n",
      "[LightGBM] [Info] Number of data points in the train set: 414203, number of used features: 16\n",
      "[LightGBM] [Info] Start training from score 0.352268\n",
      "[LightGBM] [Info] Auto-choosing row-wise multi-threading, the overhead of testing was 0.004868 seconds.\n",
      "You can set `force_row_wise=true` to remove the overhead.\n",
      "And if memory is not enough, you can set `force_col_wise=true`.\n",
      "[LightGBM] [Info] Total Bins 175\n",
      "[LightGBM] [Info] Number of data points in the train set: 414204, number of used features: 16\n",
      "[LightGBM] [Info] Start training from score 0.352415\n"
     ]
    },
    {
     "name": "stderr",
     "output_type": "stream",
     "text": [
      "[I 2025-10-21 19:26:48,412] Trial 6 finished with value: 0.05637289906514299 and parameters: {'num_leaves': 87, 'max_depth': 264, 'learning_rate': 0.15194034948901958, 'n_estimator': 580}. Best is trial 0 with value: 0.05612007265756238.\n"
     ]
    },
    {
     "name": "stdout",
     "output_type": "stream",
     "text": [
      "[LightGBM] [Info] Auto-choosing row-wise multi-threading, the overhead of testing was 0.005754 seconds.\n",
      "You can set `force_row_wise=true` to remove the overhead.\n",
      "And if memory is not enough, you can set `force_col_wise=true`.\n",
      "[LightGBM] [Info] Total Bins 175\n",
      "[LightGBM] [Info] Number of data points in the train set: 414203, number of used features: 16\n",
      "[LightGBM] [Info] Start training from score 0.352406\n",
      "[LightGBM] [Info] Auto-choosing row-wise multi-threading, the overhead of testing was 0.004360 seconds.\n",
      "You can set `force_row_wise=true` to remove the overhead.\n",
      "And if memory is not enough, you can set `force_col_wise=true`.\n",
      "[LightGBM] [Info] Total Bins 173\n",
      "[LightGBM] [Info] Number of data points in the train set: 414203, number of used features: 16\n",
      "[LightGBM] [Info] Start training from score 0.352392\n",
      "[LightGBM] [Info] Auto-choosing row-wise multi-threading, the overhead of testing was 0.005295 seconds.\n",
      "You can set `force_row_wise=true` to remove the overhead.\n",
      "And if memory is not enough, you can set `force_col_wise=true`.\n",
      "[LightGBM] [Info] Total Bins 176\n",
      "[LightGBM] [Info] Number of data points in the train set: 414203, number of used features: 16\n",
      "[LightGBM] [Info] Start training from score 0.352361\n",
      "[LightGBM] [Info] Auto-choosing row-wise multi-threading, the overhead of testing was 0.003828 seconds.\n",
      "You can set `force_row_wise=true` to remove the overhead.\n",
      "And if memory is not enough, you can set `force_col_wise=true`.\n",
      "[LightGBM] [Info] Total Bins 171\n",
      "[LightGBM] [Info] Number of data points in the train set: 414203, number of used features: 16\n",
      "[LightGBM] [Info] Start training from score 0.352178\n",
      "[LightGBM] [Info] Auto-choosing row-wise multi-threading, the overhead of testing was 0.003539 seconds.\n",
      "You can set `force_row_wise=true` to remove the overhead.\n",
      "And if memory is not enough, you can set `force_col_wise=true`.\n",
      "[LightGBM] [Info] Total Bins 174\n",
      "[LightGBM] [Info] Number of data points in the train set: 414204, number of used features: 16\n",
      "[LightGBM] [Info] Start training from score 0.352551\n"
     ]
    },
    {
     "name": "stderr",
     "output_type": "stream",
     "text": [
      "[I 2025-10-21 19:27:12,783] Trial 7 finished with value: 0.057371754135598765 and parameters: {'num_leaves': 180, 'max_depth': 85, 'learning_rate': 0.26124799740568694, 'n_estimator': 486}. Best is trial 0 with value: 0.05612007265756238.\n"
     ]
    },
    {
     "name": "stdout",
     "output_type": "stream",
     "text": [
      "[LightGBM] [Info] Auto-choosing row-wise multi-threading, the overhead of testing was 0.004731 seconds.\n",
      "You can set `force_row_wise=true` to remove the overhead.\n",
      "And if memory is not enough, you can set `force_col_wise=true`.\n",
      "[LightGBM] [Info] Total Bins 174\n",
      "[LightGBM] [Info] Number of data points in the train set: 414203, number of used features: 16\n",
      "[LightGBM] [Info] Start training from score 0.352328\n",
      "[LightGBM] [Info] Auto-choosing row-wise multi-threading, the overhead of testing was 0.005097 seconds.\n",
      "You can set `force_row_wise=true` to remove the overhead.\n",
      "And if memory is not enough, you can set `force_col_wise=true`.\n",
      "[LightGBM] [Info] Total Bins 180\n",
      "[LightGBM] [Info] Number of data points in the train set: 414203, number of used features: 16\n",
      "[LightGBM] [Info] Start training from score 0.352463\n",
      "[LightGBM] [Info] Auto-choosing row-wise multi-threading, the overhead of testing was 0.004280 seconds.\n",
      "You can set `force_row_wise=true` to remove the overhead.\n",
      "And if memory is not enough, you can set `force_col_wise=true`.\n",
      "[LightGBM] [Info] Total Bins 173\n",
      "[LightGBM] [Info] Number of data points in the train set: 414203, number of used features: 16\n",
      "[LightGBM] [Info] Start training from score 0.352265\n",
      "[LightGBM] [Info] Auto-choosing row-wise multi-threading, the overhead of testing was 0.004196 seconds.\n",
      "You can set `force_row_wise=true` to remove the overhead.\n",
      "And if memory is not enough, you can set `force_col_wise=true`.\n",
      "[LightGBM] [Info] Total Bins 176\n",
      "[LightGBM] [Info] Number of data points in the train set: 414203, number of used features: 16\n",
      "[LightGBM] [Info] Start training from score 0.352459\n",
      "[LightGBM] [Info] Auto-choosing row-wise multi-threading, the overhead of testing was 0.004113 seconds.\n",
      "You can set `force_row_wise=true` to remove the overhead.\n",
      "And if memory is not enough, you can set `force_col_wise=true`.\n",
      "[LightGBM] [Info] Total Bins 172\n",
      "[LightGBM] [Info] Number of data points in the train set: 414204, number of used features: 16\n",
      "[LightGBM] [Info] Start training from score 0.352372\n"
     ]
    },
    {
     "name": "stderr",
     "output_type": "stream",
     "text": [
      "[I 2025-10-21 19:27:44,559] Trial 8 finished with value: 0.05603844107634207 and parameters: {'num_leaves': 140, 'max_depth': 303, 'learning_rate': 0.01760958646507478, 'n_estimator': 545}. Best is trial 8 with value: 0.05603844107634207.\n"
     ]
    },
    {
     "name": "stdout",
     "output_type": "stream",
     "text": [
      "[LightGBM] [Info] Auto-choosing row-wise multi-threading, the overhead of testing was 0.004153 seconds.\n",
      "You can set `force_row_wise=true` to remove the overhead.\n",
      "And if memory is not enough, you can set `force_col_wise=true`.\n",
      "[LightGBM] [Info] Total Bins 172\n",
      "[LightGBM] [Info] Number of data points in the train set: 414203, number of used features: 16\n",
      "[LightGBM] [Info] Start training from score 0.352472\n",
      "[LightGBM] [Info] Auto-choosing row-wise multi-threading, the overhead of testing was 0.005361 seconds.\n",
      "You can set `force_row_wise=true` to remove the overhead.\n",
      "And if memory is not enough, you can set `force_col_wise=true`.\n",
      "[LightGBM] [Info] Total Bins 172\n",
      "[LightGBM] [Info] Number of data points in the train set: 414203, number of used features: 16\n",
      "[LightGBM] [Info] Start training from score 0.352356\n",
      "[LightGBM] [Info] Auto-choosing row-wise multi-threading, the overhead of testing was 0.004007 seconds.\n",
      "You can set `force_row_wise=true` to remove the overhead.\n",
      "And if memory is not enough, you can set `force_col_wise=true`.\n",
      "[LightGBM] [Info] Total Bins 175\n",
      "[LightGBM] [Info] Number of data points in the train set: 414203, number of used features: 16\n",
      "[LightGBM] [Info] Start training from score 0.352328\n",
      "[LightGBM] [Info] Auto-choosing row-wise multi-threading, the overhead of testing was 0.004244 seconds.\n",
      "You can set `force_row_wise=true` to remove the overhead.\n",
      "And if memory is not enough, you can set `force_col_wise=true`.\n",
      "[LightGBM] [Info] Total Bins 172\n",
      "[LightGBM] [Info] Number of data points in the train set: 414203, number of used features: 16\n",
      "[LightGBM] [Info] Start training from score 0.352256\n",
      "[LightGBM] [Info] Auto-choosing row-wise multi-threading, the overhead of testing was 0.004300 seconds.\n",
      "You can set `force_row_wise=true` to remove the overhead.\n",
      "And if memory is not enough, you can set `force_col_wise=true`.\n",
      "[LightGBM] [Info] Total Bins 174\n",
      "[LightGBM] [Info] Number of data points in the train set: 414204, number of used features: 16\n",
      "[LightGBM] [Info] Start training from score 0.352475\n"
     ]
    },
    {
     "name": "stderr",
     "output_type": "stream",
     "text": [
      "[I 2025-10-21 19:28:07,398] Trial 9 finished with value: 0.057765884675277115 and parameters: {'num_leaves': 129, 'max_depth': 247, 'learning_rate': 0.2645592301838523, 'n_estimator': 865}. Best is trial 8 with value: 0.05603844107634207.\n"
     ]
    },
    {
     "name": "stdout",
     "output_type": "stream",
     "text": [
      "[LightGBM] [Info] Auto-choosing row-wise multi-threading, the overhead of testing was 0.004237 seconds.\n",
      "You can set `force_row_wise=true` to remove the overhead.\n",
      "And if memory is not enough, you can set `force_col_wise=true`.\n",
      "[LightGBM] [Info] Total Bins 173\n",
      "[LightGBM] [Info] Number of data points in the train set: 414203, number of used features: 16\n",
      "[LightGBM] [Info] Start training from score 0.352392\n",
      "[LightGBM] [Info] Auto-choosing row-wise multi-threading, the overhead of testing was 0.003916 seconds.\n",
      "You can set `force_row_wise=true` to remove the overhead.\n",
      "And if memory is not enough, you can set `force_col_wise=true`.\n",
      "[LightGBM] [Info] Total Bins 170\n",
      "[LightGBM] [Info] Number of data points in the train set: 414203, number of used features: 16\n",
      "[LightGBM] [Info] Start training from score 0.352381\n",
      "[LightGBM] [Info] Auto-choosing row-wise multi-threading, the overhead of testing was 0.003143 seconds.\n",
      "You can set `force_row_wise=true` to remove the overhead.\n",
      "And if memory is not enough, you can set `force_col_wise=true`.\n",
      "[LightGBM] [Info] Total Bins 176\n",
      "[LightGBM] [Info] Number of data points in the train set: 414203, number of used features: 16\n",
      "[LightGBM] [Info] Start training from score 0.352530\n",
      "[LightGBM] [Info] Auto-choosing row-wise multi-threading, the overhead of testing was 0.004426 seconds.\n",
      "You can set `force_row_wise=true` to remove the overhead.\n",
      "And if memory is not enough, you can set `force_col_wise=true`.\n",
      "[LightGBM] [Info] Total Bins 173\n",
      "[LightGBM] [Info] Number of data points in the train set: 414203, number of used features: 16\n",
      "[LightGBM] [Info] Start training from score 0.352366\n",
      "[LightGBM] [Info] Auto-choosing row-wise multi-threading, the overhead of testing was 0.003714 seconds.\n",
      "You can set `force_row_wise=true` to remove the overhead.\n",
      "And if memory is not enough, you can set `force_col_wise=true`.\n",
      "[LightGBM] [Info] Total Bins 169\n",
      "[LightGBM] [Info] Number of data points in the train set: 414204, number of used features: 16\n",
      "[LightGBM] [Info] Start training from score 0.352217\n"
     ]
    },
    {
     "name": "stderr",
     "output_type": "stream",
     "text": [
      "[I 2025-10-21 19:28:53,096] Trial 10 finished with value: 0.056042843796101326 and parameters: {'num_leaves': 122, 'max_depth': 507, 'learning_rate': 0.010389304616184007, 'n_estimator': 989}. Best is trial 8 with value: 0.05603844107634207.\n"
     ]
    },
    {
     "name": "stdout",
     "output_type": "stream",
     "text": [
      "[LightGBM] [Info] Auto-choosing row-wise multi-threading, the overhead of testing was 0.004568 seconds.\n",
      "You can set `force_row_wise=true` to remove the overhead.\n",
      "And if memory is not enough, you can set `force_col_wise=true`.\n",
      "[LightGBM] [Info] Total Bins 174\n",
      "[LightGBM] [Info] Number of data points in the train set: 414203, number of used features: 16\n",
      "[LightGBM] [Info] Start training from score 0.352424\n",
      "[LightGBM] [Info] Auto-choosing row-wise multi-threading, the overhead of testing was 0.003693 seconds.\n",
      "You can set `force_row_wise=true` to remove the overhead.\n",
      "And if memory is not enough, you can set `force_col_wise=true`.\n",
      "[LightGBM] [Info] Total Bins 173\n",
      "[LightGBM] [Info] Number of data points in the train set: 414203, number of used features: 16\n",
      "[LightGBM] [Info] Start training from score 0.352347\n",
      "[LightGBM] [Info] Auto-choosing row-wise multi-threading, the overhead of testing was 0.004589 seconds.\n",
      "You can set `force_row_wise=true` to remove the overhead.\n",
      "And if memory is not enough, you can set `force_col_wise=true`.\n",
      "[LightGBM] [Info] Total Bins 173\n",
      "[LightGBM] [Info] Number of data points in the train set: 414203, number of used features: 16\n",
      "[LightGBM] [Info] Start training from score 0.352181\n",
      "[LightGBM] [Info] Auto-choosing row-wise multi-threading, the overhead of testing was 0.005278 seconds.\n",
      "You can set `force_row_wise=true` to remove the overhead.\n",
      "And if memory is not enough, you can set `force_col_wise=true`.\n",
      "[LightGBM] [Info] Total Bins 176\n",
      "[LightGBM] [Info] Number of data points in the train set: 414203, number of used features: 16\n",
      "[LightGBM] [Info] Start training from score 0.352503\n",
      "[LightGBM] [Info] Auto-choosing row-wise multi-threading, the overhead of testing was 0.003920 seconds.\n",
      "You can set `force_row_wise=true` to remove the overhead.\n",
      "And if memory is not enough, you can set `force_col_wise=true`.\n",
      "[LightGBM] [Info] Total Bins 175\n",
      "[LightGBM] [Info] Number of data points in the train set: 414204, number of used features: 16\n",
      "[LightGBM] [Info] Start training from score 0.352432\n"
     ]
    },
    {
     "name": "stderr",
     "output_type": "stream",
     "text": [
      "[I 2025-10-21 19:29:37,279] Trial 11 finished with value: 0.0560490771547306 and parameters: {'num_leaves': 124, 'max_depth': 498, 'learning_rate': 0.008387668456637805, 'n_estimator': 1015}. Best is trial 8 with value: 0.05603844107634207.\n"
     ]
    },
    {
     "name": "stdout",
     "output_type": "stream",
     "text": [
      "[LightGBM] [Info] Auto-choosing row-wise multi-threading, the overhead of testing was 0.004051 seconds.\n",
      "You can set `force_row_wise=true` to remove the overhead.\n",
      "And if memory is not enough, you can set `force_col_wise=true`.\n",
      "[LightGBM] [Info] Total Bins 175\n",
      "[LightGBM] [Info] Number of data points in the train set: 414203, number of used features: 16\n",
      "[LightGBM] [Info] Start training from score 0.352691\n",
      "[LightGBM] [Info] Auto-choosing row-wise multi-threading, the overhead of testing was 0.005939 seconds.\n",
      "You can set `force_row_wise=true` to remove the overhead.\n",
      "And if memory is not enough, you can set `force_col_wise=true`.\n",
      "[LightGBM] [Info] Total Bins 175\n",
      "[LightGBM] [Info] Number of data points in the train set: 414203, number of used features: 16\n",
      "[LightGBM] [Info] Start training from score 0.352372\n",
      "[LightGBM] [Info] Auto-choosing row-wise multi-threading, the overhead of testing was 0.004407 seconds.\n",
      "You can set `force_row_wise=true` to remove the overhead.\n",
      "And if memory is not enough, you can set `force_col_wise=true`.\n",
      "[LightGBM] [Info] Total Bins 174\n",
      "[LightGBM] [Info] Number of data points in the train set: 414203, number of used features: 16\n",
      "[LightGBM] [Info] Start training from score 0.352427\n",
      "[LightGBM] [Info] Auto-choosing row-wise multi-threading, the overhead of testing was 0.004440 seconds.\n",
      "You can set `force_row_wise=true` to remove the overhead.\n",
      "And if memory is not enough, you can set `force_col_wise=true`.\n",
      "[LightGBM] [Info] Total Bins 173\n",
      "[LightGBM] [Info] Number of data points in the train set: 414203, number of used features: 16\n",
      "[LightGBM] [Info] Start training from score 0.352282\n",
      "[LightGBM] [Info] Auto-choosing row-wise multi-threading, the overhead of testing was 0.003789 seconds.\n",
      "You can set `force_row_wise=true` to remove the overhead.\n",
      "And if memory is not enough, you can set `force_col_wise=true`.\n",
      "[LightGBM] [Info] Total Bins 173\n",
      "[LightGBM] [Info] Number of data points in the train set: 414204, number of used features: 16\n",
      "[LightGBM] [Info] Start training from score 0.352115\n"
     ]
    },
    {
     "name": "stderr",
     "output_type": "stream",
     "text": [
      "[I 2025-10-21 19:30:27,907] Trial 12 finished with value: 0.05611359090484206 and parameters: {'num_leaves': 179, 'max_depth': 493, 'learning_rate': 0.005391704597620842, 'n_estimator': 826}. Best is trial 8 with value: 0.05603844107634207.\n"
     ]
    },
    {
     "name": "stdout",
     "output_type": "stream",
     "text": [
      "[LightGBM] [Info] Auto-choosing row-wise multi-threading, the overhead of testing was 0.005396 seconds.\n",
      "You can set `force_row_wise=true` to remove the overhead.\n",
      "And if memory is not enough, you can set `force_col_wise=true`.\n",
      "[LightGBM] [Info] Total Bins 173\n",
      "[LightGBM] [Info] Number of data points in the train set: 414203, number of used features: 16\n",
      "[LightGBM] [Info] Start training from score 0.352416\n",
      "[LightGBM] [Info] Auto-choosing row-wise multi-threading, the overhead of testing was 0.003798 seconds.\n",
      "You can set `force_row_wise=true` to remove the overhead.\n",
      "And if memory is not enough, you can set `force_col_wise=true`.\n",
      "[LightGBM] [Info] Total Bins 175\n",
      "[LightGBM] [Info] Number of data points in the train set: 414203, number of used features: 16\n",
      "[LightGBM] [Info] Start training from score 0.352190\n",
      "[LightGBM] [Info] Auto-choosing row-wise multi-threading, the overhead of testing was 0.004780 seconds.\n",
      "You can set `force_row_wise=true` to remove the overhead.\n",
      "And if memory is not enough, you can set `force_col_wise=true`.\n",
      "[LightGBM] [Info] Total Bins 167\n",
      "[LightGBM] [Info] Number of data points in the train set: 414203, number of used features: 16\n",
      "[LightGBM] [Info] Start training from score 0.352482\n",
      "[LightGBM] [Info] Auto-choosing row-wise multi-threading, the overhead of testing was 0.004477 seconds.\n",
      "You can set `force_row_wise=true` to remove the overhead.\n",
      "And if memory is not enough, you can set `force_col_wise=true`.\n",
      "[LightGBM] [Info] Total Bins 169\n",
      "[LightGBM] [Info] Number of data points in the train set: 414203, number of used features: 16\n",
      "[LightGBM] [Info] Start training from score 0.352514\n",
      "[LightGBM] [Info] Auto-choosing row-wise multi-threading, the overhead of testing was 0.005303 seconds.\n",
      "You can set `force_row_wise=true` to remove the overhead.\n",
      "And if memory is not enough, you can set `force_col_wise=true`.\n",
      "[LightGBM] [Info] Total Bins 175\n",
      "[LightGBM] [Info] Number of data points in the train set: 414204, number of used features: 16\n",
      "[LightGBM] [Info] Start training from score 0.352286\n"
     ]
    },
    {
     "name": "stderr",
     "output_type": "stream",
     "text": [
      "[I 2025-10-21 19:30:57,816] Trial 13 finished with value: 0.05636697688737866 and parameters: {'num_leaves': 228, 'max_depth': 170, 'learning_rate': 0.06142578288681171, 'n_estimator': 737}. Best is trial 8 with value: 0.05603844107634207.\n"
     ]
    },
    {
     "name": "stdout",
     "output_type": "stream",
     "text": [
      "[LightGBM] [Info] Auto-choosing row-wise multi-threading, the overhead of testing was 0.004284 seconds.\n",
      "You can set `force_row_wise=true` to remove the overhead.\n",
      "And if memory is not enough, you can set `force_col_wise=true`.\n",
      "[LightGBM] [Info] Total Bins 171\n",
      "[LightGBM] [Info] Number of data points in the train set: 414203, number of used features: 16\n",
      "[LightGBM] [Info] Start training from score 0.352526\n",
      "[LightGBM] [Info] Auto-choosing row-wise multi-threading, the overhead of testing was 0.004377 seconds.\n",
      "You can set `force_row_wise=true` to remove the overhead.\n",
      "And if memory is not enough, you can set `force_col_wise=true`.\n",
      "[LightGBM] [Info] Total Bins 175\n",
      "[LightGBM] [Info] Number of data points in the train set: 414203, number of used features: 16\n",
      "[LightGBM] [Info] Start training from score 0.352384\n",
      "[LightGBM] [Info] Auto-choosing row-wise multi-threading, the overhead of testing was 0.004532 seconds.\n",
      "You can set `force_row_wise=true` to remove the overhead.\n",
      "And if memory is not enough, you can set `force_col_wise=true`.\n",
      "[LightGBM] [Info] Total Bins 172\n",
      "[LightGBM] [Info] Number of data points in the train set: 414203, number of used features: 16\n",
      "[LightGBM] [Info] Start training from score 0.352319\n",
      "[LightGBM] [Info] Auto-choosing row-wise multi-threading, the overhead of testing was 0.004160 seconds.\n",
      "You can set `force_row_wise=true` to remove the overhead.\n",
      "And if memory is not enough, you can set `force_col_wise=true`.\n",
      "[LightGBM] [Info] Total Bins 171\n",
      "[LightGBM] [Info] Number of data points in the train set: 414203, number of used features: 16\n",
      "[LightGBM] [Info] Start training from score 0.352320\n",
      "[LightGBM] [Info] Auto-choosing row-wise multi-threading, the overhead of testing was 0.003778 seconds.\n",
      "You can set `force_row_wise=true` to remove the overhead.\n",
      "And if memory is not enough, you can set `force_col_wise=true`.\n",
      "[LightGBM] [Info] Total Bins 173\n",
      "[LightGBM] [Info] Number of data points in the train set: 414204, number of used features: 16\n",
      "[LightGBM] [Info] Start training from score 0.352338\n"
     ]
    },
    {
     "name": "stderr",
     "output_type": "stream",
     "text": [
      "[I 2025-10-21 19:30:59,705] Trial 14 finished with value: 0.06629025042520995 and parameters: {'num_leaves': 108, 'max_depth': 386, 'learning_rate': 0.061430967817849, 'n_estimator': 24}. Best is trial 8 with value: 0.05603844107634207.\n"
     ]
    },
    {
     "name": "stdout",
     "output_type": "stream",
     "text": [
      "[LightGBM] [Info] Auto-choosing row-wise multi-threading, the overhead of testing was 0.003727 seconds.\n",
      "You can set `force_row_wise=true` to remove the overhead.\n",
      "And if memory is not enough, you can set `force_col_wise=true`.\n",
      "[LightGBM] [Info] Total Bins 172\n",
      "[LightGBM] [Info] Number of data points in the train set: 414203, number of used features: 16\n",
      "[LightGBM] [Info] Start training from score 0.352357\n",
      "[LightGBM] [Info] Auto-choosing row-wise multi-threading, the overhead of testing was 0.003821 seconds.\n",
      "You can set `force_row_wise=true` to remove the overhead.\n",
      "And if memory is not enough, you can set `force_col_wise=true`.\n",
      "[LightGBM] [Info] Total Bins 173\n",
      "[LightGBM] [Info] Number of data points in the train set: 414203, number of used features: 16\n",
      "[LightGBM] [Info] Start training from score 0.352433\n",
      "[LightGBM] [Info] Auto-choosing row-wise multi-threading, the overhead of testing was 0.004475 seconds.\n",
      "You can set `force_row_wise=true` to remove the overhead.\n",
      "And if memory is not enough, you can set `force_col_wise=true`.\n",
      "[LightGBM] [Info] Total Bins 172\n",
      "[LightGBM] [Info] Number of data points in the train set: 414203, number of used features: 16\n",
      "[LightGBM] [Info] Start training from score 0.352210\n",
      "[LightGBM] [Info] Auto-choosing row-wise multi-threading, the overhead of testing was 0.004620 seconds.\n",
      "You can set `force_row_wise=true` to remove the overhead.\n",
      "And if memory is not enough, you can set `force_col_wise=true`.\n",
      "[LightGBM] [Info] Total Bins 176\n",
      "[LightGBM] [Info] Number of data points in the train set: 414203, number of used features: 16\n",
      "[LightGBM] [Info] Start training from score 0.352366\n",
      "[LightGBM] [Info] Auto-choosing row-wise multi-threading, the overhead of testing was 0.003228 seconds.\n",
      "You can set `force_row_wise=true` to remove the overhead.\n",
      "And if memory is not enough, you can set `force_col_wise=true`.\n",
      "[LightGBM] [Info] Total Bins 174\n",
      "[LightGBM] [Info] Number of data points in the train set: 414204, number of used features: 16\n",
      "[LightGBM] [Info] Start training from score 0.352521\n"
     ]
    },
    {
     "name": "stderr",
     "output_type": "stream",
     "text": [
      "[I 2025-10-21 19:31:34,881] Trial 15 finished with value: 0.05656592407022979 and parameters: {'num_leaves': 154, 'max_depth': 168, 'learning_rate': 0.089909136344979, 'n_estimator': 1018}. Best is trial 8 with value: 0.05603844107634207.\n"
     ]
    },
    {
     "name": "stdout",
     "output_type": "stream",
     "text": [
      "[LightGBM] [Info] Auto-choosing row-wise multi-threading, the overhead of testing was 0.004373 seconds.\n",
      "You can set `force_row_wise=true` to remove the overhead.\n",
      "And if memory is not enough, you can set `force_col_wise=true`.\n",
      "[LightGBM] [Info] Total Bins 172\n",
      "[LightGBM] [Info] Number of data points in the train set: 414203, number of used features: 16\n",
      "[LightGBM] [Info] Start training from score 0.352330\n",
      "[LightGBM] [Info] Auto-choosing row-wise multi-threading, the overhead of testing was 0.003711 seconds.\n",
      "You can set `force_row_wise=true` to remove the overhead.\n",
      "And if memory is not enough, you can set `force_col_wise=true`.\n",
      "[LightGBM] [Info] Total Bins 170\n",
      "[LightGBM] [Info] Number of data points in the train set: 414203, number of used features: 16\n",
      "[LightGBM] [Info] Start training from score 0.352562\n",
      "[LightGBM] [Info] Auto-choosing row-wise multi-threading, the overhead of testing was 0.003787 seconds.\n",
      "You can set `force_row_wise=true` to remove the overhead.\n",
      "And if memory is not enough, you can set `force_col_wise=true`.\n",
      "[LightGBM] [Info] Total Bins 176\n",
      "[LightGBM] [Info] Number of data points in the train set: 414203, number of used features: 16\n",
      "[LightGBM] [Info] Start training from score 0.352356\n",
      "[LightGBM] [Info] Auto-choosing row-wise multi-threading, the overhead of testing was 0.005108 seconds.\n",
      "You can set `force_row_wise=true` to remove the overhead.\n",
      "And if memory is not enough, you can set `force_col_wise=true`.\n",
      "[LightGBM] [Info] Total Bins 169\n",
      "[LightGBM] [Info] Number of data points in the train set: 414203, number of used features: 16\n",
      "[LightGBM] [Info] Start training from score 0.352242\n",
      "[LightGBM] [Info] Auto-choosing row-wise multi-threading, the overhead of testing was 0.003981 seconds.\n",
      "You can set `force_row_wise=true` to remove the overhead.\n",
      "And if memory is not enough, you can set `force_col_wise=true`.\n",
      "[LightGBM] [Info] Total Bins 175\n",
      "[LightGBM] [Info] Number of data points in the train set: 414204, number of used features: 16\n",
      "[LightGBM] [Info] Start training from score 0.352398\n"
     ]
    },
    {
     "name": "stderr",
     "output_type": "stream",
     "text": [
      "[I 2025-10-21 19:32:04,820] Trial 16 finished with value: 0.05614144780258172 and parameters: {'num_leaves': 215, 'max_depth': 445, 'learning_rate': 0.03609776689408274, 'n_estimator': 700}. Best is trial 8 with value: 0.05603844107634207.\n"
     ]
    },
    {
     "name": "stdout",
     "output_type": "stream",
     "text": [
      "[LightGBM] [Info] Auto-choosing row-wise multi-threading, the overhead of testing was 0.005781 seconds.\n",
      "You can set `force_row_wise=true` to remove the overhead.\n",
      "And if memory is not enough, you can set `force_col_wise=true`.\n",
      "[LightGBM] [Info] Total Bins 173\n",
      "[LightGBM] [Info] Number of data points in the train set: 414203, number of used features: 16\n",
      "[LightGBM] [Info] Start training from score 0.352516\n",
      "[LightGBM] [Info] Auto-choosing row-wise multi-threading, the overhead of testing was 0.004971 seconds.\n",
      "You can set `force_row_wise=true` to remove the overhead.\n",
      "And if memory is not enough, you can set `force_col_wise=true`.\n",
      "[LightGBM] [Info] Total Bins 172\n",
      "[LightGBM] [Info] Number of data points in the train set: 414203, number of used features: 16\n",
      "[LightGBM] [Info] Start training from score 0.352498\n",
      "[LightGBM] [Info] Auto-choosing row-wise multi-threading, the overhead of testing was 0.005260 seconds.\n",
      "You can set `force_row_wise=true` to remove the overhead.\n",
      "And if memory is not enough, you can set `force_col_wise=true`.\n",
      "[LightGBM] [Info] Total Bins 175\n",
      "[LightGBM] [Info] Number of data points in the train set: 414203, number of used features: 16\n",
      "[LightGBM] [Info] Start training from score 0.352323\n",
      "[LightGBM] [Info] Auto-choosing row-wise multi-threading, the overhead of testing was 0.003505 seconds.\n",
      "You can set `force_row_wise=true` to remove the overhead.\n",
      "And if memory is not enough, you can set `force_col_wise=true`.\n",
      "[LightGBM] [Info] Total Bins 174\n",
      "[LightGBM] [Info] Number of data points in the train set: 414203, number of used features: 16\n",
      "[LightGBM] [Info] Start training from score 0.352119\n",
      "[LightGBM] [Info] Auto-choosing row-wise multi-threading, the overhead of testing was 0.004243 seconds.\n",
      "You can set `force_row_wise=true` to remove the overhead.\n",
      "And if memory is not enough, you can set `force_col_wise=true`.\n",
      "[LightGBM] [Info] Total Bins 169\n",
      "[LightGBM] [Info] Number of data points in the train set: 414204, number of used features: 16\n",
      "[LightGBM] [Info] Start training from score 0.352431\n"
     ]
    },
    {
     "name": "stderr",
     "output_type": "stream",
     "text": [
      "[I 2025-10-21 19:32:11,799] Trial 17 finished with value: 0.05630421259130458 and parameters: {'num_leaves': 9, 'max_depth': 161, 'learning_rate': 0.11103082888171911, 'n_estimator': 410}. Best is trial 8 with value: 0.05603844107634207.\n"
     ]
    },
    {
     "name": "stdout",
     "output_type": "stream",
     "text": [
      "[LightGBM] [Info] Auto-choosing row-wise multi-threading, the overhead of testing was 0.004144 seconds.\n",
      "You can set `force_row_wise=true` to remove the overhead.\n",
      "And if memory is not enough, you can set `force_col_wise=true`.\n",
      "[LightGBM] [Info] Total Bins 167\n",
      "[LightGBM] [Info] Number of data points in the train set: 414203, number of used features: 16\n",
      "[LightGBM] [Info] Start training from score 0.352434\n",
      "[LightGBM] [Info] Auto-choosing row-wise multi-threading, the overhead of testing was 0.003597 seconds.\n",
      "You can set `force_row_wise=true` to remove the overhead.\n",
      "And if memory is not enough, you can set `force_col_wise=true`.\n",
      "[LightGBM] [Info] Total Bins 176\n",
      "[LightGBM] [Info] Number of data points in the train set: 414203, number of used features: 16\n",
      "[LightGBM] [Info] Start training from score 0.352238\n",
      "[LightGBM] [Info] Auto-choosing row-wise multi-threading, the overhead of testing was 0.003844 seconds.\n",
      "You can set `force_row_wise=true` to remove the overhead.\n",
      "And if memory is not enough, you can set `force_col_wise=true`.\n",
      "[LightGBM] [Info] Total Bins 171\n",
      "[LightGBM] [Info] Number of data points in the train set: 414203, number of used features: 16\n",
      "[LightGBM] [Info] Start training from score 0.352448\n",
      "[LightGBM] [Info] Auto-choosing row-wise multi-threading, the overhead of testing was 0.004337 seconds.\n",
      "You can set `force_row_wise=true` to remove the overhead.\n",
      "And if memory is not enough, you can set `force_col_wise=true`.\n",
      "[LightGBM] [Info] Total Bins 169\n",
      "[LightGBM] [Info] Number of data points in the train set: 414203, number of used features: 16\n",
      "[LightGBM] [Info] Start training from score 0.352421\n",
      "[LightGBM] [Info] Auto-choosing row-wise multi-threading, the overhead of testing was 0.003860 seconds.\n",
      "You can set `force_row_wise=true` to remove the overhead.\n",
      "And if memory is not enough, you can set `force_col_wise=true`.\n",
      "[LightGBM] [Info] Total Bins 172\n",
      "[LightGBM] [Info] Number of data points in the train set: 414204, number of used features: 16\n",
      "[LightGBM] [Info] Start training from score 0.352346\n"
     ]
    },
    {
     "name": "stderr",
     "output_type": "stream",
     "text": [
      "[I 2025-10-21 19:32:42,169] Trial 18 finished with value: 0.05789794498115438 and parameters: {'num_leaves': 200, 'max_depth': 446, 'learning_rate': 0.20902992469726667, 'n_estimator': 891}. Best is trial 8 with value: 0.05603844107634207.\n"
     ]
    },
    {
     "name": "stdout",
     "output_type": "stream",
     "text": [
      "[LightGBM] [Info] Auto-choosing row-wise multi-threading, the overhead of testing was 0.003472 seconds.\n",
      "You can set `force_row_wise=true` to remove the overhead.\n",
      "And if memory is not enough, you can set `force_col_wise=true`.\n",
      "[LightGBM] [Info] Total Bins 173\n",
      "[LightGBM] [Info] Number of data points in the train set: 414203, number of used features: 16\n",
      "[LightGBM] [Info] Start training from score 0.352317\n",
      "[LightGBM] [Info] Auto-choosing row-wise multi-threading, the overhead of testing was 0.005105 seconds.\n",
      "You can set `force_row_wise=true` to remove the overhead.\n",
      "And if memory is not enough, you can set `force_col_wise=true`.\n",
      "[LightGBM] [Info] Total Bins 174\n",
      "[LightGBM] [Info] Number of data points in the train set: 414203, number of used features: 16\n",
      "[LightGBM] [Info] Start training from score 0.352506\n",
      "[LightGBM] [Info] Auto-choosing row-wise multi-threading, the overhead of testing was 0.005256 seconds.\n",
      "You can set `force_row_wise=true` to remove the overhead.\n",
      "And if memory is not enough, you can set `force_col_wise=true`.\n",
      "[LightGBM] [Info] Total Bins 173\n",
      "[LightGBM] [Info] Number of data points in the train set: 414203, number of used features: 16\n",
      "[LightGBM] [Info] Start training from score 0.352439\n",
      "[LightGBM] [Info] Auto-choosing row-wise multi-threading, the overhead of testing was 0.003851 seconds.\n",
      "You can set `force_row_wise=true` to remove the overhead.\n",
      "And if memory is not enough, you can set `force_col_wise=true`.\n",
      "[LightGBM] [Info] Total Bins 171\n",
      "[LightGBM] [Info] Number of data points in the train set: 414203, number of used features: 16\n",
      "[LightGBM] [Info] Start training from score 0.352407\n",
      "[LightGBM] [Info] Auto-choosing row-wise multi-threading, the overhead of testing was 0.003787 seconds.\n",
      "You can set `force_row_wise=true` to remove the overhead.\n",
      "And if memory is not enough, you can set `force_col_wise=true`.\n",
      "[LightGBM] [Info] Total Bins 171\n",
      "[LightGBM] [Info] Number of data points in the train set: 414204, number of used features: 16\n",
      "[LightGBM] [Info] Start training from score 0.352219\n"
     ]
    },
    {
     "name": "stderr",
     "output_type": "stream",
     "text": [
      "[I 2025-10-21 19:33:07,526] Trial 19 finished with value: 0.056108839285743395 and parameters: {'num_leaves': 148, 'max_depth': 438, 'learning_rate': 0.03971098104209781, 'n_estimator': 673}. Best is trial 8 with value: 0.05603844107634207.\n"
     ]
    },
    {
     "name": "stdout",
     "output_type": "stream",
     "text": [
      "[LightGBM] [Info] Auto-choosing row-wise multi-threading, the overhead of testing was 0.004072 seconds.\n",
      "You can set `force_row_wise=true` to remove the overhead.\n",
      "And if memory is not enough, you can set `force_col_wise=true`.\n",
      "[LightGBM] [Info] Total Bins 174\n",
      "[LightGBM] [Info] Number of data points in the train set: 414203, number of used features: 16\n",
      "[LightGBM] [Info] Start training from score 0.352298\n",
      "[LightGBM] [Info] Auto-choosing row-wise multi-threading, the overhead of testing was 0.003618 seconds.\n",
      "You can set `force_row_wise=true` to remove the overhead.\n",
      "And if memory is not enough, you can set `force_col_wise=true`.\n",
      "[LightGBM] [Info] Total Bins 169\n",
      "[LightGBM] [Info] Number of data points in the train set: 414203, number of used features: 16\n",
      "[LightGBM] [Info] Start training from score 0.352390\n",
      "[LightGBM] [Info] Auto-choosing row-wise multi-threading, the overhead of testing was 0.004071 seconds.\n",
      "You can set `force_row_wise=true` to remove the overhead.\n",
      "And if memory is not enough, you can set `force_col_wise=true`.\n",
      "[LightGBM] [Info] Total Bins 174\n",
      "[LightGBM] [Info] Number of data points in the train set: 414203, number of used features: 16\n",
      "[LightGBM] [Info] Start training from score 0.352344\n",
      "[LightGBM] [Info] Auto-choosing row-wise multi-threading, the overhead of testing was 0.003736 seconds.\n",
      "You can set `force_row_wise=true` to remove the overhead.\n",
      "And if memory is not enough, you can set `force_col_wise=true`.\n",
      "[LightGBM] [Info] Total Bins 174\n",
      "[LightGBM] [Info] Number of data points in the train set: 414203, number of used features: 16\n",
      "[LightGBM] [Info] Start training from score 0.352422\n",
      "[LightGBM] [Info] Auto-choosing row-wise multi-threading, the overhead of testing was 0.003270 seconds.\n",
      "You can set `force_row_wise=true` to remove the overhead.\n",
      "And if memory is not enough, you can set `force_col_wise=true`.\n",
      "[LightGBM] [Info] Total Bins 176\n",
      "[LightGBM] [Info] Number of data points in the train set: 414204, number of used features: 16\n",
      "[LightGBM] [Info] Start training from score 0.352432\n"
     ]
    },
    {
     "name": "stderr",
     "output_type": "stream",
     "text": [
      "[I 2025-10-21 19:33:29,734] Trial 20 finished with value: 0.056466766018415916 and parameters: {'num_leaves': 97, 'max_depth': 227, 'learning_rate': 0.11751602564200081, 'n_estimator': 928}. Best is trial 8 with value: 0.05603844107634207.\n"
     ]
    },
    {
     "name": "stdout",
     "output_type": "stream",
     "text": [
      "[LightGBM] [Info] Auto-choosing row-wise multi-threading, the overhead of testing was 0.004094 seconds.\n",
      "You can set `force_row_wise=true` to remove the overhead.\n",
      "And if memory is not enough, you can set `force_col_wise=true`.\n",
      "[LightGBM] [Info] Total Bins 171\n",
      "[LightGBM] [Info] Number of data points in the train set: 414203, number of used features: 16\n",
      "[LightGBM] [Info] Start training from score 0.352496\n",
      "[LightGBM] [Info] Auto-choosing row-wise multi-threading, the overhead of testing was 0.004966 seconds.\n",
      "You can set `force_row_wise=true` to remove the overhead.\n",
      "And if memory is not enough, you can set `force_col_wise=true`.\n",
      "[LightGBM] [Info] Total Bins 172\n",
      "[LightGBM] [Info] Number of data points in the train set: 414203, number of used features: 16\n",
      "[LightGBM] [Info] Start training from score 0.352192\n",
      "[LightGBM] [Info] Auto-choosing row-wise multi-threading, the overhead of testing was 0.004349 seconds.\n",
      "You can set `force_row_wise=true` to remove the overhead.\n",
      "And if memory is not enough, you can set `force_col_wise=true`.\n",
      "[LightGBM] [Info] Total Bins 171\n",
      "[LightGBM] [Info] Number of data points in the train set: 414203, number of used features: 16\n",
      "[LightGBM] [Info] Start training from score 0.352541\n",
      "[LightGBM] [Info] Auto-choosing row-wise multi-threading, the overhead of testing was 0.003929 seconds.\n",
      "You can set `force_row_wise=true` to remove the overhead.\n",
      "And if memory is not enough, you can set `force_col_wise=true`.\n",
      "[LightGBM] [Info] Total Bins 173\n",
      "[LightGBM] [Info] Number of data points in the train set: 414203, number of used features: 16\n",
      "[LightGBM] [Info] Start training from score 0.352331\n",
      "[LightGBM] [Info] Auto-choosing row-wise multi-threading, the overhead of testing was 0.003116 seconds.\n",
      "You can set `force_row_wise=true` to remove the overhead.\n",
      "And if memory is not enough, you can set `force_col_wise=true`.\n",
      "[LightGBM] [Info] Total Bins 177\n",
      "[LightGBM] [Info] Number of data points in the train set: 414204, number of used features: 16\n",
      "[LightGBM] [Info] Start training from score 0.352327\n"
     ]
    },
    {
     "name": "stderr",
     "output_type": "stream",
     "text": [
      "[I 2025-10-21 19:34:21,010] Trial 21 finished with value: 0.05612057245139106 and parameters: {'num_leaves': 115, 'max_depth': 485, 'learning_rate': 0.004886114403670498, 'n_estimator': 1004}. Best is trial 8 with value: 0.05603844107634207.\n"
     ]
    },
    {
     "name": "stdout",
     "output_type": "stream",
     "text": [
      "[LightGBM] [Info] Auto-choosing row-wise multi-threading, the overhead of testing was 0.005519 seconds.\n",
      "You can set `force_row_wise=true` to remove the overhead.\n",
      "And if memory is not enough, you can set `force_col_wise=true`.\n",
      "[LightGBM] [Info] Total Bins 172\n",
      "[LightGBM] [Info] Number of data points in the train set: 414203, number of used features: 16\n",
      "[LightGBM] [Info] Start training from score 0.352265\n",
      "[LightGBM] [Info] Auto-choosing row-wise multi-threading, the overhead of testing was 0.003673 seconds.\n",
      "You can set `force_row_wise=true` to remove the overhead.\n",
      "And if memory is not enough, you can set `force_col_wise=true`.\n",
      "[LightGBM] [Info] Total Bins 168\n",
      "[LightGBM] [Info] Number of data points in the train set: 414203, number of used features: 16\n",
      "[LightGBM] [Info] Start training from score 0.352234\n",
      "[LightGBM] [Info] Auto-choosing row-wise multi-threading, the overhead of testing was 0.004407 seconds.\n",
      "You can set `force_row_wise=true` to remove the overhead.\n",
      "And if memory is not enough, you can set `force_col_wise=true`.\n",
      "[LightGBM] [Info] Total Bins 170\n",
      "[LightGBM] [Info] Number of data points in the train set: 414203, number of used features: 16\n",
      "[LightGBM] [Info] Start training from score 0.352428\n",
      "[LightGBM] [Info] Auto-choosing row-wise multi-threading, the overhead of testing was 0.004351 seconds.\n",
      "You can set `force_row_wise=true` to remove the overhead.\n",
      "And if memory is not enough, you can set `force_col_wise=true`.\n",
      "[LightGBM] [Info] Total Bins 175\n",
      "[LightGBM] [Info] Number of data points in the train set: 414203, number of used features: 16\n",
      "[LightGBM] [Info] Start training from score 0.352366\n",
      "[LightGBM] [Info] Auto-choosing row-wise multi-threading, the overhead of testing was 0.003814 seconds.\n",
      "You can set `force_row_wise=true` to remove the overhead.\n",
      "And if memory is not enough, you can set `force_col_wise=true`.\n",
      "[LightGBM] [Info] Total Bins 175\n",
      "[LightGBM] [Info] Number of data points in the train set: 414204, number of used features: 16\n",
      "[LightGBM] [Info] Start training from score 0.352594\n"
     ]
    },
    {
     "name": "stderr",
     "output_type": "stream",
     "text": [
      "[I 2025-10-21 19:34:53,113] Trial 22 finished with value: 0.05609085899674425 and parameters: {'num_leaves': 140, 'max_depth': 504, 'learning_rate': 0.03125904476417992, 'n_estimator': 791}. Best is trial 8 with value: 0.05603844107634207.\n"
     ]
    },
    {
     "name": "stdout",
     "output_type": "stream",
     "text": [
      "[LightGBM] [Info] Auto-choosing row-wise multi-threading, the overhead of testing was 0.005637 seconds.\n",
      "You can set `force_row_wise=true` to remove the overhead.\n",
      "And if memory is not enough, you can set `force_col_wise=true`.\n",
      "[LightGBM] [Info] Total Bins 175\n",
      "[LightGBM] [Info] Number of data points in the train set: 414203, number of used features: 16\n",
      "[LightGBM] [Info] Start training from score 0.352444\n",
      "[LightGBM] [Info] Auto-choosing row-wise multi-threading, the overhead of testing was 0.004065 seconds.\n",
      "You can set `force_row_wise=true` to remove the overhead.\n",
      "And if memory is not enough, you can set `force_col_wise=true`.\n",
      "[LightGBM] [Info] Total Bins 175\n",
      "[LightGBM] [Info] Number of data points in the train set: 414203, number of used features: 16\n",
      "[LightGBM] [Info] Start training from score 0.352372\n",
      "[LightGBM] [Info] Auto-choosing row-wise multi-threading, the overhead of testing was 0.004895 seconds.\n",
      "You can set `force_row_wise=true` to remove the overhead.\n",
      "And if memory is not enough, you can set `force_col_wise=true`.\n",
      "[LightGBM] [Info] Total Bins 172\n",
      "[LightGBM] [Info] Number of data points in the train set: 414203, number of used features: 16\n",
      "[LightGBM] [Info] Start training from score 0.352379\n",
      "[LightGBM] [Info] Auto-choosing row-wise multi-threading, the overhead of testing was 0.004750 seconds.\n",
      "You can set `force_row_wise=true` to remove the overhead.\n",
      "And if memory is not enough, you can set `force_col_wise=true`.\n",
      "[LightGBM] [Info] Total Bins 169\n",
      "[LightGBM] [Info] Number of data points in the train set: 414203, number of used features: 16\n",
      "[LightGBM] [Info] Start training from score 0.352352\n",
      "[LightGBM] [Info] Auto-choosing row-wise multi-threading, the overhead of testing was 0.003916 seconds.\n",
      "You can set `force_row_wise=true` to remove the overhead.\n",
      "And if memory is not enough, you can set `force_col_wise=true`.\n",
      "[LightGBM] [Info] Total Bins 171\n",
      "[LightGBM] [Info] Number of data points in the train set: 414204, number of used features: 16\n",
      "[LightGBM] [Info] Start training from score 0.352340\n"
     ]
    },
    {
     "name": "stderr",
     "output_type": "stream",
     "text": [
      "[I 2025-10-21 19:35:46,872] Trial 23 finished with value: 0.056125919842728855 and parameters: {'num_leaves': 119, 'max_depth': 324, 'learning_rate': 0.005174472574243868, 'n_estimator': 953}. Best is trial 8 with value: 0.05603844107634207.\n"
     ]
    },
    {
     "name": "stdout",
     "output_type": "stream",
     "text": [
      "[LightGBM] [Info] Auto-choosing row-wise multi-threading, the overhead of testing was 0.004803 seconds.\n",
      "You can set `force_row_wise=true` to remove the overhead.\n",
      "And if memory is not enough, you can set `force_col_wise=true`.\n",
      "[LightGBM] [Info] Total Bins 171\n",
      "[LightGBM] [Info] Number of data points in the train set: 414203, number of used features: 16\n",
      "[LightGBM] [Info] Start training from score 0.352273\n",
      "[LightGBM] [Info] Auto-choosing row-wise multi-threading, the overhead of testing was 0.005439 seconds.\n",
      "You can set `force_row_wise=true` to remove the overhead.\n",
      "And if memory is not enough, you can set `force_col_wise=true`.\n",
      "[LightGBM] [Info] Total Bins 166\n",
      "[LightGBM] [Info] Number of data points in the train set: 414203, number of used features: 16\n",
      "[LightGBM] [Info] Start training from score 0.352545\n",
      "[LightGBM] [Info] Auto-choosing row-wise multi-threading, the overhead of testing was 0.003970 seconds.\n",
      "You can set `force_row_wise=true` to remove the overhead.\n",
      "And if memory is not enough, you can set `force_col_wise=true`.\n",
      "[LightGBM] [Info] Total Bins 173\n",
      "[LightGBM] [Info] Number of data points in the train set: 414203, number of used features: 16\n",
      "[LightGBM] [Info] Start training from score 0.352336\n",
      "[LightGBM] [Info] Auto-choosing row-wise multi-threading, the overhead of testing was 0.004415 seconds.\n",
      "You can set `force_row_wise=true` to remove the overhead.\n",
      "And if memory is not enough, you can set `force_col_wise=true`.\n",
      "[LightGBM] [Info] Total Bins 171\n",
      "[LightGBM] [Info] Number of data points in the train set: 414203, number of used features: 16\n",
      "[LightGBM] [Info] Start training from score 0.352301\n",
      "[LightGBM] [Info] Auto-choosing row-wise multi-threading, the overhead of testing was 0.004640 seconds.\n",
      "You can set `force_row_wise=true` to remove the overhead.\n",
      "And if memory is not enough, you can set `force_col_wise=true`.\n",
      "[LightGBM] [Info] Total Bins 173\n",
      "[LightGBM] [Info] Number of data points in the train set: 414204, number of used features: 16\n",
      "[LightGBM] [Info] Start training from score 0.352432\n"
     ]
    },
    {
     "name": "stderr",
     "output_type": "stream",
     "text": [
      "[I 2025-10-21 19:36:08,733] Trial 24 finished with value: 0.05613682958107974 and parameters: {'num_leaves': 77, 'max_depth': 419, 'learning_rate': 0.05758043694758251, 'n_estimator': 767}. Best is trial 8 with value: 0.05603844107634207.\n"
     ]
    },
    {
     "name": "stdout",
     "output_type": "stream",
     "text": [
      "[LightGBM] [Info] Auto-choosing row-wise multi-threading, the overhead of testing was 0.004113 seconds.\n",
      "You can set `force_row_wise=true` to remove the overhead.\n",
      "And if memory is not enough, you can set `force_col_wise=true`.\n",
      "[LightGBM] [Info] Total Bins 173\n",
      "[LightGBM] [Info] Number of data points in the train set: 414203, number of used features: 16\n",
      "[LightGBM] [Info] Start training from score 0.352483\n",
      "[LightGBM] [Info] Auto-choosing row-wise multi-threading, the overhead of testing was 0.004040 seconds.\n",
      "You can set `force_row_wise=true` to remove the overhead.\n",
      "And if memory is not enough, you can set `force_col_wise=true`.\n",
      "[LightGBM] [Info] Total Bins 176\n",
      "[LightGBM] [Info] Number of data points in the train set: 414203, number of used features: 16\n",
      "[LightGBM] [Info] Start training from score 0.352236\n",
      "[LightGBM] [Info] Auto-choosing row-wise multi-threading, the overhead of testing was 0.003814 seconds.\n",
      "You can set `force_row_wise=true` to remove the overhead.\n",
      "And if memory is not enough, you can set `force_col_wise=true`.\n",
      "[LightGBM] [Info] Total Bins 174\n",
      "[LightGBM] [Info] Number of data points in the train set: 414203, number of used features: 16\n",
      "[LightGBM] [Info] Start training from score 0.352286\n",
      "[LightGBM] [Info] Auto-choosing row-wise multi-threading, the overhead of testing was 0.004019 seconds.\n",
      "You can set `force_row_wise=true` to remove the overhead.\n",
      "And if memory is not enough, you can set `force_col_wise=true`.\n",
      "[LightGBM] [Info] Total Bins 171\n",
      "[LightGBM] [Info] Number of data points in the train set: 414203, number of used features: 16\n",
      "[LightGBM] [Info] Start training from score 0.352405\n",
      "[LightGBM] [Info] Auto-choosing row-wise multi-threading, the overhead of testing was 0.004273 seconds.\n",
      "You can set `force_row_wise=true` to remove the overhead.\n",
      "And if memory is not enough, you can set `force_col_wise=true`.\n",
      "[LightGBM] [Info] Total Bins 172\n",
      "[LightGBM] [Info] Number of data points in the train set: 414204, number of used features: 16\n",
      "[LightGBM] [Info] Start training from score 0.352476\n"
     ]
    },
    {
     "name": "stderr",
     "output_type": "stream",
     "text": [
      "[I 2025-10-21 19:36:34,163] Trial 25 finished with value: 0.05606166334395204 and parameters: {'num_leaves': 133, 'max_depth': 511, 'learning_rate': 0.027429808174928294, 'n_estimator': 651}. Best is trial 8 with value: 0.05603844107634207.\n"
     ]
    },
    {
     "name": "stdout",
     "output_type": "stream",
     "text": [
      "[LightGBM] [Info] Auto-choosing row-wise multi-threading, the overhead of testing was 0.004484 seconds.\n",
      "You can set `force_row_wise=true` to remove the overhead.\n",
      "And if memory is not enough, you can set `force_col_wise=true`.\n",
      "[LightGBM] [Info] Total Bins 172\n",
      "[LightGBM] [Info] Number of data points in the train set: 414203, number of used features: 16\n",
      "[LightGBM] [Info] Start training from score 0.352331\n",
      "[LightGBM] [Info] Auto-choosing row-wise multi-threading, the overhead of testing was 0.005359 seconds.\n",
      "You can set `force_row_wise=true` to remove the overhead.\n",
      "And if memory is not enough, you can set `force_col_wise=true`.\n",
      "[LightGBM] [Info] Total Bins 173\n",
      "[LightGBM] [Info] Number of data points in the train set: 414203, number of used features: 16\n",
      "[LightGBM] [Info] Start training from score 0.352535\n",
      "[LightGBM] [Info] Auto-choosing row-wise multi-threading, the overhead of testing was 0.003865 seconds.\n",
      "You can set `force_row_wise=true` to remove the overhead.\n",
      "And if memory is not enough, you can set `force_col_wise=true`.\n",
      "[LightGBM] [Info] Total Bins 178\n",
      "[LightGBM] [Info] Number of data points in the train set: 414203, number of used features: 16\n",
      "[LightGBM] [Info] Start training from score 0.352186\n",
      "[LightGBM] [Info] Auto-choosing row-wise multi-threading, the overhead of testing was 0.003907 seconds.\n",
      "You can set `force_row_wise=true` to remove the overhead.\n",
      "And if memory is not enough, you can set `force_col_wise=true`.\n",
      "[LightGBM] [Info] Total Bins 175\n",
      "[LightGBM] [Info] Number of data points in the train set: 414203, number of used features: 16\n",
      "[LightGBM] [Info] Start training from score 0.352399\n",
      "[LightGBM] [Info] Auto-choosing row-wise multi-threading, the overhead of testing was 0.004387 seconds.\n",
      "You can set `force_row_wise=true` to remove the overhead.\n",
      "And if memory is not enough, you can set `force_col_wise=true`.\n",
      "[LightGBM] [Info] Total Bins 174\n",
      "[LightGBM] [Info] Number of data points in the train set: 414204, number of used features: 16\n",
      "[LightGBM] [Info] Start training from score 0.352437\n"
     ]
    },
    {
     "name": "stderr",
     "output_type": "stream",
     "text": [
      "[I 2025-10-21 19:36:49,543] Trial 26 finished with value: 0.05618228326459799 and parameters: {'num_leaves': 159, 'max_depth': 356, 'learning_rate': 0.08488763225882441, 'n_estimator': 407}. Best is trial 8 with value: 0.05603844107634207.\n"
     ]
    },
    {
     "name": "stdout",
     "output_type": "stream",
     "text": [
      "[LightGBM] [Info] Auto-choosing row-wise multi-threading, the overhead of testing was 0.004188 seconds.\n",
      "You can set `force_row_wise=true` to remove the overhead.\n",
      "And if memory is not enough, you can set `force_col_wise=true`.\n",
      "[LightGBM] [Info] Total Bins 175\n",
      "[LightGBM] [Info] Number of data points in the train set: 414203, number of used features: 16\n",
      "[LightGBM] [Info] Start training from score 0.352296\n",
      "[LightGBM] [Info] Auto-choosing row-wise multi-threading, the overhead of testing was 0.003937 seconds.\n",
      "You can set `force_row_wise=true` to remove the overhead.\n",
      "And if memory is not enough, you can set `force_col_wise=true`.\n",
      "[LightGBM] [Info] Total Bins 177\n",
      "[LightGBM] [Info] Number of data points in the train set: 414203, number of used features: 16\n",
      "[LightGBM] [Info] Start training from score 0.352556\n",
      "[LightGBM] [Info] Auto-choosing row-wise multi-threading, the overhead of testing was 0.004751 seconds.\n",
      "You can set `force_row_wise=true` to remove the overhead.\n",
      "And if memory is not enough, you can set `force_col_wise=true`.\n",
      "[LightGBM] [Info] Total Bins 171\n",
      "[LightGBM] [Info] Number of data points in the train set: 414203, number of used features: 16\n",
      "[LightGBM] [Info] Start training from score 0.352071\n",
      "[LightGBM] [Info] Auto-choosing row-wise multi-threading, the overhead of testing was 0.004939 seconds.\n",
      "You can set `force_row_wise=true` to remove the overhead.\n",
      "And if memory is not enough, you can set `force_col_wise=true`.\n",
      "[LightGBM] [Info] Total Bins 172\n",
      "[LightGBM] [Info] Number of data points in the train set: 414203, number of used features: 16\n",
      "[LightGBM] [Info] Start training from score 0.352480\n",
      "[LightGBM] [Info] Auto-choosing row-wise multi-threading, the overhead of testing was 0.003146 seconds.\n",
      "You can set `force_row_wise=true` to remove the overhead.\n",
      "And if memory is not enough, you can set `force_col_wise=true`.\n",
      "[LightGBM] [Info] Total Bins 172\n",
      "[LightGBM] [Info] Number of data points in the train set: 414204, number of used features: 16\n",
      "[LightGBM] [Info] Start training from score 0.352485\n"
     ]
    },
    {
     "name": "stderr",
     "output_type": "stream",
     "text": [
      "[I 2025-10-21 19:37:12,410] Trial 27 finished with value: 0.056918476142230126 and parameters: {'num_leaves': 101, 'max_depth': 474, 'learning_rate': 0.18605545341671426, 'n_estimator': 937}. Best is trial 8 with value: 0.05603844107634207.\n"
     ]
    },
    {
     "name": "stdout",
     "output_type": "stream",
     "text": [
      "[LightGBM] [Info] Auto-choosing row-wise multi-threading, the overhead of testing was 0.003875 seconds.\n",
      "You can set `force_row_wise=true` to remove the overhead.\n",
      "And if memory is not enough, you can set `force_col_wise=true`.\n",
      "[LightGBM] [Info] Total Bins 172\n",
      "[LightGBM] [Info] Number of data points in the train set: 414203, number of used features: 16\n",
      "[LightGBM] [Info] Start training from score 0.352213\n",
      "[LightGBM] [Info] Auto-choosing row-wise multi-threading, the overhead of testing was 0.003908 seconds.\n",
      "You can set `force_row_wise=true` to remove the overhead.\n",
      "And if memory is not enough, you can set `force_col_wise=true`.\n",
      "[LightGBM] [Info] Total Bins 170\n",
      "[LightGBM] [Info] Number of data points in the train set: 414203, number of used features: 16\n",
      "[LightGBM] [Info] Start training from score 0.352408\n",
      "[LightGBM] [Info] Auto-choosing row-wise multi-threading, the overhead of testing was 0.004264 seconds.\n",
      "You can set `force_row_wise=true` to remove the overhead.\n",
      "And if memory is not enough, you can set `force_col_wise=true`.\n",
      "[LightGBM] [Info] Total Bins 175\n",
      "[LightGBM] [Info] Number of data points in the train set: 414203, number of used features: 16\n",
      "[LightGBM] [Info] Start training from score 0.352336\n",
      "[LightGBM] [Info] Auto-choosing row-wise multi-threading, the overhead of testing was 0.004843 seconds.\n",
      "You can set `force_row_wise=true` to remove the overhead.\n",
      "And if memory is not enough, you can set `force_col_wise=true`.\n",
      "[LightGBM] [Info] Total Bins 175\n",
      "[LightGBM] [Info] Number of data points in the train set: 414203, number of used features: 16\n",
      "[LightGBM] [Info] Start training from score 0.352616\n",
      "[LightGBM] [Info] Auto-choosing row-wise multi-threading, the overhead of testing was 0.004168 seconds.\n",
      "You can set `force_row_wise=true` to remove the overhead.\n",
      "And if memory is not enough, you can set `force_col_wise=true`.\n",
      "[LightGBM] [Info] Total Bins 168\n",
      "[LightGBM] [Info] Number of data points in the train set: 414204, number of used features: 16\n",
      "[LightGBM] [Info] Start training from score 0.352314\n"
     ]
    },
    {
     "name": "stderr",
     "output_type": "stream",
     "text": [
      "[I 2025-10-21 19:38:04,237] Trial 28 finished with value: 0.056144361388596756 and parameters: {'num_leaves': 201, 'max_depth': 463, 'learning_rate': 0.02556490325085705, 'n_estimator': 1024}. Best is trial 8 with value: 0.05603844107634207.\n"
     ]
    },
    {
     "name": "stdout",
     "output_type": "stream",
     "text": [
      "[LightGBM] [Info] Auto-choosing row-wise multi-threading, the overhead of testing was 0.004278 seconds.\n",
      "You can set `force_row_wise=true` to remove the overhead.\n",
      "And if memory is not enough, you can set `force_col_wise=true`.\n",
      "[LightGBM] [Info] Total Bins 171\n",
      "[LightGBM] [Info] Number of data points in the train set: 414203, number of used features: 16\n",
      "[LightGBM] [Info] Start training from score 0.352473\n",
      "[LightGBM] [Info] Auto-choosing row-wise multi-threading, the overhead of testing was 0.004073 seconds.\n",
      "You can set `force_row_wise=true` to remove the overhead.\n",
      "And if memory is not enough, you can set `force_col_wise=true`.\n",
      "[LightGBM] [Info] Total Bins 171\n",
      "[LightGBM] [Info] Number of data points in the train set: 414203, number of used features: 16\n",
      "[LightGBM] [Info] Start training from score 0.352388\n",
      "[LightGBM] [Info] Auto-choosing row-wise multi-threading, the overhead of testing was 0.004452 seconds.\n",
      "You can set `force_row_wise=true` to remove the overhead.\n",
      "And if memory is not enough, you can set `force_col_wise=true`.\n",
      "[LightGBM] [Info] Total Bins 174\n",
      "[LightGBM] [Info] Number of data points in the train set: 414203, number of used features: 16\n",
      "[LightGBM] [Info] Start training from score 0.352375\n",
      "[LightGBM] [Info] Auto-choosing row-wise multi-threading, the overhead of testing was 0.004673 seconds.\n",
      "You can set `force_row_wise=true` to remove the overhead.\n",
      "And if memory is not enough, you can set `force_col_wise=true`.\n",
      "[LightGBM] [Info] Total Bins 170\n",
      "[LightGBM] [Info] Number of data points in the train set: 414203, number of used features: 16\n",
      "[LightGBM] [Info] Start training from score 0.352334\n",
      "[LightGBM] [Info] Auto-choosing row-wise multi-threading, the overhead of testing was 0.003801 seconds.\n",
      "You can set `force_row_wise=true` to remove the overhead.\n",
      "And if memory is not enough, you can set `force_col_wise=true`.\n",
      "[LightGBM] [Info] Total Bins 169\n",
      "[LightGBM] [Info] Number of data points in the train set: 414204, number of used features: 16\n",
      "[LightGBM] [Info] Start training from score 0.352317\n"
     ]
    },
    {
     "name": "stderr",
     "output_type": "stream",
     "text": [
      "[I 2025-10-21 19:38:22,835] Trial 29 finished with value: 0.0561364323171434 and parameters: {'num_leaves': 47, 'max_depth': 424, 'learning_rate': 0.07638882488574578, 'n_estimator': 857}. Best is trial 8 with value: 0.05603844107634207.\n"
     ]
    },
    {
     "name": "stdout",
     "output_type": "stream",
     "text": [
      "[LightGBM] [Info] Auto-choosing row-wise multi-threading, the overhead of testing was 0.004050 seconds.\n",
      "You can set `force_row_wise=true` to remove the overhead.\n",
      "And if memory is not enough, you can set `force_col_wise=true`.\n",
      "[LightGBM] [Info] Total Bins 170\n",
      "[LightGBM] [Info] Number of data points in the train set: 414203, number of used features: 16\n",
      "[LightGBM] [Info] Start training from score 0.352238\n",
      "[LightGBM] [Info] Auto-choosing row-wise multi-threading, the overhead of testing was 0.004299 seconds.\n",
      "You can set `force_row_wise=true` to remove the overhead.\n",
      "And if memory is not enough, you can set `force_col_wise=true`.\n",
      "[LightGBM] [Info] Total Bins 174\n",
      "[LightGBM] [Info] Number of data points in the train set: 414203, number of used features: 16\n",
      "[LightGBM] [Info] Start training from score 0.352247\n",
      "[LightGBM] [Info] Auto-choosing row-wise multi-threading, the overhead of testing was 0.004179 seconds.\n",
      "You can set `force_row_wise=true` to remove the overhead.\n",
      "And if memory is not enough, you can set `force_col_wise=true`.\n",
      "[LightGBM] [Info] Total Bins 167\n",
      "[LightGBM] [Info] Number of data points in the train set: 414203, number of used features: 16\n",
      "[LightGBM] [Info] Start training from score 0.352624\n",
      "[LightGBM] [Info] Auto-choosing row-wise multi-threading, the overhead of testing was 0.003929 seconds.\n",
      "You can set `force_row_wise=true` to remove the overhead.\n",
      "And if memory is not enough, you can set `force_col_wise=true`.\n",
      "[LightGBM] [Info] Total Bins 177\n",
      "[LightGBM] [Info] Number of data points in the train set: 414203, number of used features: 16\n",
      "[LightGBM] [Info] Start training from score 0.352532\n",
      "[LightGBM] [Info] Auto-choosing row-wise multi-threading, the overhead of testing was 0.003620 seconds.\n",
      "You can set `force_row_wise=true` to remove the overhead.\n",
      "And if memory is not enough, you can set `force_col_wise=true`.\n",
      "[LightGBM] [Info] Total Bins 174\n",
      "[LightGBM] [Info] Number of data points in the train set: 414204, number of used features: 16\n",
      "[LightGBM] [Info] Start training from score 0.352246\n"
     ]
    },
    {
     "name": "stderr",
     "output_type": "stream",
     "text": [
      "[I 2025-10-21 19:38:38,362] Trial 30 finished with value: 0.05625537281108077 and parameters: {'num_leaves': 85, 'max_depth': 380, 'learning_rate': 0.11902259295502632, 'n_estimator': 609}. Best is trial 8 with value: 0.05603844107634207.\n"
     ]
    },
    {
     "name": "stdout",
     "output_type": "stream",
     "text": [
      "[LightGBM] [Info] Auto-choosing row-wise multi-threading, the overhead of testing was 0.003912 seconds.\n",
      "You can set `force_row_wise=true` to remove the overhead.\n",
      "And if memory is not enough, you can set `force_col_wise=true`.\n",
      "[LightGBM] [Info] Total Bins 171\n",
      "[LightGBM] [Info] Number of data points in the train set: 414203, number of used features: 16\n",
      "[LightGBM] [Info] Start training from score 0.352473\n",
      "[LightGBM] [Info] Auto-choosing row-wise multi-threading, the overhead of testing was 0.004398 seconds.\n",
      "You can set `force_row_wise=true` to remove the overhead.\n",
      "And if memory is not enough, you can set `force_col_wise=true`.\n",
      "[LightGBM] [Info] Total Bins 173\n",
      "[LightGBM] [Info] Number of data points in the train set: 414203, number of used features: 16\n",
      "[LightGBM] [Info] Start training from score 0.352452\n",
      "[LightGBM] [Info] Auto-choosing row-wise multi-threading, the overhead of testing was 0.003646 seconds.\n",
      "You can set `force_row_wise=true` to remove the overhead.\n",
      "And if memory is not enough, you can set `force_col_wise=true`.\n",
      "[LightGBM] [Info] Total Bins 171\n",
      "[LightGBM] [Info] Number of data points in the train set: 414203, number of used features: 16\n",
      "[LightGBM] [Info] Start training from score 0.352528\n",
      "[LightGBM] [Info] Auto-choosing row-wise multi-threading, the overhead of testing was 0.003790 seconds.\n",
      "You can set `force_row_wise=true` to remove the overhead.\n",
      "And if memory is not enough, you can set `force_col_wise=true`.\n",
      "[LightGBM] [Info] Total Bins 177\n",
      "[LightGBM] [Info] Number of data points in the train set: 414203, number of used features: 16\n",
      "[LightGBM] [Info] Start training from score 0.352127\n",
      "[LightGBM] [Info] Auto-choosing row-wise multi-threading, the overhead of testing was 0.004262 seconds.\n",
      "You can set `force_row_wise=true` to remove the overhead.\n",
      "And if memory is not enough, you can set `force_col_wise=true`.\n",
      "[LightGBM] [Info] Total Bins 179\n",
      "[LightGBM] [Info] Number of data points in the train set: 414204, number of used features: 16\n",
      "[LightGBM] [Info] Start training from score 0.352308\n"
     ]
    },
    {
     "name": "stderr",
     "output_type": "stream",
     "text": [
      "[I 2025-10-21 19:39:03,049] Trial 31 finished with value: 0.05604183252824883 and parameters: {'num_leaves': 131, 'max_depth': 410, 'learning_rate': 0.021841480687821706, 'n_estimator': 479}. Best is trial 8 with value: 0.05603844107634207.\n"
     ]
    },
    {
     "name": "stdout",
     "output_type": "stream",
     "text": [
      "[LightGBM] [Info] Auto-choosing row-wise multi-threading, the overhead of testing was 0.003778 seconds.\n",
      "You can set `force_row_wise=true` to remove the overhead.\n",
      "And if memory is not enough, you can set `force_col_wise=true`.\n",
      "[LightGBM] [Info] Total Bins 173\n",
      "[LightGBM] [Info] Number of data points in the train set: 414203, number of used features: 16\n",
      "[LightGBM] [Info] Start training from score 0.352365\n",
      "[LightGBM] [Info] Auto-choosing row-wise multi-threading, the overhead of testing was 0.004279 seconds.\n",
      "You can set `force_row_wise=true` to remove the overhead.\n",
      "And if memory is not enough, you can set `force_col_wise=true`.\n",
      "[LightGBM] [Info] Total Bins 175\n",
      "[LightGBM] [Info] Number of data points in the train set: 414203, number of used features: 16\n",
      "[LightGBM] [Info] Start training from score 0.352422\n",
      "[LightGBM] [Info] Auto-choosing row-wise multi-threading, the overhead of testing was 0.004380 seconds.\n",
      "You can set `force_row_wise=true` to remove the overhead.\n",
      "And if memory is not enough, you can set `force_col_wise=true`.\n",
      "[LightGBM] [Info] Total Bins 173\n",
      "[LightGBM] [Info] Number of data points in the train set: 414203, number of used features: 16\n",
      "[LightGBM] [Info] Start training from score 0.352501\n",
      "[LightGBM] [Info] Auto-choosing row-wise multi-threading, the overhead of testing was 0.004730 seconds.\n",
      "You can set `force_row_wise=true` to remove the overhead.\n",
      "And if memory is not enough, you can set `force_col_wise=true`.\n",
      "[LightGBM] [Info] Total Bins 171\n",
      "[LightGBM] [Info] Number of data points in the train set: 414203, number of used features: 16\n",
      "[LightGBM] [Info] Start training from score 0.352285\n",
      "[LightGBM] [Info] Auto-choosing row-wise multi-threading, the overhead of testing was 0.004241 seconds.\n",
      "You can set `force_row_wise=true` to remove the overhead.\n",
      "And if memory is not enough, you can set `force_col_wise=true`.\n",
      "[LightGBM] [Info] Total Bins 176\n",
      "[LightGBM] [Info] Number of data points in the train set: 414204, number of used features: 16\n",
      "[LightGBM] [Info] Start training from score 0.352314\n"
     ]
    },
    {
     "name": "stderr",
     "output_type": "stream",
     "text": [
      "[I 2025-10-21 19:39:21,949] Trial 32 finished with value: 0.05608927575628201 and parameters: {'num_leaves': 125, 'max_depth': 406, 'learning_rate': 0.049443822697090044, 'n_estimator': 504}. Best is trial 8 with value: 0.05603844107634207.\n"
     ]
    },
    {
     "name": "stdout",
     "output_type": "stream",
     "text": [
      "[LightGBM] [Info] Auto-choosing row-wise multi-threading, the overhead of testing was 0.003958 seconds.\n",
      "You can set `force_row_wise=true` to remove the overhead.\n",
      "And if memory is not enough, you can set `force_col_wise=true`.\n",
      "[LightGBM] [Info] Total Bins 170\n",
      "[LightGBM] [Info] Number of data points in the train set: 414203, number of used features: 16\n",
      "[LightGBM] [Info] Start training from score 0.352218\n",
      "[LightGBM] [Info] Auto-choosing row-wise multi-threading, the overhead of testing was 0.003502 seconds.\n",
      "You can set `force_row_wise=true` to remove the overhead.\n",
      "And if memory is not enough, you can set `force_col_wise=true`.\n",
      "[LightGBM] [Info] Total Bins 173\n",
      "[LightGBM] [Info] Number of data points in the train set: 414203, number of used features: 16\n",
      "[LightGBM] [Info] Start training from score 0.352429\n",
      "[LightGBM] [Info] Auto-choosing row-wise multi-threading, the overhead of testing was 0.004610 seconds.\n",
      "You can set `force_row_wise=true` to remove the overhead.\n",
      "And if memory is not enough, you can set `force_col_wise=true`.\n",
      "[LightGBM] [Info] Total Bins 172\n",
      "[LightGBM] [Info] Number of data points in the train set: 414203, number of used features: 16\n",
      "[LightGBM] [Info] Start training from score 0.352437\n",
      "[LightGBM] [Info] Auto-choosing row-wise multi-threading, the overhead of testing was 0.003926 seconds.\n",
      "You can set `force_row_wise=true` to remove the overhead.\n",
      "And if memory is not enough, you can set `force_col_wise=true`.\n",
      "[LightGBM] [Info] Total Bins 175\n",
      "[LightGBM] [Info] Number of data points in the train set: 414203, number of used features: 16\n",
      "[LightGBM] [Info] Start training from score 0.352570\n",
      "[LightGBM] [Info] Auto-choosing row-wise multi-threading, the overhead of testing was 0.003298 seconds.\n",
      "You can set `force_row_wise=true` to remove the overhead.\n",
      "And if memory is not enough, you can set `force_col_wise=true`.\n",
      "[LightGBM] [Info] Total Bins 175\n",
      "[LightGBM] [Info] Number of data points in the train set: 414204, number of used features: 16\n",
      "[LightGBM] [Info] Start training from score 0.352232\n"
     ]
    },
    {
     "name": "stderr",
     "output_type": "stream",
     "text": [
      "[I 2025-10-21 19:39:45,471] Trial 33 finished with value: 0.056040728538950445 and parameters: {'num_leaves': 143, 'max_depth': 335, 'learning_rate': 0.018086784162432527, 'n_estimator': 405}. Best is trial 8 with value: 0.05603844107634207.\n"
     ]
    },
    {
     "name": "stdout",
     "output_type": "stream",
     "text": [
      "[LightGBM] [Info] Auto-choosing row-wise multi-threading, the overhead of testing was 0.004493 seconds.\n",
      "You can set `force_row_wise=true` to remove the overhead.\n",
      "And if memory is not enough, you can set `force_col_wise=true`.\n",
      "[LightGBM] [Info] Total Bins 178\n",
      "[LightGBM] [Info] Number of data points in the train set: 414203, number of used features: 16\n",
      "[LightGBM] [Info] Start training from score 0.352183\n",
      "[LightGBM] [Info] Auto-choosing row-wise multi-threading, the overhead of testing was 0.003953 seconds.\n",
      "You can set `force_row_wise=true` to remove the overhead.\n",
      "And if memory is not enough, you can set `force_col_wise=true`.\n",
      "[LightGBM] [Info] Total Bins 171\n",
      "[LightGBM] [Info] Number of data points in the train set: 414203, number of used features: 16\n",
      "[LightGBM] [Info] Start training from score 0.352261\n",
      "[LightGBM] [Info] Auto-choosing row-wise multi-threading, the overhead of testing was 0.003850 seconds.\n",
      "You can set `force_row_wise=true` to remove the overhead.\n",
      "And if memory is not enough, you can set `force_col_wise=true`.\n",
      "[LightGBM] [Info] Total Bins 176\n",
      "[LightGBM] [Info] Number of data points in the train set: 414203, number of used features: 16\n",
      "[LightGBM] [Info] Start training from score 0.352520\n",
      "[LightGBM] [Info] Auto-choosing row-wise multi-threading, the overhead of testing was 0.004801 seconds.\n",
      "You can set `force_row_wise=true` to remove the overhead.\n",
      "And if memory is not enough, you can set `force_col_wise=true`.\n",
      "[LightGBM] [Info] Total Bins 176\n",
      "[LightGBM] [Info] Number of data points in the train set: 414203, number of used features: 16\n",
      "[LightGBM] [Info] Start training from score 0.352534\n",
      "[LightGBM] [Info] Auto-choosing row-wise multi-threading, the overhead of testing was 0.005786 seconds.\n",
      "You can set `force_row_wise=true` to remove the overhead.\n",
      "And if memory is not enough, you can set `force_col_wise=true`.\n",
      "[LightGBM] [Info] Total Bins 176\n",
      "[LightGBM] [Info] Number of data points in the train set: 414204, number of used features: 16\n",
      "[LightGBM] [Info] Start training from score 0.352389\n"
     ]
    },
    {
     "name": "stderr",
     "output_type": "stream",
     "text": [
      "[I 2025-10-21 19:40:08,028] Trial 34 finished with value: 0.05604143553567757 and parameters: {'num_leaves': 172, 'max_depth': 282, 'learning_rate': 0.023632199562509504, 'n_estimator': 347}. Best is trial 8 with value: 0.05603844107634207.\n"
     ]
    },
    {
     "name": "stdout",
     "output_type": "stream",
     "text": [
      "[LightGBM] [Info] Auto-choosing row-wise multi-threading, the overhead of testing was 0.003685 seconds.\n",
      "You can set `force_row_wise=true` to remove the overhead.\n",
      "And if memory is not enough, you can set `force_col_wise=true`.\n",
      "[LightGBM] [Info] Total Bins 170\n",
      "[LightGBM] [Info] Number of data points in the train set: 414203, number of used features: 16\n",
      "[LightGBM] [Info] Start training from score 0.352339\n",
      "[LightGBM] [Info] Auto-choosing row-wise multi-threading, the overhead of testing was 0.005402 seconds.\n",
      "You can set `force_row_wise=true` to remove the overhead.\n",
      "And if memory is not enough, you can set `force_col_wise=true`.\n",
      "[LightGBM] [Info] Total Bins 173\n",
      "[LightGBM] [Info] Number of data points in the train set: 414203, number of used features: 16\n",
      "[LightGBM] [Info] Start training from score 0.352515\n",
      "[LightGBM] [Info] Auto-choosing row-wise multi-threading, the overhead of testing was 0.003565 seconds.\n",
      "You can set `force_row_wise=true` to remove the overhead.\n",
      "And if memory is not enough, you can set `force_col_wise=true`.\n",
      "[LightGBM] [Info] Total Bins 173\n",
      "[LightGBM] [Info] Number of data points in the train set: 414203, number of used features: 16\n",
      "[LightGBM] [Info] Start training from score 0.352488\n",
      "[LightGBM] [Info] Auto-choosing row-wise multi-threading, the overhead of testing was 0.004266 seconds.\n",
      "You can set `force_row_wise=true` to remove the overhead.\n",
      "And if memory is not enough, you can set `force_col_wise=true`.\n",
      "[LightGBM] [Info] Total Bins 173\n",
      "[LightGBM] [Info] Number of data points in the train set: 414203, number of used features: 16\n",
      "[LightGBM] [Info] Start training from score 0.352336\n",
      "[LightGBM] [Info] Auto-choosing row-wise multi-threading, the overhead of testing was 0.004882 seconds.\n",
      "You can set `force_row_wise=true` to remove the overhead.\n",
      "And if memory is not enough, you can set `force_col_wise=true`.\n",
      "[LightGBM] [Info] Total Bins 173\n",
      "[LightGBM] [Info] Number of data points in the train set: 414204, number of used features: 16\n",
      "[LightGBM] [Info] Start training from score 0.352209\n"
     ]
    },
    {
     "name": "stderr",
     "output_type": "stream",
     "text": [
      "[I 2025-10-21 19:40:23,765] Trial 35 finished with value: 0.056121579230787665 and parameters: {'num_leaves': 168, 'max_depth': 264, 'learning_rate': 0.07526818637961666, 'n_estimator': 356}. Best is trial 8 with value: 0.05603844107634207.\n"
     ]
    },
    {
     "name": "stdout",
     "output_type": "stream",
     "text": [
      "[LightGBM] [Info] Auto-choosing row-wise multi-threading, the overhead of testing was 0.004139 seconds.\n",
      "You can set `force_row_wise=true` to remove the overhead.\n",
      "And if memory is not enough, you can set `force_col_wise=true`.\n",
      "[LightGBM] [Info] Total Bins 172\n",
      "[LightGBM] [Info] Number of data points in the train set: 414203, number of used features: 16\n",
      "[LightGBM] [Info] Start training from score 0.352554\n",
      "[LightGBM] [Info] Auto-choosing row-wise multi-threading, the overhead of testing was 0.003766 seconds.\n",
      "You can set `force_row_wise=true` to remove the overhead.\n",
      "And if memory is not enough, you can set `force_col_wise=true`.\n",
      "[LightGBM] [Info] Total Bins 173\n",
      "[LightGBM] [Info] Number of data points in the train set: 414203, number of used features: 16\n",
      "[LightGBM] [Info] Start training from score 0.352350\n",
      "[LightGBM] [Info] Auto-choosing row-wise multi-threading, the overhead of testing was 0.004488 seconds.\n",
      "You can set `force_row_wise=true` to remove the overhead.\n",
      "And if memory is not enough, you can set `force_col_wise=true`.\n",
      "[LightGBM] [Info] Total Bins 171\n",
      "[LightGBM] [Info] Number of data points in the train set: 414203, number of used features: 16\n",
      "[LightGBM] [Info] Start training from score 0.352235\n",
      "[LightGBM] [Info] Auto-choosing row-wise multi-threading, the overhead of testing was 0.005820 seconds.\n",
      "You can set `force_row_wise=true` to remove the overhead.\n",
      "And if memory is not enough, you can set `force_col_wise=true`.\n",
      "[LightGBM] [Info] Total Bins 176\n",
      "[LightGBM] [Info] Number of data points in the train set: 414203, number of used features: 16\n",
      "[LightGBM] [Info] Start training from score 0.352301\n",
      "[LightGBM] [Info] Auto-choosing row-wise multi-threading, the overhead of testing was 0.005390 seconds.\n",
      "You can set `force_row_wise=true` to remove the overhead.\n",
      "And if memory is not enough, you can set `force_col_wise=true`.\n",
      "[LightGBM] [Info] Total Bins 181\n",
      "[LightGBM] [Info] Number of data points in the train set: 414204, number of used features: 16\n",
      "[LightGBM] [Info] Start training from score 0.352448\n"
     ]
    },
    {
     "name": "stderr",
     "output_type": "stream",
     "text": [
      "[I 2025-10-21 19:40:43,200] Trial 36 finished with value: 0.05605220113257572 and parameters: {'num_leaves': 174, 'max_depth': 350, 'learning_rate': 0.020926752000070742, 'n_estimator': 290}. Best is trial 8 with value: 0.05603844107634207.\n"
     ]
    },
    {
     "name": "stdout",
     "output_type": "stream",
     "text": [
      "[LightGBM] [Info] Auto-choosing row-wise multi-threading, the overhead of testing was 0.004986 seconds.\n",
      "You can set `force_row_wise=true` to remove the overhead.\n",
      "And if memory is not enough, you can set `force_col_wise=true`.\n",
      "[LightGBM] [Info] Total Bins 175\n",
      "[LightGBM] [Info] Number of data points in the train set: 414203, number of used features: 16\n",
      "[LightGBM] [Info] Start training from score 0.352380\n",
      "[LightGBM] [Info] Auto-choosing row-wise multi-threading, the overhead of testing was 0.004734 seconds.\n",
      "You can set `force_row_wise=true` to remove the overhead.\n",
      "And if memory is not enough, you can set `force_col_wise=true`.\n",
      "[LightGBM] [Info] Total Bins 172\n",
      "[LightGBM] [Info] Number of data points in the train set: 414203, number of used features: 16\n",
      "[LightGBM] [Info] Start training from score 0.352552\n",
      "[LightGBM] [Info] Auto-choosing row-wise multi-threading, the overhead of testing was 0.004279 seconds.\n",
      "You can set `force_row_wise=true` to remove the overhead.\n",
      "And if memory is not enough, you can set `force_col_wise=true`.\n",
      "[LightGBM] [Info] Total Bins 172\n",
      "[LightGBM] [Info] Number of data points in the train set: 414203, number of used features: 16\n",
      "[LightGBM] [Info] Start training from score 0.352284\n",
      "[LightGBM] [Info] Auto-choosing row-wise multi-threading, the overhead of testing was 0.004463 seconds.\n",
      "You can set `force_row_wise=true` to remove the overhead.\n",
      "And if memory is not enough, you can set `force_col_wise=true`.\n",
      "[LightGBM] [Info] Total Bins 175\n",
      "[LightGBM] [Info] Number of data points in the train set: 414203, number of used features: 16\n",
      "[LightGBM] [Info] Start training from score 0.352397\n",
      "[LightGBM] [Info] Auto-choosing row-wise multi-threading, the overhead of testing was 0.004195 seconds.\n",
      "You can set `force_row_wise=true` to remove the overhead.\n",
      "And if memory is not enough, you can set `force_col_wise=true`.\n",
      "[LightGBM] [Info] Total Bins 173\n",
      "[LightGBM] [Info] Number of data points in the train set: 414204, number of used features: 16\n",
      "[LightGBM] [Info] Start training from score 0.352275\n"
     ]
    },
    {
     "name": "stderr",
     "output_type": "stream",
     "text": [
      "[I 2025-10-21 19:40:59,982] Trial 37 finished with value: 0.05631000018685722 and parameters: {'num_leaves': 189, 'max_depth': 283, 'learning_rate': 0.1010893584382897, 'n_estimator': 458}. Best is trial 8 with value: 0.05603844107634207.\n"
     ]
    },
    {
     "name": "stdout",
     "output_type": "stream",
     "text": [
      "[LightGBM] [Info] Auto-choosing row-wise multi-threading, the overhead of testing was 0.005347 seconds.\n",
      "You can set `force_row_wise=true` to remove the overhead.\n",
      "And if memory is not enough, you can set `force_col_wise=true`.\n",
      "[LightGBM] [Info] Total Bins 173\n",
      "[LightGBM] [Info] Number of data points in the train set: 414203, number of used features: 16\n",
      "[LightGBM] [Info] Start training from score 0.352155\n",
      "[LightGBM] [Info] Auto-choosing row-wise multi-threading, the overhead of testing was 0.004540 seconds.\n",
      "You can set `force_row_wise=true` to remove the overhead.\n",
      "And if memory is not enough, you can set `force_col_wise=true`.\n",
      "[LightGBM] [Info] Total Bins 176\n",
      "[LightGBM] [Info] Number of data points in the train set: 414203, number of used features: 16\n",
      "[LightGBM] [Info] Start training from score 0.352389\n",
      "[LightGBM] [Info] Auto-choosing row-wise multi-threading, the overhead of testing was 0.003827 seconds.\n",
      "You can set `force_row_wise=true` to remove the overhead.\n",
      "And if memory is not enough, you can set `force_col_wise=true`.\n",
      "[LightGBM] [Info] Total Bins 177\n",
      "[LightGBM] [Info] Number of data points in the train set: 414203, number of used features: 16\n",
      "[LightGBM] [Info] Start training from score 0.352329\n",
      "[LightGBM] [Info] Auto-choosing row-wise multi-threading, the overhead of testing was 0.003811 seconds.\n",
      "You can set `force_row_wise=true` to remove the overhead.\n",
      "And if memory is not enough, you can set `force_col_wise=true`.\n",
      "[LightGBM] [Info] Total Bins 178\n",
      "[LightGBM] [Info] Number of data points in the train set: 414203, number of used features: 16\n",
      "[LightGBM] [Info] Start training from score 0.352524\n",
      "[LightGBM] [Info] Auto-choosing row-wise multi-threading, the overhead of testing was 0.005126 seconds.\n",
      "You can set `force_row_wise=true` to remove the overhead.\n",
      "And if memory is not enough, you can set `force_col_wise=true`.\n",
      "[LightGBM] [Info] Total Bins 173\n",
      "[LightGBM] [Info] Number of data points in the train set: 414204, number of used features: 16\n",
      "[LightGBM] [Info] Start training from score 0.352489\n"
     ]
    },
    {
     "name": "stderr",
     "output_type": "stream",
     "text": [
      "[I 2025-10-21 19:41:09,446] Trial 38 finished with value: 0.05604193437231023 and parameters: {'num_leaves': 143, 'max_depth': 217, 'learning_rate': 0.05427582161056233, 'n_estimator': 211}. Best is trial 8 with value: 0.05603844107634207.\n"
     ]
    },
    {
     "name": "stdout",
     "output_type": "stream",
     "text": [
      "[LightGBM] [Info] Auto-choosing row-wise multi-threading, the overhead of testing was 0.004134 seconds.\n",
      "You can set `force_row_wise=true` to remove the overhead.\n",
      "And if memory is not enough, you can set `force_col_wise=true`.\n",
      "[LightGBM] [Info] Total Bins 173\n",
      "[LightGBM] [Info] Number of data points in the train set: 414203, number of used features: 16\n",
      "[LightGBM] [Info] Start training from score 0.352293\n",
      "[LightGBM] [Info] Auto-choosing row-wise multi-threading, the overhead of testing was 0.004927 seconds.\n",
      "You can set `force_row_wise=true` to remove the overhead.\n",
      "And if memory is not enough, you can set `force_col_wise=true`.\n",
      "[LightGBM] [Info] Total Bins 171\n",
      "[LightGBM] [Info] Number of data points in the train set: 414203, number of used features: 16\n",
      "[LightGBM] [Info] Start training from score 0.352375\n",
      "[LightGBM] [Info] Auto-choosing row-wise multi-threading, the overhead of testing was 0.004238 seconds.\n",
      "You can set `force_row_wise=true` to remove the overhead.\n",
      "And if memory is not enough, you can set `force_col_wise=true`.\n",
      "[LightGBM] [Info] Total Bins 170\n",
      "[LightGBM] [Info] Number of data points in the train set: 414203, number of used features: 16\n",
      "[LightGBM] [Info] Start training from score 0.352307\n",
      "[LightGBM] [Info] Auto-choosing row-wise multi-threading, the overhead of testing was 0.005048 seconds.\n",
      "You can set `force_row_wise=true` to remove the overhead.\n",
      "And if memory is not enough, you can set `force_col_wise=true`.\n",
      "[LightGBM] [Info] Total Bins 173\n",
      "[LightGBM] [Info] Number of data points in the train set: 414203, number of used features: 16\n",
      "[LightGBM] [Info] Start training from score 0.352468\n",
      "[LightGBM] [Info] Auto-choosing row-wise multi-threading, the overhead of testing was 0.004395 seconds.\n",
      "You can set `force_row_wise=true` to remove the overhead.\n",
      "And if memory is not enough, you can set `force_col_wise=true`.\n",
      "[LightGBM] [Info] Total Bins 172\n",
      "[LightGBM] [Info] Number of data points in the train set: 414204, number of used features: 16\n",
      "[LightGBM] [Info] Start training from score 0.352445\n"
     ]
    },
    {
     "name": "stderr",
     "output_type": "stream",
     "text": [
      "[I 2025-10-21 19:41:36,933] Trial 39 finished with value: 0.056143098012558304 and parameters: {'num_leaves': 245, 'max_depth': 333, 'learning_rate': 0.04273995067570475, 'n_estimator': 544}. Best is trial 8 with value: 0.05603844107634207.\n"
     ]
    },
    {
     "name": "stdout",
     "output_type": "stream",
     "text": [
      "[LightGBM] [Info] Auto-choosing row-wise multi-threading, the overhead of testing was 0.004984 seconds.\n",
      "You can set `force_row_wise=true` to remove the overhead.\n",
      "And if memory is not enough, you can set `force_col_wise=true`.\n",
      "[LightGBM] [Info] Total Bins 173\n",
      "[LightGBM] [Info] Number of data points in the train set: 414203, number of used features: 16\n",
      "[LightGBM] [Info] Start training from score 0.352469\n",
      "[LightGBM] [Info] Auto-choosing row-wise multi-threading, the overhead of testing was 0.005450 seconds.\n",
      "You can set `force_row_wise=true` to remove the overhead.\n",
      "And if memory is not enough, you can set `force_col_wise=true`.\n",
      "[LightGBM] [Info] Total Bins 174\n",
      "[LightGBM] [Info] Number of data points in the train set: 414203, number of used features: 16\n",
      "[LightGBM] [Info] Start training from score 0.352359\n",
      "[LightGBM] [Info] Auto-choosing row-wise multi-threading, the overhead of testing was 0.003953 seconds.\n",
      "You can set `force_row_wise=true` to remove the overhead.\n",
      "And if memory is not enough, you can set `force_col_wise=true`.\n",
      "[LightGBM] [Info] Total Bins 179\n",
      "[LightGBM] [Info] Number of data points in the train set: 414203, number of used features: 16\n",
      "[LightGBM] [Info] Start training from score 0.352200\n",
      "[LightGBM] [Info] Auto-choosing row-wise multi-threading, the overhead of testing was 0.004623 seconds.\n",
      "You can set `force_row_wise=true` to remove the overhead.\n",
      "And if memory is not enough, you can set `force_col_wise=true`.\n",
      "[LightGBM] [Info] Total Bins 174\n",
      "[LightGBM] [Info] Number of data points in the train set: 414203, number of used features: 16\n",
      "[LightGBM] [Info] Start training from score 0.352342\n"
     ]
    }
   ],
   "source": [
    "study = optuna.create_study()\n",
    "study.optimize(objective, n_trials=100)"
   ]
  },
  {
   "cell_type": "markdown",
   "id": "8784033f-af93-4ede-8c01-6a3a198023ac",
   "metadata": {},
   "source": [
    "#### Full train"
   ]
  }
 ],
 "metadata": {
  "kernelspec": {
   "display_name": "Python 3 (ipykernel)",
   "language": "python",
   "name": "python3"
  },
  "language_info": {
   "codemirror_mode": {
    "name": "ipython",
    "version": 3
   },
   "file_extension": ".py",
   "mimetype": "text/x-python",
   "name": "python",
   "nbconvert_exporter": "python",
   "pygments_lexer": "ipython3",
   "version": "3.12.2"
  }
 },
 "nbformat": 4,
 "nbformat_minor": 5
}
