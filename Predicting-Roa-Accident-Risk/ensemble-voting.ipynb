{
 "cells": [
  {
   "cell_type": "markdown",
   "id": "6de0a15e-01c7-4833-861f-a49df854ce35",
   "metadata": {},
   "source": [
    "# Ensemble voting\n",
    "In this notebook we will use the models that tuned their parameters in optuna again, and utilize in one model."
   ]
  },
  {
   "cell_type": "code",
   "execution_count": 29,
   "id": "669e1610-ce52-4650-8bf4-01527139472d",
   "metadata": {},
   "outputs": [],
   "source": [
    "import pandas as pd\n",
    "import numpy as np\n",
    "import optuna\n",
    "\n",
    "from xgboost import XGBRegressor\n",
    "from lightgbm import LGBMRegressor\n",
    "from sklearn.linear_model import SGDRegressor\n",
    "from sklearn.linear_model import BayesianRidge\n",
    "from sklearn.ensemble import VotingRegressor\n",
    "from catboost import CatBoostRegressor\n",
    "\n",
    "from sklearn.model_selection import KFold\n",
    "from sklearn.metrics import root_mean_squared_error"
   ]
  },
  {
   "cell_type": "markdown",
   "id": "fad461df-8279-4488-a2f3-fa5ceb4fe283",
   "metadata": {},
   "source": [
    "## Models parameters"
   ]
  },
  {
   "cell_type": "code",
   "execution_count": 31,
   "id": "f85e1a6f-96ba-462e-b4bc-379510773e36",
   "metadata": {},
   "outputs": [],
   "source": [
    "# TODO: don't forget device='cuda'\n",
    "xgb_parameters = {} # Must trained again, wrong cv\n",
    "\n",
    "lgbm_parameters = {\n",
    "    'num_leaves': 66,\n",
    "    'max_depth': 449,\n",
    "    'learning_rate': 0.03502441310895256,\n",
    "    'n_estimatora': 820,\n",
    "    'subsample': 0.592592101509771,\n",
    "    'colsample_bytree': 0.6862792428425046\n",
    "}\n",
    "\n",
    "sgd_parameters = {\n",
    "    'penalty': None,\n",
    "    'alpha': 4.223601774273774,\n",
    "    'l1_ratio': 0.8940821225850496\n",
    "}\n",
    "\n",
    "bayes_ridge_parameters = {\n",
    "    'alpha_1': 0.012972867153230679,\n",
    "    'alpha_2': 0.03937728242649084,\n",
    "    'lambda_1': 5.3000736672220825e-06,\n",
    "    'lambda_2': 0.07761015011781103\n",
    "}\n",
    "\n",
    "cat_parameters = {} # it's not trained, don't forget task_type='GPU'"
   ]
  },
  {
   "cell_type": "markdown",
   "id": "329e0884-7449-4e01-8f74-6aa6957b10b8",
   "metadata": {},
   "source": [
    "## Data and evaluation"
   ]
  },
  {
   "cell_type": "code",
   "execution_count": null,
   "id": "b9b312a3-e906-431b-aab5-e96194e2cc68",
   "metadata": {},
   "outputs": [],
   "source": [
    "df = pd.read_csv('data/train_pp.csv')\n",
    "test_df = pd.read_csv('data/test_pp.csv')\n",
    "\n",
    "X = df.drop(['accident_risk', 'id'], axis=1)\n",
    "y = df['accident_risk']"
   ]
  },
  {
   "cell_type": "code",
   "execution_count": null,
   "id": "0e416711-278a-414e-b26d-23fa0130f783",
   "metadata": {},
   "outputs": [],
   "source": [
    "def submission_generator(trained_model):\n",
    "    test_df_preprocessed = test_df.drop('id', axis=1)\n",
    "    return pd.concat([test_df['id'], pd.Series(trained_model.predict(test_df_preprocessed))], axis=1).rename({0: 'accident_risk'}, axis=1)"
   ]
  },
  {
   "cell_type": "markdown",
   "id": "a68f2857-9fa8-467e-aaf7-35dd1bad8dc0",
   "metadata": {},
   "source": [
    "## Model prepration\n",
    "\n",
    "### UTILIZE WEIGHT ALSO"
   ]
  },
  {
   "cell_type": "code",
   "execution_count": null,
   "id": "effde38e-5b1d-491f-89c8-5dc76ac5e4da",
   "metadata": {},
   "outputs": [],
   "source": [
    "xgb_model = XGBRegressor(**xgb_parameters)\n",
    "lgbm_model = LGBMRegressor(**lgbm_parameters)\n",
    "sgd_model = SGDRegressor(**sgd_parameters)\n",
    "bayes_model = BayesianRidge(**bayes_ridge_parameters)\n",
    "cat_model = CatBoostRegressor(**cat_parameters)"
   ]
  },
  {
   "cell_type": "code",
   "execution_count": null,
   "id": "1e62f7a2-0077-4d9e-bad5-fe8d224fd00a",
   "metadata": {},
   "outputs": [],
   "source": [
    "estimators = [\n",
    "    ('xgb', xgb_model),\n",
    "    ('lgbm', lgbm_model),\n",
    "    ('sgd', sgd_model),\n",
    "    ('bayes', bayes_model),\n",
    "    ('cat', cat_model),\n",
    "]"
   ]
  },
  {
   "cell_type": "code",
   "execution_count": null,
   "id": "12a1ffd7-eccc-4ea9-9b6f-dc355d7b3eae",
   "metadata": {},
   "outputs": [],
   "source": [
    "kf = KFold(5, shuffle=True)\n",
    "\n",
    "rmses = []\n",
    "\n",
    "for train_index, test_index in kf.split(X):\n",
    "    voting_regressor = VotingRegressor(estimators)\n",
    "    \n",
    "    X_train = X.iloc[train_index]\n",
    "    y_train = y.iloc[train_index]\n",
    "    X_test = X.iloc[test_index]\n",
    "    y_test = y.iloc[test_index]\n",
    "\n",
    "    voting_regressor.fit(X_train, y_train)\n",
    "    y_pred = voting_regressor.predict(X_test)\n",
    "\n",
    "    rmse = root_mean_squared_error(y_pred, y_test)\n",
    "    rmses.append(rmse)\n",
    "\n",
    "np.mean(rmses)     "
   ]
  },
  {
   "cell_type": "markdown",
   "id": "92db4ca1-0488-482d-a0de-0b49b5f49237",
   "metadata": {},
   "source": [
    "### Use optuna for weights ? "
   ]
  },
  {
   "cell_type": "code",
   "execution_count": null,
   "id": "a48168e1-0ab7-4154-a162-833c41e817be",
   "metadata": {},
   "outputs": [],
   "source": [
    "kf = KFold(5, shuffle=True)\n",
    "\n",
    "def objective(trial):\n",
    "    # a: xgb, b: lgbm, c: sgd, d: bayes, e: cat\n",
    "    a = trial.suggest_float('a', 0, 1)\n",
    "    b = trial.suggest_float('b', 0, 1)\n",
    "    c = trial.suggest_float('c', 0, 1)\n",
    "    d = trial.suggest_float('d', 0, 1)\n",
    "    e = trial.suggest_float('e', 0, 1)\n",
    "\n",
    "    weights = [a, b, c, d, e]\n",
    "\n",
    "    rmses = []\n",
    "    \n",
    "    for train_index, test_index in kf.split(X):\n",
    "        voting_regressor = VotingRegressor(estimators, weights)\n",
    "        \n",
    "        X_train = X.iloc[train_index]\n",
    "        y_train = y.iloc[train_index]\n",
    "        X_test = X.iloc[test_index]\n",
    "        y_test = y.iloc[test_index]\n",
    "    \n",
    "        voting_regressor.fit(X_train, y_train)\n",
    "        y_pred = voting_regressor.predict(X_test)\n",
    "    \n",
    "        rmse = root_mean_squared_error(y_pred, y_test)\n",
    "        rmses.append(rmse)\n",
    "    \n",
    "    return np.mean(rmses)"
   ]
  },
  {
   "cell_type": "code",
   "execution_count": null,
   "id": "799070e3-ad6c-4103-aaf6-b357f7e2d24d",
   "metadata": {},
   "outputs": [],
   "source": [
    "vote_weight_study = optuna.create_study()\n",
    "vote_weight_study.optimize(objective, n_trials=2)"
   ]
  }
 ],
 "metadata": {
  "kernelspec": {
   "display_name": "Python 3 (ipykernel)",
   "language": "python",
   "name": "python3"
  },
  "language_info": {
   "codemirror_mode": {
    "name": "ipython",
    "version": 3
   },
   "file_extension": ".py",
   "mimetype": "text/x-python",
   "name": "python",
   "nbconvert_exporter": "python",
   "pygments_lexer": "ipython3",
   "version": "3.12.2"
  }
 },
 "nbformat": 4,
 "nbformat_minor": 5
}
